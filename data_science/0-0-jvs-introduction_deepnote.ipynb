{
 "cells": [
  {
   "cell_type": "markdown",
   "metadata": {
    "cell_id": "00000-3ee20133-2ebb-4ef0-b8a8-af8dc051b412",
    "deepnote_cell_type": "markdown",
    "tags": []
   },
   "source": [
    "# Introducción a Deepnote \n",
    "\n",
    "<!-- badges: start -->\n",
    "[![jvelzmagic](https://img.shields.io/badge/jvelezmagic-Personal_website-blue?&logoColor=white)](https://jvelezmagic.com/) \n",
    "[![Platzi](https://img.shields.io/badge/Platzi-Jupyter_Notebooks_para_Ciencia_de_Datos-green&logoColor=white)](https://platzi.com/datos/)\n",
    "<!-- badges: end -->\n",
    "\n",
    "![](https://assets-global.website-files.com/5f217a8e6bc2c82a9d803089/5f307245e806c6fc594a8fdd_DeepNote_August%202020-01.png)"
   ]
  },
  {
   "cell_type": "markdown",
   "metadata": {
    "cell_id": "00001-9e4707d7-9566-4a34-8c5a-c43c4cdf02ed",
    "deepnote_cell_type": "markdown",
    "deepnote_to_be_reexecuted": false,
    "execution_millis": 12,
    "execution_start": 1625625111692,
    "source_hash": "c141aac9",
    "tags": []
   },
   "source": [
    "## Primeros pasos\n",
    "\n",
    "**Deepnote** es una aplicación web compatible con [Jupyter Notebooks](https://jupyter.org/) que provee de un entorno de trabajo interactivo para **ciencia de datos** a nivel de **proyectos**. En él podrás **escribir** y **ejecutar** **código** de una forma **sencilla** y **colaborativa** en tiempo real **sin** ninguna **configuración** extra. Por lo que, es **óptimo** para comenzar a **estudiar** o **desarrollar** proyectos profesionales en **ciencia de datos**.\n",
    "\n",
    "El componente de trabajo **clave** en **Deepnote** son los **notebooks**, también conocidos como libretas interactivas o bloc de notas. Un **notebook** es una herramienta en la que puedes combinar **código ejecutable** y **texto enriquecido** (_e.g._, letras negritas) en un sólo documento. Además, podrás incluir **imágenes**, **HTML**, **LaTeX** y mucho más.\n",
    "\n",
    "Por defecto, **Deepnote** te provee de [múltiples integraciones](https://docs.deepnote.com/features/integrations) que te permitirán acceder a datos de una forma **rápida** y **efectiva**. ¿Datos en Google Drive, MongoDB u otro? No hay problema, **Deepnote** los tiene y, de no ser así, pronto los tendrá. 😉\n",
    "\n",
    "Si eres curioso (y yo sé que sí) y deseas aprender más sobre lo básico de **Deepnote**, te recomiendo su [Crash course](https://docs.deepnote.com/deepnote-crash-course-videos). Está en inglés, pero puedes complementarlo y guiarte con lo que aprenderás en esta guía. 🎯\n",
    "\n",
    "Colaborar en ciencia de datos nunca había sido tan sencillo. Es tu momento de crear, analizar y visualizar datos. ¡Tu camino como científico de datos está comenzando y el éxito clama por ti! 🙌\n",
    "\n",
    "### Instrucciones\n",
    "\n",
    "1. En tu navegador, da clic en el botón azul `Launch in Deepnote` situado en la parte superior derecha de esta pantalla.\n",
    "2. Ingresa con tu cuenta de **Google**, **Github** o crea una nueva.\n",
    "3. Lee con atención el contenido del notebook.\n",
    "3. Explora la interfaz. Nada mejor como conocer tu espacio de trabajo.\n",
    "4. Ejecuta las celdas y juega a cambiar las cosas para ver qué pasa. Es la mejor manera de aprender.\n",
    "6. ¡**Disfruta**, estás un paso más cerca de convertirte en un científico de datos! 🎉\n",
    "\n",
    "\n",
    "### Ejecución y edición de celdas\n",
    "\n",
    "#### Celdas de código\n",
    "\n",
    "A continuación, se encuentra una **celda de código** con una pequeña instrucción de Python que imprime un texto:"
   ]
  },
  {
   "cell_type": "code",
   "execution_count": null,
   "metadata": {
    "cell_id": "00002-b2057acc-ccc8-479d-8499-b36a19abdfb7",
    "deepnote_cell_type": "code",
    "deepnote_to_be_reexecuted": false,
    "execution_millis": 2193,
    "execution_start": 1626393791634,
    "source_hash": "8daab8e1",
    "tags": []
   },
   "outputs": [
    {
     "name": "stdout",
     "output_type": "stream",
     "text": [
      "¡Hola, Platzinauta!\n"
     ]
    }
   ],
   "source": [
    "print(\"¡Hola, Platzinauta!\")"
   ]
  },
  {
   "cell_type": "markdown",
   "metadata": {
    "cell_id": "00003-f9b91ae4-48ce-47ad-82c7-8f374c5f0077",
    "deepnote_cell_type": "markdown",
    "tags": []
   },
   "source": [
    "Interactuar con las **celdas de código** es tan sencillo como dar clic en ella y presionar `Command/Ctrl + Enter` para **ejecutarla** y simplemente `escribir` para **editarla**.\n",
    "\n",
    "**Nota:** Los comandos de teclado suelen abreviarse como `Command/Ctrl + ...`, indicando si debes presionas `Command` en macOS o `Ctrl` en Windows o Ubuntu. De la misma forma se utiliza `Option/Alt + ...`. 👀\n",
    "\n",
    "> Edita, ejecuta, observa y repite. Ese es el ciclo de trabajo en los **notebooks**. 😋"
   ]
  },
  {
   "cell_type": "markdown",
   "metadata": {
    "cell_id": "00004-e45e988e-d1e8-43fe-9ef6-961d55976a0c",
    "deepnote_cell_type": "markdown",
    "tags": []
   },
   "source": [
    "#### Celdas de texto\n",
    "\n",
    "Las celdas de texto dentro de los notebooks funcionan con **markdown**, el cual es un lenguaje de marcado ligero cuyo objetivo es **maximizar** la **legibilidad** y **sencillez** de escritura. Es decir, si tú observaras texto plano de markdown y lo compararas con su versión renderizada, el resultado debería lucir muy similar. ✨\n",
    "\n",
    "> De hecho, todo lo que estás leyendo en este momento ha sido escrito con **markdown**. Para observar el contenido crudo y editarlo, puedes dar doble clic sobre la celda o presionar `Enter`. Se ve muy similar, ¿cierto? 👀\n",
    "\n",
    "Para conocer más sobre cómo escribir utilizando **markdown**, te recomiendo revisar la [documentación oficial](https://www.markdownguide.org/). ¡Te aseguro que no te arrepentirás de aprender más sobre este lenguaje de marcado! 🎉\n",
    "\n",
    "Incluso puedes incluir matemáticas utilizando [LaTeX](https://www.latex-project.org/) que será renderizado por [MathJax](https://www.mathjax.org/). Por ejemplo: `$x = \\frac{-b \\pm \\sqrt{b^2 - 4ac}}{2a}$` se convierte en $x = \\frac{-b \\pm \\sqrt{b^2 - 4ac}}{2a}$"
   ]
  },
  {
   "cell_type": "markdown",
   "metadata": {
    "cell_id": "00005-8ca0377f-3194-4289-852a-faefe1414f16",
    "deepnote_cell_type": "markdown",
    "tags": []
   },
   "source": [
    "#### Añadir, mover y remover celdas\n",
    "\n",
    "Puedes **añadir** celdas utilizando los botones `+ Block` y `+ Code` que se muestran cuando te desplazas entre celdas. También, si lo prefieres, puedes **agregar** nuevas celdas de **código** arriba o abajo de la celda actual utilizando `Command/Ctrl + K` y `Command/Ctrl + J`, respectivamente. 🙌\n",
    "\n",
    "Si deseas **mover** una celda posición, deberás utilizar los atajos de teclado `Option/Alt + Shift + ↑` y `Option/Alt + Shift + ↓` para moverla hacía arriba o abajo, respectivamente.\n",
    "\n",
    "Para **eliminar** una celda puedes dar clic sobre ella y sobre la barra lateral que aparecerá a su lado derecho dar clic en el botón `Delete`. También, puedes utilizar el atajo de teclado `Command/Ctrl + Shift + Del`."
   ]
  },
  {
   "cell_type": "markdown",
   "metadata": {
    "cell_id": "00004-e14bf661-f8ba-48c5-b494-057eafb606d9",
    "deepnote_cell_type": "markdown",
    "tags": []
   },
   "source": [
    "### Variables\n",
    "\n",
    "Entre las características más destacables de las sesiones interactivas dentro de los notebooks es que las **variables** que definas en una celda pueden ser utilizadas después en otras:"
   ]
  },
  {
   "cell_type": "code",
   "execution_count": null,
   "metadata": {
    "cell_id": "00005-832f1683-c7e6-4f15-8ccc-3f317770bbb9",
    "deepnote_cell_type": "code",
    "deepnote_to_be_reexecuted": false,
    "execution_millis": 2188,
    "execution_start": 1626393791726,
    "is_output_hidden": false,
    "source_hash": "ffc44441",
    "tags": []
   },
   "outputs": [],
   "source": [
    "mi_primera_variable = \"tiene un contenido muy extenso\"\n",
    "mi_segunda_variable = \"es muy interesante\""
   ]
  },
  {
   "cell_type": "code",
   "execution_count": null,
   "metadata": {
    "cell_id": "00006-7d78223c-9a36-4ee6-a4a0-e8452134d184",
    "deepnote_cell_type": "code",
    "deepnote_to_be_reexecuted": false,
    "execution_millis": 2202,
    "execution_start": 1626393791731,
    "is_output_hidden": false,
    "source_hash": "b79a6b73",
    "tags": []
   },
   "outputs": [
    {
     "name": "stdout",
     "output_type": "stream",
     "text": [
      "¡Este curso tiene un contenido muy extenso y es muy interesante!\n"
     ]
    }
   ],
   "source": [
    "print(f\"¡Este curso {mi_primera_variable} y {mi_segunda_variable}!\")"
   ]
  },
  {
   "cell_type": "markdown",
   "metadata": {
    "cell_id": "00009-5b6ed094-cb8a-4278-a038-d42e587b7344",
    "deepnote_cell_type": "markdown",
    "tags": []
   },
   "source": [
    "### Uso de la línea de comandos (shell)\n",
    "\n",
    "En **Deepnote** y, en general, en cualquier sistema con base en **Jupyter Notebooks** o **Ipython** puedes ejecutar **comandos** de la **línea de comandos** (_shell_) en las celdas de los **notebooks** al poner un signo de exclamación o bang (`!`) al inicio del comando. 🙌\n",
    "\n",
    "Esto puede ser muy útil para muchas cosas, como **crear**, **mover** o **eliminar** archivos. También, podrás utilizarlo para **instalar** dependencias del sistema o librerías para Python. Prácticamente, podrás hacer **todo**. 👀\n",
    "\n",
    "Aquí te dejo el [Curso de Introducción a la Terminal y Línea de Comandos](https://platzi.com/clases/terminal/) de [Enrique Devars](https://twitter.com/codevars/) por si deseas profundizar más en el tema. 😉\n",
    "\n",
    "De requerirlo, en **Deepnote** podrás abrir una terminal propia dirigiéndote a la barra lateral de este notebook y dando clic en **_Terminals_**.\n",
    "\n",
    "> Si estás leyendo esto a través del notebook publicado, da click en el botón `Launch in Deepnote` para poder observar la barra de herramientas. 😋"
   ]
  },
  {
   "cell_type": "code",
   "execution_count": null,
   "metadata": {
    "cell_id": "00010-c2381418-bbea-441a-ac8e-1319d90c9066",
    "deepnote_cell_type": "code",
    "deepnote_to_be_reexecuted": false,
    "execution_millis": 1350,
    "execution_start": 1626402944530,
    "source_hash": "bb027ad3",
    "tags": []
   },
   "outputs": [
    {
     "name": "stdout",
     "output_type": "stream",
     "text": [
      "Cada línea es un comando y tiene su función:\n",
      "0.0-jvs-introduction_deepnote.ipynb  no-code_chart.gif\n",
      "init.ipynb\t\t\t     requirements.txt\n",
      "/work\n",
      "/\n",
      "¡Lo estás haciendo increíble!\n"
     ]
    }
   ],
   "source": [
    "!echo \"Cada línea es un comando y tiene su función:\"\n",
    "!ls # Listar archivos\n",
    "!pwd # Directorio actual\n",
    "!cd .. && pwd # Moverte un directorio atrás.\n",
    "!echo \"¡Lo estás haciendo increíble!\""
   ]
  },
  {
   "cell_type": "markdown",
   "metadata": {
    "cell_id": "00008-61e3ce94-bfe5-4a64-b0d6-887fa60f864b",
    "deepnote_cell_type": "markdown",
    "tags": []
   },
   "source": [
    "### Instalación de librerías\n",
    "\n",
    "Las **librerías** son un conjunto de implementaciones funcionales en un lenguaje de programación. Instalar **librerías**, es decir, código de terceros, dentro de **Deepnote** tiene sus ventajas. Automáticamente te sugerirá agregar los paquetes instalados a un archivo **requirements.txt** que servirá para mantener tu espacio de trabajo controlado.\n",
    "\n",
    "Por ejemplo, para este notebook son necesarias las librerías **vega_datasets** y **session_info**. Para instalarlas necesitas utilizar el manejador de paquetes de python [pip](https://pypi.org/project/pip/). Ahora, para **instalar** las **dependencias** sólo necesitas **utilizar** el comando `pip install vega-datasets session-info` en la **línea de comandos**.\n",
    "\n",
    "Entonces, para instalar las librerías dentro de un notebook necesitas escribir lo siguiente:"
   ]
  },
  {
   "cell_type": "code",
   "execution_count": null,
   "metadata": {
    "cell_id": "00009-91e0d3b1-9ccb-4cc7-97e6-bfcca347ab8c",
    "deepnote_cell_type": "code",
    "deepnote_to_be_reexecuted": false,
    "execution_millis": 5014,
    "execution_start": 1626393793705,
    "is_output_hidden": true,
    "source_hash": "aa3b7da5",
    "tags": []
   },
   "outputs": [
    {
     "name": "stdout",
     "output_type": "stream",
     "text": [
      "Requirement already satisfied: vega-datasets in /root/venv/lib/python3.7/site-packages (0.9.0)\n",
      "Requirement already satisfied: session-info in /root/venv/lib/python3.7/site-packages (1.0.0)\n",
      "Requirement already satisfied: pandas in /shared-libs/python3.7/py/lib/python3.7/site-packages (from vega-datasets) (1.2.5)\n",
      "Requirement already satisfied: stdlib-list in /root/venv/lib/python3.7/site-packages (from session-info) (0.8.0)\n",
      "Requirement already satisfied: numpy>=1.16.5 in /shared-libs/python3.7/py/lib/python3.7/site-packages (from pandas->vega-datasets) (1.19.5)\n",
      "Requirement already satisfied: python-dateutil>=2.7.3 in /shared-libs/python3.7/py-core/lib/python3.7/site-packages (from pandas->vega-datasets) (2.8.1)\n",
      "Requirement already satisfied: pytz>=2017.3 in /shared-libs/python3.7/py/lib/python3.7/site-packages (from pandas->vega-datasets) (2021.1)\n",
      "Requirement already satisfied: six>=1.5 in /shared-libs/python3.7/py-core/lib/python3.7/site-packages (from python-dateutil>=2.7.3->pandas->vega-datasets) (1.16.0)\n",
      "\u001b[33mWARNING: You are using pip version 21.1.2; however, version 21.1.3 is available.\n",
      "You should consider upgrading via the '/root/venv/bin/python -m pip install --upgrade pip' command.\u001b[0m\n"
     ]
    }
   ],
   "source": [
    "!pip install vega-datasets session-info"
   ]
  },
  {
   "cell_type": "markdown",
   "metadata": {
    "cell_id": "00010-b97f41c1-a420-4e92-a9c4-594b0c4d8d98",
    "deepnote_cell_type": "markdown",
    "tags": []
   },
   "source": [
    "¡Listo, has instalado tus primeras librerías! 🙌"
   ]
  },
  {
   "cell_type": "markdown",
   "metadata": {
    "cell_id": "00014-741bbf2d-123b-45be-8d83-c91c470791c7",
    "deepnote_cell_type": "markdown",
    "tags": []
   },
   "source": [
    "### Subir archivos\n",
    "\n",
    "Puedes cargar **notebooks** existentes (o carpetas de trabajo) a un proyecto dirigiéndote a `Notebooks & Files` en la barra lateral y usando el botón `Upload file`. También puedes simplemente arrastrar y soltar estos archivos en el sistema de archivos. 🎉\n",
    "\n",
    "Para más información sobre formas de subir archivos a **Deepnote** te recomiendo su [documentación oficial](https://docs.deepnote.com/importing-and-exporing/importing-data-to-deepnote).\n",
    "\n",
    "![Subir archivos](https://gblobscdn.gitbook.com/assets%2F-M-KMVTgD55GYxoqfa9T%2F-MbpP6Mzw3Ny3jmTPvnp%2F-MbpWt0N8CrE_U_MOCe_%2FCleanShot%202021-06-10%20at%2013.42.23.gif?alt=media&token=643b8448-dc53-43f2-8031-6060efcf9f77)"
   ]
  },
  {
   "cell_type": "markdown",
   "metadata": {
    "cell_id": "00008-8a39b498-079f-40a9-b93d-409d6d40ecd2",
    "deepnote_cell_type": "markdown",
    "tags": []
   },
   "source": [
    "## Ciencia de Datos\n",
    "\n",
    "### Información general"
   ]
  },
  {
   "cell_type": "markdown",
   "metadata": {
    "cell_id": "00010-ddf198ef-ae66-4cc5-a901-5a10ec841b00",
    "deepnote_cell_type": "markdown",
    "deepnote_to_be_reexecuted": false,
    "execution_millis": 5,
    "execution_start": 1625689498831,
    "source_hash": "5d93a7ee",
    "tags": []
   },
   "source": [
    "Con **Deepnote** tendrás acceso a **notebooks** con todo el poder de **Python** para analizar y visualizar datos.\n",
    "\n",
    "Muchas de las **librerías** más comunes para la ciencia de datos vienen **preinstaladas** por defecto. No obstante, podrás crear entornos de trabajo completos gracias a la posibilidad de **configurar** el **ambiente** con un archivo de [Docker](https://www.docker.com/). ✨\n",
    "\n",
    "> Podrías trabajar con distintas versiones de Python y R. El fuerte de momento en **Deepnote** es Python, pero eventualmente R también reclamará su lugar. Para comenzar puedes centrarte únicamente en Python y, conforme vayas aprendiendo, te darás cuenta de lo **importante** que es poder **configurar** tu **ambiente** en demanda de tus necesidades. 😋\n",
    "\n",
    "A continuación, puedes ver un gráfico generado **sin código**. Es decir, puedes explorar tus datos interactivamente con un bloque de tipo **Chart** o **Gráfica** sin esfuerzo. Para crear el bloque da clic en botón `+ Block` que aparece al posicionarte sobre una celda o bloque. Después, selecciona la opción `Chart` y escoge el conjunto de datos que desees visualizar (_i.e._, un `DataFrame`). No te preocupes por los detalles, conforme sigas aprendiendo en la ruta para convertirte en un científico de datos, podrás crear las tuyas propias y personalizarlas a tus gustos. 📊\n",
    "\n",
    "> Para ver cómo se generó este gráfico asegúrate de dar clic en el botón `Launch in Deepnote`. 😋"
   ]
  },
  {
   "cell_type": "code",
   "execution_count": null,
   "metadata": {
    "cell_id": "00010-8d0b5cae-678d-407c-a67e-4a300730598f",
    "deepnote_cell_type": "code",
    "deepnote_to_be_reexecuted": false,
    "execution_millis": 41,
    "execution_start": 1626393798735,
    "source_hash": "da1eb477",
    "tags": []
   },
   "outputs": [],
   "source": [
    "from vega_datasets import data\n",
    "\n",
    "cars = data.cars()"
   ]
  },
  {
   "cell_type": "code",
   "execution_count": null,
   "metadata": {
    "cell_id": "00012-db42979b-01b2-4f65-bbc1-138a84b07606",
    "deepnote_cell_type": "visualization",
    "deepnote_to_be_reexecuted": false,
    "deepnote_variable_name": "cars",
    "deepnote_visualization_spec": {
     "$schema": "https://vega.github.io/schema/vega-lite/v4.json",
     "autosize": {
      "type": "fit"
     },
     "data": {
      "name": "placeholder"
     },
     "encoding": {
      "color": {
       "field": "Origin",
       "scale": {
        "type": "linear",
        "zero": false
       },
       "sort": "ascending",
       "type": "nominal"
      },
      "x": {
       "field": "Year",
       "scale": {
        "type": "linear",
        "zero": false
       },
       "sort": "ascending",
       "type": "temporal"
      },
      "y": {
       "aggregate": "count",
       "field": "COUNT(*)",
       "scale": {
        "type": "linear",
        "zero": false
       },
       "sort": "ascending",
       "type": "quantitative"
      }
     },
     "height": 220,
     "mark": {
      "tooltip": {
       "content": "data"
      },
      "type": "line"
     }
    },
    "execution_millis": 272,
    "execution_start": 1626393798826,
    "source_hash": "f02e0be6"
   },
   "outputs": [
    {
     "data": {
      "text/html": [
       "\n",
       "<div id=\"altair-viz-6c97a45a3354407a8bf03980d7a10927\"></div>\n",
       "<script type=\"text/javascript\">\n",
       "  (function(spec, embedOpt){\n",
       "    let outputDiv = document.currentScript.previousElementSibling;\n",
       "    if (outputDiv.id !== \"altair-viz-6c97a45a3354407a8bf03980d7a10927\") {\n",
       "      outputDiv = document.getElementById(\"altair-viz-6c97a45a3354407a8bf03980d7a10927\");\n",
       "    }\n",
       "    const paths = {\n",
       "      \"vega\": \"https://cdn.jsdelivr.net/npm//vega@5?noext\",\n",
       "      \"vega-lib\": \"https://cdn.jsdelivr.net/npm//vega-lib?noext\",\n",
       "      \"vega-lite\": \"https://cdn.jsdelivr.net/npm//vega-lite@4.8.1?noext\",\n",
       "      \"vega-embed\": \"https://cdn.jsdelivr.net/npm//vega-embed@6?noext\",\n",
       "    };\n",
       "\n",
       "    function loadScript(lib) {\n",
       "      return new Promise(function(resolve, reject) {\n",
       "        var s = document.createElement('script');\n",
       "        s.src = paths[lib];\n",
       "        s.async = true;\n",
       "        s.onload = () => resolve(paths[lib]);\n",
       "        s.onerror = () => reject(`Error loading script: ${paths[lib]}`);\n",
       "        document.getElementsByTagName(\"head\")[0].appendChild(s);\n",
       "      });\n",
       "    }\n",
       "\n",
       "    function showError(err) {\n",
       "      outputDiv.innerHTML = `<div class=\"error\" style=\"color:red;\">${err}</div>`;\n",
       "      throw err;\n",
       "    }\n",
       "\n",
       "    function displayChart(vegaEmbed) {\n",
       "      vegaEmbed(outputDiv, spec, embedOpt)\n",
       "        .catch(err => showError(`Javascript Error: ${err.message}<br>This usually means there's a typo in your chart specification. See the javascript console for the full traceback.`));\n",
       "    }\n",
       "\n",
       "    if(typeof define === \"function\" && define.amd) {\n",
       "      requirejs.config({paths});\n",
       "      require([\"vega-embed\"], displayChart, err => showError(`Error loading script: ${err.message}`));\n",
       "    } else if (typeof vegaEmbed === \"function\") {\n",
       "      displayChart(vegaEmbed);\n",
       "    } else {\n",
       "      loadScript(\"vega\")\n",
       "        .then(() => loadScript(\"vega-lite\"))\n",
       "        .then(() => loadScript(\"vega-embed\"))\n",
       "        .catch(showError)\n",
       "        .then(() => displayChart(vegaEmbed));\n",
       "    }\n",
       "  })({\"config\": {\"view\": {\"continuousWidth\": 400, \"continuousHeight\": 300}, \"area\": {\"fill\": \"#51C0E9\"}, \"axis\": {\"labelFont\": \"Inter, sans-serif\", \"labelFontSize\": 12, \"labelFontWeight\": \"normal\", \"labelLimit\": 60, \"labelOverlap\": \"greedy\", \"titleFont\": \"Inter, sans-serif\", \"titleFontSize\": 12, \"titleFontWeight\": \"bold\"}, \"background\": \"#ffffff\", \"legend\": {\"labelFont\": \"Inter, sans-serif\", \"labelFontSize\": 12, \"titleFont\": \"Inter, sans-serif\", \"titleFontSize\": 12, \"titleFontWeight\": \"bold\"}, \"line\": {\"stroke\": \"#51C0E9\", \"strokeWidth\": 2}, \"rect\": {\"fill\": \"#51C0E9\"}, \"title\": {\"anchor\": \"start\", \"color\": \"#000000\", \"font\": \"Inter, sans-serif\", \"fontSize\": 22, \"fontWeight\": \"normal\"}}, \"data\": {\"name\": \"data-f02450ab61490a1363517a0190416235\"}, \"mark\": {\"type\": \"line\", \"tooltip\": {\"content\": \"data\"}}, \"autosize\": {\"type\": \"fit\"}, \"encoding\": {\"color\": {\"type\": \"nominal\", \"field\": \"Origin\", \"scale\": {\"type\": \"linear\", \"zero\": false}, \"sort\": \"ascending\"}, \"x\": {\"type\": \"temporal\", \"field\": \"Year\", \"scale\": {\"type\": \"linear\", \"zero\": false}, \"sort\": \"ascending\"}, \"y\": {\"type\": \"quantitative\", \"aggregate\": \"count\", \"field\": \"COUNT(*)\", \"scale\": {\"type\": \"linear\", \"zero\": false}, \"sort\": \"ascending\"}}, \"height\": 300, \"width\": \"container\", \"$schema\": \"https://vega.github.io/schema/vega-lite/v4.json\", \"datasets\": {\"data-f02450ab61490a1363517a0190416235\": [{\"Name\": \"chevrolet chevelle malibu\", \"Miles_per_Gallon\": 18.0, \"Cylinders\": 8, \"Displacement\": 307.0, \"Horsepower\": 130.0, \"Weight_in_lbs\": 3504, \"Acceleration\": 12.0, \"Year\": \"1970-01-01T00:00:00\", \"Origin\": \"USA\"}, {\"Name\": \"buick skylark 320\", \"Miles_per_Gallon\": 15.0, \"Cylinders\": 8, \"Displacement\": 350.0, \"Horsepower\": 165.0, \"Weight_in_lbs\": 3693, \"Acceleration\": 11.5, \"Year\": \"1970-01-01T00:00:00\", \"Origin\": \"USA\"}, {\"Name\": \"plymouth satellite\", \"Miles_per_Gallon\": 18.0, \"Cylinders\": 8, \"Displacement\": 318.0, \"Horsepower\": 150.0, \"Weight_in_lbs\": 3436, \"Acceleration\": 11.0, \"Year\": \"1970-01-01T00:00:00\", \"Origin\": \"USA\"}, {\"Name\": \"amc rebel sst\", \"Miles_per_Gallon\": 16.0, \"Cylinders\": 8, \"Displacement\": 304.0, \"Horsepower\": 150.0, \"Weight_in_lbs\": 3433, \"Acceleration\": 12.0, \"Year\": \"1970-01-01T00:00:00\", \"Origin\": \"USA\"}, {\"Name\": \"ford torino\", \"Miles_per_Gallon\": 17.0, \"Cylinders\": 8, \"Displacement\": 302.0, \"Horsepower\": 140.0, \"Weight_in_lbs\": 3449, \"Acceleration\": 10.5, \"Year\": \"1970-01-01T00:00:00\", \"Origin\": \"USA\"}, {\"Name\": \"ford galaxie 500\", \"Miles_per_Gallon\": 15.0, \"Cylinders\": 8, \"Displacement\": 429.0, \"Horsepower\": 198.0, \"Weight_in_lbs\": 4341, \"Acceleration\": 10.0, \"Year\": \"1970-01-01T00:00:00\", \"Origin\": \"USA\"}, {\"Name\": \"chevrolet impala\", \"Miles_per_Gallon\": 14.0, \"Cylinders\": 8, \"Displacement\": 454.0, \"Horsepower\": 220.0, \"Weight_in_lbs\": 4354, \"Acceleration\": 9.0, \"Year\": \"1970-01-01T00:00:00\", \"Origin\": \"USA\"}, {\"Name\": \"plymouth fury iii\", \"Miles_per_Gallon\": 14.0, \"Cylinders\": 8, \"Displacement\": 440.0, \"Horsepower\": 215.0, \"Weight_in_lbs\": 4312, \"Acceleration\": 8.5, \"Year\": \"1970-01-01T00:00:00\", \"Origin\": \"USA\"}, {\"Name\": \"pontiac catalina\", \"Miles_per_Gallon\": 14.0, \"Cylinders\": 8, \"Displacement\": 455.0, \"Horsepower\": 225.0, \"Weight_in_lbs\": 4425, \"Acceleration\": 10.0, \"Year\": \"1970-01-01T00:00:00\", \"Origin\": \"USA\"}, {\"Name\": \"amc ambassador dpl\", \"Miles_per_Gallon\": 15.0, \"Cylinders\": 8, \"Displacement\": 390.0, \"Horsepower\": 190.0, \"Weight_in_lbs\": 3850, \"Acceleration\": 8.5, \"Year\": \"1970-01-01T00:00:00\", \"Origin\": \"USA\"}, {\"Name\": \"citroen ds-21 pallas\", \"Miles_per_Gallon\": null, \"Cylinders\": 4, \"Displacement\": 133.0, \"Horsepower\": 115.0, \"Weight_in_lbs\": 3090, \"Acceleration\": 17.5, \"Year\": \"1970-01-01T00:00:00\", \"Origin\": \"Europe\"}, {\"Name\": \"chevrolet chevelle concours (sw)\", \"Miles_per_Gallon\": null, \"Cylinders\": 8, \"Displacement\": 350.0, \"Horsepower\": 165.0, \"Weight_in_lbs\": 4142, \"Acceleration\": 11.5, \"Year\": \"1970-01-01T00:00:00\", \"Origin\": \"USA\"}, {\"Name\": \"ford torino (sw)\", \"Miles_per_Gallon\": null, \"Cylinders\": 8, \"Displacement\": 351.0, \"Horsepower\": 153.0, \"Weight_in_lbs\": 4034, \"Acceleration\": 11.0, \"Year\": \"1970-01-01T00:00:00\", \"Origin\": \"USA\"}, {\"Name\": \"plymouth satellite (sw)\", \"Miles_per_Gallon\": null, \"Cylinders\": 8, \"Displacement\": 383.0, \"Horsepower\": 175.0, \"Weight_in_lbs\": 4166, \"Acceleration\": 10.5, \"Year\": \"1970-01-01T00:00:00\", \"Origin\": \"USA\"}, {\"Name\": \"amc rebel sst (sw)\", \"Miles_per_Gallon\": null, \"Cylinders\": 8, \"Displacement\": 360.0, \"Horsepower\": 175.0, \"Weight_in_lbs\": 3850, \"Acceleration\": 11.0, \"Year\": \"1970-01-01T00:00:00\", \"Origin\": \"USA\"}, {\"Name\": \"dodge challenger se\", \"Miles_per_Gallon\": 15.0, \"Cylinders\": 8, \"Displacement\": 383.0, \"Horsepower\": 170.0, \"Weight_in_lbs\": 3563, \"Acceleration\": 10.0, \"Year\": \"1970-01-01T00:00:00\", \"Origin\": \"USA\"}, {\"Name\": \"plymouth 'cuda 340\", \"Miles_per_Gallon\": 14.0, \"Cylinders\": 8, \"Displacement\": 340.0, \"Horsepower\": 160.0, \"Weight_in_lbs\": 3609, \"Acceleration\": 8.0, \"Year\": \"1970-01-01T00:00:00\", \"Origin\": \"USA\"}, {\"Name\": \"ford mustang boss 302\", \"Miles_per_Gallon\": null, \"Cylinders\": 8, \"Displacement\": 302.0, \"Horsepower\": 140.0, \"Weight_in_lbs\": 3353, \"Acceleration\": 8.0, \"Year\": \"1970-01-01T00:00:00\", \"Origin\": \"USA\"}, {\"Name\": \"chevrolet monte carlo\", \"Miles_per_Gallon\": 15.0, \"Cylinders\": 8, \"Displacement\": 400.0, \"Horsepower\": 150.0, \"Weight_in_lbs\": 3761, \"Acceleration\": 9.5, \"Year\": \"1970-01-01T00:00:00\", \"Origin\": \"USA\"}, {\"Name\": \"buick estate wagon (sw)\", \"Miles_per_Gallon\": 14.0, \"Cylinders\": 8, \"Displacement\": 455.0, \"Horsepower\": 225.0, \"Weight_in_lbs\": 3086, \"Acceleration\": 10.0, \"Year\": \"1970-01-01T00:00:00\", \"Origin\": \"USA\"}, {\"Name\": \"toyota corona mark ii\", \"Miles_per_Gallon\": 24.0, \"Cylinders\": 4, \"Displacement\": 113.0, \"Horsepower\": 95.0, \"Weight_in_lbs\": 2372, \"Acceleration\": 15.0, \"Year\": \"1970-01-01T00:00:00\", \"Origin\": \"Japan\"}, {\"Name\": \"plymouth duster\", \"Miles_per_Gallon\": 22.0, \"Cylinders\": 6, \"Displacement\": 198.0, \"Horsepower\": 95.0, \"Weight_in_lbs\": 2833, \"Acceleration\": 15.5, \"Year\": \"1970-01-01T00:00:00\", \"Origin\": \"USA\"}, {\"Name\": \"amc hornet\", \"Miles_per_Gallon\": 18.0, \"Cylinders\": 6, \"Displacement\": 199.0, \"Horsepower\": 97.0, \"Weight_in_lbs\": 2774, \"Acceleration\": 15.5, \"Year\": \"1970-01-01T00:00:00\", \"Origin\": \"USA\"}, {\"Name\": \"ford maverick\", \"Miles_per_Gallon\": 21.0, \"Cylinders\": 6, \"Displacement\": 200.0, \"Horsepower\": 85.0, \"Weight_in_lbs\": 2587, \"Acceleration\": 16.0, \"Year\": \"1970-01-01T00:00:00\", \"Origin\": \"USA\"}, {\"Name\": \"datsun pl510\", \"Miles_per_Gallon\": 27.0, \"Cylinders\": 4, \"Displacement\": 97.0, \"Horsepower\": 88.0, \"Weight_in_lbs\": 2130, \"Acceleration\": 14.5, \"Year\": \"1970-01-01T00:00:00\", \"Origin\": \"Japan\"}, {\"Name\": \"volkswagen 1131 deluxe sedan\", \"Miles_per_Gallon\": 26.0, \"Cylinders\": 4, \"Displacement\": 97.0, \"Horsepower\": 46.0, \"Weight_in_lbs\": 1835, \"Acceleration\": 20.5, \"Year\": \"1970-01-01T00:00:00\", \"Origin\": \"Europe\"}, {\"Name\": \"peugeot 504\", \"Miles_per_Gallon\": 25.0, \"Cylinders\": 4, \"Displacement\": 110.0, \"Horsepower\": 87.0, \"Weight_in_lbs\": 2672, \"Acceleration\": 17.5, \"Year\": \"1970-01-01T00:00:00\", \"Origin\": \"Europe\"}, {\"Name\": \"audi 100 ls\", \"Miles_per_Gallon\": 24.0, \"Cylinders\": 4, \"Displacement\": 107.0, \"Horsepower\": 90.0, \"Weight_in_lbs\": 2430, \"Acceleration\": 14.5, \"Year\": \"1970-01-01T00:00:00\", \"Origin\": \"Europe\"}, {\"Name\": \"saab 99e\", \"Miles_per_Gallon\": 25.0, \"Cylinders\": 4, \"Displacement\": 104.0, \"Horsepower\": 95.0, \"Weight_in_lbs\": 2375, \"Acceleration\": 17.5, \"Year\": \"1970-01-01T00:00:00\", \"Origin\": \"Europe\"}, {\"Name\": \"bmw 2002\", \"Miles_per_Gallon\": 26.0, \"Cylinders\": 4, \"Displacement\": 121.0, \"Horsepower\": 113.0, \"Weight_in_lbs\": 2234, \"Acceleration\": 12.5, \"Year\": \"1970-01-01T00:00:00\", \"Origin\": \"Europe\"}, {\"Name\": \"amc gremlin\", \"Miles_per_Gallon\": 21.0, \"Cylinders\": 6, \"Displacement\": 199.0, \"Horsepower\": 90.0, \"Weight_in_lbs\": 2648, \"Acceleration\": 15.0, \"Year\": \"1970-01-01T00:00:00\", \"Origin\": \"USA\"}, {\"Name\": \"ford f250\", \"Miles_per_Gallon\": 10.0, \"Cylinders\": 8, \"Displacement\": 360.0, \"Horsepower\": 215.0, \"Weight_in_lbs\": 4615, \"Acceleration\": 14.0, \"Year\": \"1970-01-01T00:00:00\", \"Origin\": \"USA\"}, {\"Name\": \"chevy c20\", \"Miles_per_Gallon\": 10.0, \"Cylinders\": 8, \"Displacement\": 307.0, \"Horsepower\": 200.0, \"Weight_in_lbs\": 4376, \"Acceleration\": 15.0, \"Year\": \"1970-01-01T00:00:00\", \"Origin\": \"USA\"}, {\"Name\": \"dodge d200\", \"Miles_per_Gallon\": 11.0, \"Cylinders\": 8, \"Displacement\": 318.0, \"Horsepower\": 210.0, \"Weight_in_lbs\": 4382, \"Acceleration\": 13.5, \"Year\": \"1970-01-01T00:00:00\", \"Origin\": \"USA\"}, {\"Name\": \"hi 1200d\", \"Miles_per_Gallon\": 9.0, \"Cylinders\": 8, \"Displacement\": 304.0, \"Horsepower\": 193.0, \"Weight_in_lbs\": 4732, \"Acceleration\": 18.5, \"Year\": \"1970-01-01T00:00:00\", \"Origin\": \"USA\"}, {\"Name\": \"datsun pl510\", \"Miles_per_Gallon\": 27.0, \"Cylinders\": 4, \"Displacement\": 97.0, \"Horsepower\": 88.0, \"Weight_in_lbs\": 2130, \"Acceleration\": 14.5, \"Year\": \"1971-01-01T00:00:00\", \"Origin\": \"Japan\"}, {\"Name\": \"chevrolet vega 2300\", \"Miles_per_Gallon\": 28.0, \"Cylinders\": 4, \"Displacement\": 140.0, \"Horsepower\": 90.0, \"Weight_in_lbs\": 2264, \"Acceleration\": 15.5, \"Year\": \"1971-01-01T00:00:00\", \"Origin\": \"USA\"}, {\"Name\": \"toyota corona\", \"Miles_per_Gallon\": 25.0, \"Cylinders\": 4, \"Displacement\": 113.0, \"Horsepower\": 95.0, \"Weight_in_lbs\": 2228, \"Acceleration\": 14.0, \"Year\": \"1971-01-01T00:00:00\", \"Origin\": \"Japan\"}, {\"Name\": \"ford pinto\", \"Miles_per_Gallon\": 25.0, \"Cylinders\": 4, \"Displacement\": 98.0, \"Horsepower\": null, \"Weight_in_lbs\": 2046, \"Acceleration\": 19.0, \"Year\": \"1971-01-01T00:00:00\", \"Origin\": \"USA\"}, {\"Name\": \"volkswagen super beetle 117\", \"Miles_per_Gallon\": null, \"Cylinders\": 4, \"Displacement\": 97.0, \"Horsepower\": 48.0, \"Weight_in_lbs\": 1978, \"Acceleration\": 20.0, \"Year\": \"1971-01-01T00:00:00\", \"Origin\": \"Europe\"}, {\"Name\": \"amc gremlin\", \"Miles_per_Gallon\": 19.0, \"Cylinders\": 6, \"Displacement\": 232.0, \"Horsepower\": 100.0, \"Weight_in_lbs\": 2634, \"Acceleration\": 13.0, \"Year\": \"1971-01-01T00:00:00\", \"Origin\": \"USA\"}, {\"Name\": \"plymouth satellite custom\", \"Miles_per_Gallon\": 16.0, \"Cylinders\": 6, \"Displacement\": 225.0, \"Horsepower\": 105.0, \"Weight_in_lbs\": 3439, \"Acceleration\": 15.5, \"Year\": \"1971-01-01T00:00:00\", \"Origin\": \"USA\"}, {\"Name\": \"chevrolet chevelle malibu\", \"Miles_per_Gallon\": 17.0, \"Cylinders\": 6, \"Displacement\": 250.0, \"Horsepower\": 100.0, \"Weight_in_lbs\": 3329, \"Acceleration\": 15.5, \"Year\": \"1971-01-01T00:00:00\", \"Origin\": \"USA\"}, {\"Name\": \"ford torino 500\", \"Miles_per_Gallon\": 19.0, \"Cylinders\": 6, \"Displacement\": 250.0, \"Horsepower\": 88.0, \"Weight_in_lbs\": 3302, \"Acceleration\": 15.5, \"Year\": \"1971-01-01T00:00:00\", \"Origin\": \"USA\"}, {\"Name\": \"amc matador\", \"Miles_per_Gallon\": 18.0, \"Cylinders\": 6, \"Displacement\": 232.0, \"Horsepower\": 100.0, \"Weight_in_lbs\": 3288, \"Acceleration\": 15.5, \"Year\": \"1971-01-01T00:00:00\", \"Origin\": \"USA\"}, {\"Name\": \"chevrolet impala\", \"Miles_per_Gallon\": 14.0, \"Cylinders\": 8, \"Displacement\": 350.0, \"Horsepower\": 165.0, \"Weight_in_lbs\": 4209, \"Acceleration\": 12.0, \"Year\": \"1971-01-01T00:00:00\", \"Origin\": \"USA\"}, {\"Name\": \"pontiac catalina brougham\", \"Miles_per_Gallon\": 14.0, \"Cylinders\": 8, \"Displacement\": 400.0, \"Horsepower\": 175.0, \"Weight_in_lbs\": 4464, \"Acceleration\": 11.5, \"Year\": \"1971-01-01T00:00:00\", \"Origin\": \"USA\"}, {\"Name\": \"ford galaxie 500\", \"Miles_per_Gallon\": 14.0, \"Cylinders\": 8, \"Displacement\": 351.0, \"Horsepower\": 153.0, \"Weight_in_lbs\": 4154, \"Acceleration\": 13.5, \"Year\": \"1971-01-01T00:00:00\", \"Origin\": \"USA\"}, {\"Name\": \"plymouth fury iii\", \"Miles_per_Gallon\": 14.0, \"Cylinders\": 8, \"Displacement\": 318.0, \"Horsepower\": 150.0, \"Weight_in_lbs\": 4096, \"Acceleration\": 13.0, \"Year\": \"1971-01-01T00:00:00\", \"Origin\": \"USA\"}, {\"Name\": \"dodge monaco (sw)\", \"Miles_per_Gallon\": 12.0, \"Cylinders\": 8, \"Displacement\": 383.0, \"Horsepower\": 180.0, \"Weight_in_lbs\": 4955, \"Acceleration\": 11.5, \"Year\": \"1971-01-01T00:00:00\", \"Origin\": \"USA\"}, {\"Name\": \"ford country squire (sw)\", \"Miles_per_Gallon\": 13.0, \"Cylinders\": 8, \"Displacement\": 400.0, \"Horsepower\": 170.0, \"Weight_in_lbs\": 4746, \"Acceleration\": 12.0, \"Year\": \"1971-01-01T00:00:00\", \"Origin\": \"USA\"}, {\"Name\": \"pontiac safari (sw)\", \"Miles_per_Gallon\": 13.0, \"Cylinders\": 8, \"Displacement\": 400.0, \"Horsepower\": 175.0, \"Weight_in_lbs\": 5140, \"Acceleration\": 12.0, \"Year\": \"1971-01-01T00:00:00\", \"Origin\": \"USA\"}, {\"Name\": \"amc hornet sportabout (sw)\", \"Miles_per_Gallon\": 18.0, \"Cylinders\": 6, \"Displacement\": 258.0, \"Horsepower\": 110.0, \"Weight_in_lbs\": 2962, \"Acceleration\": 13.5, \"Year\": \"1971-01-01T00:00:00\", \"Origin\": \"USA\"}, {\"Name\": \"chevrolet vega (sw)\", \"Miles_per_Gallon\": 22.0, \"Cylinders\": 4, \"Displacement\": 140.0, \"Horsepower\": 72.0, \"Weight_in_lbs\": 2408, \"Acceleration\": 19.0, \"Year\": \"1971-01-01T00:00:00\", \"Origin\": \"USA\"}, {\"Name\": \"pontiac firebird\", \"Miles_per_Gallon\": 19.0, \"Cylinders\": 6, \"Displacement\": 250.0, \"Horsepower\": 100.0, \"Weight_in_lbs\": 3282, \"Acceleration\": 15.0, \"Year\": \"1971-01-01T00:00:00\", \"Origin\": \"USA\"}, {\"Name\": \"ford mustang\", \"Miles_per_Gallon\": 18.0, \"Cylinders\": 6, \"Displacement\": 250.0, \"Horsepower\": 88.0, \"Weight_in_lbs\": 3139, \"Acceleration\": 14.5, \"Year\": \"1971-01-01T00:00:00\", \"Origin\": \"USA\"}, {\"Name\": \"mercury capri 2000\", \"Miles_per_Gallon\": 23.0, \"Cylinders\": 4, \"Displacement\": 122.0, \"Horsepower\": 86.0, \"Weight_in_lbs\": 2220, \"Acceleration\": 14.0, \"Year\": \"1971-01-01T00:00:00\", \"Origin\": \"USA\"}, {\"Name\": \"opel 1900\", \"Miles_per_Gallon\": 28.0, \"Cylinders\": 4, \"Displacement\": 116.0, \"Horsepower\": 90.0, \"Weight_in_lbs\": 2123, \"Acceleration\": 14.0, \"Year\": \"1971-01-01T00:00:00\", \"Origin\": \"Europe\"}, {\"Name\": \"peugeot 304\", \"Miles_per_Gallon\": 30.0, \"Cylinders\": 4, \"Displacement\": 79.0, \"Horsepower\": 70.0, \"Weight_in_lbs\": 2074, \"Acceleration\": 19.5, \"Year\": \"1971-01-01T00:00:00\", \"Origin\": \"Europe\"}, {\"Name\": \"fiat 124b\", \"Miles_per_Gallon\": 30.0, \"Cylinders\": 4, \"Displacement\": 88.0, \"Horsepower\": 76.0, \"Weight_in_lbs\": 2065, \"Acceleration\": 14.5, \"Year\": \"1971-01-01T00:00:00\", \"Origin\": \"Europe\"}, {\"Name\": \"toyota corolla 1200\", \"Miles_per_Gallon\": 31.0, \"Cylinders\": 4, \"Displacement\": 71.0, \"Horsepower\": 65.0, \"Weight_in_lbs\": 1773, \"Acceleration\": 19.0, \"Year\": \"1971-01-01T00:00:00\", \"Origin\": \"Japan\"}, {\"Name\": \"datsun 1200\", \"Miles_per_Gallon\": 35.0, \"Cylinders\": 4, \"Displacement\": 72.0, \"Horsepower\": 69.0, \"Weight_in_lbs\": 1613, \"Acceleration\": 18.0, \"Year\": \"1971-01-01T00:00:00\", \"Origin\": \"Japan\"}, {\"Name\": \"volkswagen model 111\", \"Miles_per_Gallon\": 27.0, \"Cylinders\": 4, \"Displacement\": 97.0, \"Horsepower\": 60.0, \"Weight_in_lbs\": 1834, \"Acceleration\": 19.0, \"Year\": \"1971-01-01T00:00:00\", \"Origin\": \"Europe\"}, {\"Name\": \"plymouth cricket\", \"Miles_per_Gallon\": 26.0, \"Cylinders\": 4, \"Displacement\": 91.0, \"Horsepower\": 70.0, \"Weight_in_lbs\": 1955, \"Acceleration\": 20.5, \"Year\": \"1971-01-01T00:00:00\", \"Origin\": \"USA\"}, {\"Name\": \"toyota corona hardtop\", \"Miles_per_Gallon\": 24.0, \"Cylinders\": 4, \"Displacement\": 113.0, \"Horsepower\": 95.0, \"Weight_in_lbs\": 2278, \"Acceleration\": 15.5, \"Year\": \"1972-01-01T00:00:00\", \"Origin\": \"Japan\"}, {\"Name\": \"dodge colt hardtop\", \"Miles_per_Gallon\": 25.0, \"Cylinders\": 4, \"Displacement\": 97.5, \"Horsepower\": 80.0, \"Weight_in_lbs\": 2126, \"Acceleration\": 17.0, \"Year\": \"1972-01-01T00:00:00\", \"Origin\": \"USA\"}, {\"Name\": \"volkswagen type 3\", \"Miles_per_Gallon\": 23.0, \"Cylinders\": 4, \"Displacement\": 97.0, \"Horsepower\": 54.0, \"Weight_in_lbs\": 2254, \"Acceleration\": 23.5, \"Year\": \"1972-01-01T00:00:00\", \"Origin\": \"Europe\"}, {\"Name\": \"chevrolet vega\", \"Miles_per_Gallon\": 20.0, \"Cylinders\": 4, \"Displacement\": 140.0, \"Horsepower\": 90.0, \"Weight_in_lbs\": 2408, \"Acceleration\": 19.5, \"Year\": \"1972-01-01T00:00:00\", \"Origin\": \"USA\"}, {\"Name\": \"ford pinto runabout\", \"Miles_per_Gallon\": 21.0, \"Cylinders\": 4, \"Displacement\": 122.0, \"Horsepower\": 86.0, \"Weight_in_lbs\": 2226, \"Acceleration\": 16.5, \"Year\": \"1972-01-01T00:00:00\", \"Origin\": \"USA\"}, {\"Name\": \"chevrolet impala\", \"Miles_per_Gallon\": 13.0, \"Cylinders\": 8, \"Displacement\": 350.0, \"Horsepower\": 165.0, \"Weight_in_lbs\": 4274, \"Acceleration\": 12.0, \"Year\": \"1972-01-01T00:00:00\", \"Origin\": \"USA\"}, {\"Name\": \"pontiac catalina\", \"Miles_per_Gallon\": 14.0, \"Cylinders\": 8, \"Displacement\": 400.0, \"Horsepower\": 175.0, \"Weight_in_lbs\": 4385, \"Acceleration\": 12.0, \"Year\": \"1972-01-01T00:00:00\", \"Origin\": \"USA\"}, {\"Name\": \"plymouth fury iii\", \"Miles_per_Gallon\": 15.0, \"Cylinders\": 8, \"Displacement\": 318.0, \"Horsepower\": 150.0, \"Weight_in_lbs\": 4135, \"Acceleration\": 13.5, \"Year\": \"1972-01-01T00:00:00\", \"Origin\": \"USA\"}, {\"Name\": \"ford galaxie 500\", \"Miles_per_Gallon\": 14.0, \"Cylinders\": 8, \"Displacement\": 351.0, \"Horsepower\": 153.0, \"Weight_in_lbs\": 4129, \"Acceleration\": 13.0, \"Year\": \"1972-01-01T00:00:00\", \"Origin\": \"USA\"}, {\"Name\": \"amc ambassador sst\", \"Miles_per_Gallon\": 17.0, \"Cylinders\": 8, \"Displacement\": 304.0, \"Horsepower\": 150.0, \"Weight_in_lbs\": 3672, \"Acceleration\": 11.5, \"Year\": \"1972-01-01T00:00:00\", \"Origin\": \"USA\"}, {\"Name\": \"mercury marquis\", \"Miles_per_Gallon\": 11.0, \"Cylinders\": 8, \"Displacement\": 429.0, \"Horsepower\": 208.0, \"Weight_in_lbs\": 4633, \"Acceleration\": 11.0, \"Year\": \"1972-01-01T00:00:00\", \"Origin\": \"USA\"}, {\"Name\": \"buick lesabre custom\", \"Miles_per_Gallon\": 13.0, \"Cylinders\": 8, \"Displacement\": 350.0, \"Horsepower\": 155.0, \"Weight_in_lbs\": 4502, \"Acceleration\": 13.5, \"Year\": \"1972-01-01T00:00:00\", \"Origin\": \"USA\"}, {\"Name\": \"oldsmobile delta 88 royale\", \"Miles_per_Gallon\": 12.0, \"Cylinders\": 8, \"Displacement\": 350.0, \"Horsepower\": 160.0, \"Weight_in_lbs\": 4456, \"Acceleration\": 13.5, \"Year\": \"1972-01-01T00:00:00\", \"Origin\": \"USA\"}, {\"Name\": \"chrysler newport royal\", \"Miles_per_Gallon\": 13.0, \"Cylinders\": 8, \"Displacement\": 400.0, \"Horsepower\": 190.0, \"Weight_in_lbs\": 4422, \"Acceleration\": 12.5, \"Year\": \"1972-01-01T00:00:00\", \"Origin\": \"USA\"}, {\"Name\": \"mazda rx2 coupe\", \"Miles_per_Gallon\": 19.0, \"Cylinders\": 3, \"Displacement\": 70.0, \"Horsepower\": 97.0, \"Weight_in_lbs\": 2330, \"Acceleration\": 13.5, \"Year\": \"1972-01-01T00:00:00\", \"Origin\": \"Japan\"}, {\"Name\": \"amc matador (sw)\", \"Miles_per_Gallon\": 15.0, \"Cylinders\": 8, \"Displacement\": 304.0, \"Horsepower\": 150.0, \"Weight_in_lbs\": 3892, \"Acceleration\": 12.5, \"Year\": \"1972-01-01T00:00:00\", \"Origin\": \"USA\"}, {\"Name\": \"chevrolet chevelle concours (sw)\", \"Miles_per_Gallon\": 13.0, \"Cylinders\": 8, \"Displacement\": 307.0, \"Horsepower\": 130.0, \"Weight_in_lbs\": 4098, \"Acceleration\": 14.0, \"Year\": \"1972-01-01T00:00:00\", \"Origin\": \"USA\"}, {\"Name\": \"ford gran torino (sw)\", \"Miles_per_Gallon\": 13.0, \"Cylinders\": 8, \"Displacement\": 302.0, \"Horsepower\": 140.0, \"Weight_in_lbs\": 4294, \"Acceleration\": 16.0, \"Year\": \"1972-01-01T00:00:00\", \"Origin\": \"USA\"}, {\"Name\": \"plymouth satellite custom (sw)\", \"Miles_per_Gallon\": 14.0, \"Cylinders\": 8, \"Displacement\": 318.0, \"Horsepower\": 150.0, \"Weight_in_lbs\": 4077, \"Acceleration\": 14.0, \"Year\": \"1972-01-01T00:00:00\", \"Origin\": \"USA\"}, {\"Name\": \"volvo 145e (sw)\", \"Miles_per_Gallon\": 18.0, \"Cylinders\": 4, \"Displacement\": 121.0, \"Horsepower\": 112.0, \"Weight_in_lbs\": 2933, \"Acceleration\": 14.5, \"Year\": \"1972-01-01T00:00:00\", \"Origin\": \"Europe\"}, {\"Name\": \"volkswagen 411 (sw)\", \"Miles_per_Gallon\": 22.0, \"Cylinders\": 4, \"Displacement\": 121.0, \"Horsepower\": 76.0, \"Weight_in_lbs\": 2511, \"Acceleration\": 18.0, \"Year\": \"1972-01-01T00:00:00\", \"Origin\": \"Europe\"}, {\"Name\": \"peugeot 504 (sw)\", \"Miles_per_Gallon\": 21.0, \"Cylinders\": 4, \"Displacement\": 120.0, \"Horsepower\": 87.0, \"Weight_in_lbs\": 2979, \"Acceleration\": 19.5, \"Year\": \"1972-01-01T00:00:00\", \"Origin\": \"Europe\"}, {\"Name\": \"renault 12 (sw)\", \"Miles_per_Gallon\": 26.0, \"Cylinders\": 4, \"Displacement\": 96.0, \"Horsepower\": 69.0, \"Weight_in_lbs\": 2189, \"Acceleration\": 18.0, \"Year\": \"1972-01-01T00:00:00\", \"Origin\": \"Europe\"}, {\"Name\": \"ford pinto (sw)\", \"Miles_per_Gallon\": 22.0, \"Cylinders\": 4, \"Displacement\": 122.0, \"Horsepower\": 86.0, \"Weight_in_lbs\": 2395, \"Acceleration\": 16.0, \"Year\": \"1972-01-01T00:00:00\", \"Origin\": \"USA\"}, {\"Name\": \"datsun 510 (sw)\", \"Miles_per_Gallon\": 28.0, \"Cylinders\": 4, \"Displacement\": 97.0, \"Horsepower\": 92.0, \"Weight_in_lbs\": 2288, \"Acceleration\": 17.0, \"Year\": \"1972-01-01T00:00:00\", \"Origin\": \"Japan\"}, {\"Name\": \"toyouta corona mark ii (sw)\", \"Miles_per_Gallon\": 23.0, \"Cylinders\": 4, \"Displacement\": 120.0, \"Horsepower\": 97.0, \"Weight_in_lbs\": 2506, \"Acceleration\": 14.5, \"Year\": \"1972-01-01T00:00:00\", \"Origin\": \"Japan\"}, {\"Name\": \"dodge colt (sw)\", \"Miles_per_Gallon\": 28.0, \"Cylinders\": 4, \"Displacement\": 98.0, \"Horsepower\": 80.0, \"Weight_in_lbs\": 2164, \"Acceleration\": 15.0, \"Year\": \"1972-01-01T00:00:00\", \"Origin\": \"USA\"}, {\"Name\": \"toyota corolla 1600 (sw)\", \"Miles_per_Gallon\": 27.0, \"Cylinders\": 4, \"Displacement\": 97.0, \"Horsepower\": 88.0, \"Weight_in_lbs\": 2100, \"Acceleration\": 16.5, \"Year\": \"1972-01-01T00:00:00\", \"Origin\": \"Japan\"}, {\"Name\": \"buick century 350\", \"Miles_per_Gallon\": 13.0, \"Cylinders\": 8, \"Displacement\": 350.0, \"Horsepower\": 175.0, \"Weight_in_lbs\": 4100, \"Acceleration\": 13.0, \"Year\": \"1973-01-01T00:00:00\", \"Origin\": \"USA\"}, {\"Name\": \"amc matador\", \"Miles_per_Gallon\": 14.0, \"Cylinders\": 8, \"Displacement\": 304.0, \"Horsepower\": 150.0, \"Weight_in_lbs\": 3672, \"Acceleration\": 11.5, \"Year\": \"1973-01-01T00:00:00\", \"Origin\": \"USA\"}, {\"Name\": \"chevrolet malibu\", \"Miles_per_Gallon\": 13.0, \"Cylinders\": 8, \"Displacement\": 350.0, \"Horsepower\": 145.0, \"Weight_in_lbs\": 3988, \"Acceleration\": 13.0, \"Year\": \"1973-01-01T00:00:00\", \"Origin\": \"USA\"}, {\"Name\": \"ford gran torino\", \"Miles_per_Gallon\": 14.0, \"Cylinders\": 8, \"Displacement\": 302.0, \"Horsepower\": 137.0, \"Weight_in_lbs\": 4042, \"Acceleration\": 14.5, \"Year\": \"1973-01-01T00:00:00\", \"Origin\": \"USA\"}, {\"Name\": \"dodge coronet custom\", \"Miles_per_Gallon\": 15.0, \"Cylinders\": 8, \"Displacement\": 318.0, \"Horsepower\": 150.0, \"Weight_in_lbs\": 3777, \"Acceleration\": 12.5, \"Year\": \"1973-01-01T00:00:00\", \"Origin\": \"USA\"}, {\"Name\": \"mercury marquis brougham\", \"Miles_per_Gallon\": 12.0, \"Cylinders\": 8, \"Displacement\": 429.0, \"Horsepower\": 198.0, \"Weight_in_lbs\": 4952, \"Acceleration\": 11.5, \"Year\": \"1973-01-01T00:00:00\", \"Origin\": \"USA\"}, {\"Name\": \"chevrolet caprice classic\", \"Miles_per_Gallon\": 13.0, \"Cylinders\": 8, \"Displacement\": 400.0, \"Horsepower\": 150.0, \"Weight_in_lbs\": 4464, \"Acceleration\": 12.0, \"Year\": \"1973-01-01T00:00:00\", \"Origin\": \"USA\"}, {\"Name\": \"ford ltd\", \"Miles_per_Gallon\": 13.0, \"Cylinders\": 8, \"Displacement\": 351.0, \"Horsepower\": 158.0, \"Weight_in_lbs\": 4363, \"Acceleration\": 13.0, \"Year\": \"1973-01-01T00:00:00\", \"Origin\": \"USA\"}, {\"Name\": \"plymouth fury gran sedan\", \"Miles_per_Gallon\": 14.0, \"Cylinders\": 8, \"Displacement\": 318.0, \"Horsepower\": 150.0, \"Weight_in_lbs\": 4237, \"Acceleration\": 14.5, \"Year\": \"1973-01-01T00:00:00\", \"Origin\": \"USA\"}, {\"Name\": \"chrysler new yorker brougham\", \"Miles_per_Gallon\": 13.0, \"Cylinders\": 8, \"Displacement\": 440.0, \"Horsepower\": 215.0, \"Weight_in_lbs\": 4735, \"Acceleration\": 11.0, \"Year\": \"1973-01-01T00:00:00\", \"Origin\": \"USA\"}, {\"Name\": \"buick electra 225 custom\", \"Miles_per_Gallon\": 12.0, \"Cylinders\": 8, \"Displacement\": 455.0, \"Horsepower\": 225.0, \"Weight_in_lbs\": 4951, \"Acceleration\": 11.0, \"Year\": \"1973-01-01T00:00:00\", \"Origin\": \"USA\"}, {\"Name\": \"amc ambassador brougham\", \"Miles_per_Gallon\": 13.0, \"Cylinders\": 8, \"Displacement\": 360.0, \"Horsepower\": 175.0, \"Weight_in_lbs\": 3821, \"Acceleration\": 11.0, \"Year\": \"1973-01-01T00:00:00\", \"Origin\": \"USA\"}, {\"Name\": \"plymouth valiant\", \"Miles_per_Gallon\": 18.0, \"Cylinders\": 6, \"Displacement\": 225.0, \"Horsepower\": 105.0, \"Weight_in_lbs\": 3121, \"Acceleration\": 16.5, \"Year\": \"1973-01-01T00:00:00\", \"Origin\": \"USA\"}, {\"Name\": \"chevrolet nova custom\", \"Miles_per_Gallon\": 16.0, \"Cylinders\": 6, \"Displacement\": 250.0, \"Horsepower\": 100.0, \"Weight_in_lbs\": 3278, \"Acceleration\": 18.0, \"Year\": \"1973-01-01T00:00:00\", \"Origin\": \"USA\"}, {\"Name\": \"amc hornet\", \"Miles_per_Gallon\": 18.0, \"Cylinders\": 6, \"Displacement\": 232.0, \"Horsepower\": 100.0, \"Weight_in_lbs\": 2945, \"Acceleration\": 16.0, \"Year\": \"1973-01-01T00:00:00\", \"Origin\": \"USA\"}, {\"Name\": \"ford maverick\", \"Miles_per_Gallon\": 18.0, \"Cylinders\": 6, \"Displacement\": 250.0, \"Horsepower\": 88.0, \"Weight_in_lbs\": 3021, \"Acceleration\": 16.5, \"Year\": \"1973-01-01T00:00:00\", \"Origin\": \"USA\"}, {\"Name\": \"plymouth duster\", \"Miles_per_Gallon\": 23.0, \"Cylinders\": 6, \"Displacement\": 198.0, \"Horsepower\": 95.0, \"Weight_in_lbs\": 2904, \"Acceleration\": 16.0, \"Year\": \"1973-01-01T00:00:00\", \"Origin\": \"USA\"}, {\"Name\": \"volkswagen super beetle\", \"Miles_per_Gallon\": 26.0, \"Cylinders\": 4, \"Displacement\": 97.0, \"Horsepower\": 46.0, \"Weight_in_lbs\": 1950, \"Acceleration\": 21.0, \"Year\": \"1973-01-01T00:00:00\", \"Origin\": \"Europe\"}, {\"Name\": \"chevrolet impala\", \"Miles_per_Gallon\": 11.0, \"Cylinders\": 8, \"Displacement\": 400.0, \"Horsepower\": 150.0, \"Weight_in_lbs\": 4997, \"Acceleration\": 14.0, \"Year\": \"1973-01-01T00:00:00\", \"Origin\": \"USA\"}, {\"Name\": \"ford country\", \"Miles_per_Gallon\": 12.0, \"Cylinders\": 8, \"Displacement\": 400.0, \"Horsepower\": 167.0, \"Weight_in_lbs\": 4906, \"Acceleration\": 12.5, \"Year\": \"1973-01-01T00:00:00\", \"Origin\": \"USA\"}, {\"Name\": \"plymouth custom suburb\", \"Miles_per_Gallon\": 13.0, \"Cylinders\": 8, \"Displacement\": 360.0, \"Horsepower\": 170.0, \"Weight_in_lbs\": 4654, \"Acceleration\": 13.0, \"Year\": \"1973-01-01T00:00:00\", \"Origin\": \"USA\"}, {\"Name\": \"oldsmobile vista cruiser\", \"Miles_per_Gallon\": 12.0, \"Cylinders\": 8, \"Displacement\": 350.0, \"Horsepower\": 180.0, \"Weight_in_lbs\": 4499, \"Acceleration\": 12.5, \"Year\": \"1973-01-01T00:00:00\", \"Origin\": \"USA\"}, {\"Name\": \"amc gremlin\", \"Miles_per_Gallon\": 18.0, \"Cylinders\": 6, \"Displacement\": 232.0, \"Horsepower\": 100.0, \"Weight_in_lbs\": 2789, \"Acceleration\": 15.0, \"Year\": \"1973-01-01T00:00:00\", \"Origin\": \"USA\"}, {\"Name\": \"toyota carina\", \"Miles_per_Gallon\": 20.0, \"Cylinders\": 4, \"Displacement\": 97.0, \"Horsepower\": 88.0, \"Weight_in_lbs\": 2279, \"Acceleration\": 19.0, \"Year\": \"1973-01-01T00:00:00\", \"Origin\": \"Japan\"}, {\"Name\": \"chevrolet vega\", \"Miles_per_Gallon\": 21.0, \"Cylinders\": 4, \"Displacement\": 140.0, \"Horsepower\": 72.0, \"Weight_in_lbs\": 2401, \"Acceleration\": 19.5, \"Year\": \"1973-01-01T00:00:00\", \"Origin\": \"USA\"}, {\"Name\": \"datsun 610\", \"Miles_per_Gallon\": 22.0, \"Cylinders\": 4, \"Displacement\": 108.0, \"Horsepower\": 94.0, \"Weight_in_lbs\": 2379, \"Acceleration\": 16.5, \"Year\": \"1973-01-01T00:00:00\", \"Origin\": \"Japan\"}, {\"Name\": \"maxda rx3\", \"Miles_per_Gallon\": 18.0, \"Cylinders\": 3, \"Displacement\": 70.0, \"Horsepower\": 90.0, \"Weight_in_lbs\": 2124, \"Acceleration\": 13.5, \"Year\": \"1973-01-01T00:00:00\", \"Origin\": \"Japan\"}, {\"Name\": \"ford pinto\", \"Miles_per_Gallon\": 19.0, \"Cylinders\": 4, \"Displacement\": 122.0, \"Horsepower\": 85.0, \"Weight_in_lbs\": 2310, \"Acceleration\": 18.5, \"Year\": \"1973-01-01T00:00:00\", \"Origin\": \"USA\"}, {\"Name\": \"mercury capri v6\", \"Miles_per_Gallon\": 21.0, \"Cylinders\": 6, \"Displacement\": 155.0, \"Horsepower\": 107.0, \"Weight_in_lbs\": 2472, \"Acceleration\": 14.0, \"Year\": \"1973-01-01T00:00:00\", \"Origin\": \"USA\"}, {\"Name\": \"fiat 124 sport coupe\", \"Miles_per_Gallon\": 26.0, \"Cylinders\": 4, \"Displacement\": 98.0, \"Horsepower\": 90.0, \"Weight_in_lbs\": 2265, \"Acceleration\": 15.5, \"Year\": \"1973-01-01T00:00:00\", \"Origin\": \"Europe\"}, {\"Name\": \"chevrolet monte carlo s\", \"Miles_per_Gallon\": 15.0, \"Cylinders\": 8, \"Displacement\": 350.0, \"Horsepower\": 145.0, \"Weight_in_lbs\": 4082, \"Acceleration\": 13.0, \"Year\": \"1973-01-01T00:00:00\", \"Origin\": \"USA\"}, {\"Name\": \"pontiac grand prix\", \"Miles_per_Gallon\": 16.0, \"Cylinders\": 8, \"Displacement\": 400.0, \"Horsepower\": 230.0, \"Weight_in_lbs\": 4278, \"Acceleration\": 9.5, \"Year\": \"1973-01-01T00:00:00\", \"Origin\": \"USA\"}, {\"Name\": \"fiat 128\", \"Miles_per_Gallon\": 29.0, \"Cylinders\": 4, \"Displacement\": 68.0, \"Horsepower\": 49.0, \"Weight_in_lbs\": 1867, \"Acceleration\": 19.5, \"Year\": \"1973-01-01T00:00:00\", \"Origin\": \"Europe\"}, {\"Name\": \"opel manta\", \"Miles_per_Gallon\": 24.0, \"Cylinders\": 4, \"Displacement\": 116.0, \"Horsepower\": 75.0, \"Weight_in_lbs\": 2158, \"Acceleration\": 15.5, \"Year\": \"1973-01-01T00:00:00\", \"Origin\": \"Europe\"}, {\"Name\": \"audi 100ls\", \"Miles_per_Gallon\": 20.0, \"Cylinders\": 4, \"Displacement\": 114.0, \"Horsepower\": 91.0, \"Weight_in_lbs\": 2582, \"Acceleration\": 14.0, \"Year\": \"1973-01-01T00:00:00\", \"Origin\": \"Europe\"}, {\"Name\": \"volvo 144ea\", \"Miles_per_Gallon\": 19.0, \"Cylinders\": 4, \"Displacement\": 121.0, \"Horsepower\": 112.0, \"Weight_in_lbs\": 2868, \"Acceleration\": 15.5, \"Year\": \"1973-01-01T00:00:00\", \"Origin\": \"Europe\"}, {\"Name\": \"dodge dart custom\", \"Miles_per_Gallon\": 15.0, \"Cylinders\": 8, \"Displacement\": 318.0, \"Horsepower\": 150.0, \"Weight_in_lbs\": 3399, \"Acceleration\": 11.0, \"Year\": \"1973-01-01T00:00:00\", \"Origin\": \"USA\"}, {\"Name\": \"saab 99le\", \"Miles_per_Gallon\": 24.0, \"Cylinders\": 4, \"Displacement\": 121.0, \"Horsepower\": 110.0, \"Weight_in_lbs\": 2660, \"Acceleration\": 14.0, \"Year\": \"1973-01-01T00:00:00\", \"Origin\": \"Europe\"}, {\"Name\": \"toyota mark ii\", \"Miles_per_Gallon\": 20.0, \"Cylinders\": 6, \"Displacement\": 156.0, \"Horsepower\": 122.0, \"Weight_in_lbs\": 2807, \"Acceleration\": 13.5, \"Year\": \"1973-01-01T00:00:00\", \"Origin\": \"Japan\"}, {\"Name\": \"oldsmobile omega\", \"Miles_per_Gallon\": 11.0, \"Cylinders\": 8, \"Displacement\": 350.0, \"Horsepower\": 180.0, \"Weight_in_lbs\": 3664, \"Acceleration\": 11.0, \"Year\": \"1973-01-01T00:00:00\", \"Origin\": \"USA\"}, {\"Name\": \"plymouth duster\", \"Miles_per_Gallon\": 20.0, \"Cylinders\": 6, \"Displacement\": 198.0, \"Horsepower\": 95.0, \"Weight_in_lbs\": 3102, \"Acceleration\": 16.5, \"Year\": \"1974-01-01T00:00:00\", \"Origin\": \"USA\"}, {\"Name\": \"ford maverick\", \"Miles_per_Gallon\": 21.0, \"Cylinders\": 6, \"Displacement\": 200.0, \"Horsepower\": null, \"Weight_in_lbs\": 2875, \"Acceleration\": 17.0, \"Year\": \"1974-01-01T00:00:00\", \"Origin\": \"USA\"}, {\"Name\": \"amc hornet\", \"Miles_per_Gallon\": 19.0, \"Cylinders\": 6, \"Displacement\": 232.0, \"Horsepower\": 100.0, \"Weight_in_lbs\": 2901, \"Acceleration\": 16.0, \"Year\": \"1974-01-01T00:00:00\", \"Origin\": \"USA\"}, {\"Name\": \"chevrolet nova\", \"Miles_per_Gallon\": 15.0, \"Cylinders\": 6, \"Displacement\": 250.0, \"Horsepower\": 100.0, \"Weight_in_lbs\": 3336, \"Acceleration\": 17.0, \"Year\": \"1974-01-01T00:00:00\", \"Origin\": \"USA\"}, {\"Name\": \"datsun b210\", \"Miles_per_Gallon\": 31.0, \"Cylinders\": 4, \"Displacement\": 79.0, \"Horsepower\": 67.0, \"Weight_in_lbs\": 1950, \"Acceleration\": 19.0, \"Year\": \"1974-01-01T00:00:00\", \"Origin\": \"Japan\"}, {\"Name\": \"ford pinto\", \"Miles_per_Gallon\": 26.0, \"Cylinders\": 4, \"Displacement\": 122.0, \"Horsepower\": 80.0, \"Weight_in_lbs\": 2451, \"Acceleration\": 16.5, \"Year\": \"1974-01-01T00:00:00\", \"Origin\": \"USA\"}, {\"Name\": \"toyota corolla 1200\", \"Miles_per_Gallon\": 32.0, \"Cylinders\": 4, \"Displacement\": 71.0, \"Horsepower\": 65.0, \"Weight_in_lbs\": 1836, \"Acceleration\": 21.0, \"Year\": \"1974-01-01T00:00:00\", \"Origin\": \"Japan\"}, {\"Name\": \"chevrolet vega\", \"Miles_per_Gallon\": 25.0, \"Cylinders\": 4, \"Displacement\": 140.0, \"Horsepower\": 75.0, \"Weight_in_lbs\": 2542, \"Acceleration\": 17.0, \"Year\": \"1974-01-01T00:00:00\", \"Origin\": \"USA\"}, {\"Name\": \"chevrolet chevelle malibu classic\", \"Miles_per_Gallon\": 16.0, \"Cylinders\": 6, \"Displacement\": 250.0, \"Horsepower\": 100.0, \"Weight_in_lbs\": 3781, \"Acceleration\": 17.0, \"Year\": \"1974-01-01T00:00:00\", \"Origin\": \"USA\"}, {\"Name\": \"amc matador\", \"Miles_per_Gallon\": 16.0, \"Cylinders\": 6, \"Displacement\": 258.0, \"Horsepower\": 110.0, \"Weight_in_lbs\": 3632, \"Acceleration\": 18.0, \"Year\": \"1974-01-01T00:00:00\", \"Origin\": \"USA\"}, {\"Name\": \"plymouth satellite sebring\", \"Miles_per_Gallon\": 18.0, \"Cylinders\": 6, \"Displacement\": 225.0, \"Horsepower\": 105.0, \"Weight_in_lbs\": 3613, \"Acceleration\": 16.5, \"Year\": \"1974-01-01T00:00:00\", \"Origin\": \"USA\"}, {\"Name\": \"ford gran torino\", \"Miles_per_Gallon\": 16.0, \"Cylinders\": 8, \"Displacement\": 302.0, \"Horsepower\": 140.0, \"Weight_in_lbs\": 4141, \"Acceleration\": 14.0, \"Year\": \"1974-01-01T00:00:00\", \"Origin\": \"USA\"}, {\"Name\": \"buick century luxus (sw)\", \"Miles_per_Gallon\": 13.0, \"Cylinders\": 8, \"Displacement\": 350.0, \"Horsepower\": 150.0, \"Weight_in_lbs\": 4699, \"Acceleration\": 14.5, \"Year\": \"1974-01-01T00:00:00\", \"Origin\": \"USA\"}, {\"Name\": \"dodge coronet custom (sw)\", \"Miles_per_Gallon\": 14.0, \"Cylinders\": 8, \"Displacement\": 318.0, \"Horsepower\": 150.0, \"Weight_in_lbs\": 4457, \"Acceleration\": 13.5, \"Year\": \"1974-01-01T00:00:00\", \"Origin\": \"USA\"}, {\"Name\": \"ford gran torino (sw)\", \"Miles_per_Gallon\": 14.0, \"Cylinders\": 8, \"Displacement\": 302.0, \"Horsepower\": 140.0, \"Weight_in_lbs\": 4638, \"Acceleration\": 16.0, \"Year\": \"1974-01-01T00:00:00\", \"Origin\": \"USA\"}, {\"Name\": \"amc matador (sw)\", \"Miles_per_Gallon\": 14.0, \"Cylinders\": 8, \"Displacement\": 304.0, \"Horsepower\": 150.0, \"Weight_in_lbs\": 4257, \"Acceleration\": 15.5, \"Year\": \"1974-01-01T00:00:00\", \"Origin\": \"USA\"}, {\"Name\": \"audi fox\", \"Miles_per_Gallon\": 29.0, \"Cylinders\": 4, \"Displacement\": 98.0, \"Horsepower\": 83.0, \"Weight_in_lbs\": 2219, \"Acceleration\": 16.5, \"Year\": \"1974-01-01T00:00:00\", \"Origin\": \"Europe\"}, {\"Name\": \"volkswagen dasher\", \"Miles_per_Gallon\": 26.0, \"Cylinders\": 4, \"Displacement\": 79.0, \"Horsepower\": 67.0, \"Weight_in_lbs\": 1963, \"Acceleration\": 15.5, \"Year\": \"1974-01-01T00:00:00\", \"Origin\": \"Europe\"}, {\"Name\": \"opel manta\", \"Miles_per_Gallon\": 26.0, \"Cylinders\": 4, \"Displacement\": 97.0, \"Horsepower\": 78.0, \"Weight_in_lbs\": 2300, \"Acceleration\": 14.5, \"Year\": \"1974-01-01T00:00:00\", \"Origin\": \"Europe\"}, {\"Name\": \"toyota corona\", \"Miles_per_Gallon\": 31.0, \"Cylinders\": 4, \"Displacement\": 76.0, \"Horsepower\": 52.0, \"Weight_in_lbs\": 1649, \"Acceleration\": 16.5, \"Year\": \"1974-01-01T00:00:00\", \"Origin\": \"Japan\"}, {\"Name\": \"datsun 710\", \"Miles_per_Gallon\": 32.0, \"Cylinders\": 4, \"Displacement\": 83.0, \"Horsepower\": 61.0, \"Weight_in_lbs\": 2003, \"Acceleration\": 19.0, \"Year\": \"1974-01-01T00:00:00\", \"Origin\": \"Japan\"}, {\"Name\": \"dodge colt\", \"Miles_per_Gallon\": 28.0, \"Cylinders\": 4, \"Displacement\": 90.0, \"Horsepower\": 75.0, \"Weight_in_lbs\": 2125, \"Acceleration\": 14.5, \"Year\": \"1974-01-01T00:00:00\", \"Origin\": \"USA\"}, {\"Name\": \"fiat 128\", \"Miles_per_Gallon\": 24.0, \"Cylinders\": 4, \"Displacement\": 90.0, \"Horsepower\": 75.0, \"Weight_in_lbs\": 2108, \"Acceleration\": 15.5, \"Year\": \"1974-01-01T00:00:00\", \"Origin\": \"Europe\"}, {\"Name\": \"fiat 124 tc\", \"Miles_per_Gallon\": 26.0, \"Cylinders\": 4, \"Displacement\": 116.0, \"Horsepower\": 75.0, \"Weight_in_lbs\": 2246, \"Acceleration\": 14.0, \"Year\": \"1974-01-01T00:00:00\", \"Origin\": \"Europe\"}, {\"Name\": \"honda civic\", \"Miles_per_Gallon\": 24.0, \"Cylinders\": 4, \"Displacement\": 120.0, \"Horsepower\": 97.0, \"Weight_in_lbs\": 2489, \"Acceleration\": 15.0, \"Year\": \"1974-01-01T00:00:00\", \"Origin\": \"Japan\"}, {\"Name\": \"subaru\", \"Miles_per_Gallon\": 26.0, \"Cylinders\": 4, \"Displacement\": 108.0, \"Horsepower\": 93.0, \"Weight_in_lbs\": 2391, \"Acceleration\": 15.5, \"Year\": \"1974-01-01T00:00:00\", \"Origin\": \"Japan\"}, {\"Name\": \"fiat x1.9\", \"Miles_per_Gallon\": 31.0, \"Cylinders\": 4, \"Displacement\": 79.0, \"Horsepower\": 67.0, \"Weight_in_lbs\": 2000, \"Acceleration\": 16.0, \"Year\": \"1974-01-01T00:00:00\", \"Origin\": \"Europe\"}, {\"Name\": \"plymouth valiant custom\", \"Miles_per_Gallon\": 19.0, \"Cylinders\": 6, \"Displacement\": 225.0, \"Horsepower\": 95.0, \"Weight_in_lbs\": 3264, \"Acceleration\": 16.0, \"Year\": \"1975-01-01T00:00:00\", \"Origin\": \"USA\"}, {\"Name\": \"chevrolet nova\", \"Miles_per_Gallon\": 18.0, \"Cylinders\": 6, \"Displacement\": 250.0, \"Horsepower\": 105.0, \"Weight_in_lbs\": 3459, \"Acceleration\": 16.0, \"Year\": \"1975-01-01T00:00:00\", \"Origin\": \"USA\"}, {\"Name\": \"mercury monarch\", \"Miles_per_Gallon\": 15.0, \"Cylinders\": 6, \"Displacement\": 250.0, \"Horsepower\": 72.0, \"Weight_in_lbs\": 3432, \"Acceleration\": 21.0, \"Year\": \"1975-01-01T00:00:00\", \"Origin\": \"USA\"}, {\"Name\": \"ford maverick\", \"Miles_per_Gallon\": 15.0, \"Cylinders\": 6, \"Displacement\": 250.0, \"Horsepower\": 72.0, \"Weight_in_lbs\": 3158, \"Acceleration\": 19.5, \"Year\": \"1975-01-01T00:00:00\", \"Origin\": \"USA\"}, {\"Name\": \"pontiac catalina\", \"Miles_per_Gallon\": 16.0, \"Cylinders\": 8, \"Displacement\": 400.0, \"Horsepower\": 170.0, \"Weight_in_lbs\": 4668, \"Acceleration\": 11.5, \"Year\": \"1975-01-01T00:00:00\", \"Origin\": \"USA\"}, {\"Name\": \"chevrolet bel air\", \"Miles_per_Gallon\": 15.0, \"Cylinders\": 8, \"Displacement\": 350.0, \"Horsepower\": 145.0, \"Weight_in_lbs\": 4440, \"Acceleration\": 14.0, \"Year\": \"1975-01-01T00:00:00\", \"Origin\": \"USA\"}, {\"Name\": \"plymouth grand fury\", \"Miles_per_Gallon\": 16.0, \"Cylinders\": 8, \"Displacement\": 318.0, \"Horsepower\": 150.0, \"Weight_in_lbs\": 4498, \"Acceleration\": 14.5, \"Year\": \"1975-01-01T00:00:00\", \"Origin\": \"USA\"}, {\"Name\": \"ford ltd\", \"Miles_per_Gallon\": 14.0, \"Cylinders\": 8, \"Displacement\": 351.0, \"Horsepower\": 148.0, \"Weight_in_lbs\": 4657, \"Acceleration\": 13.5, \"Year\": \"1975-01-01T00:00:00\", \"Origin\": \"USA\"}, {\"Name\": \"buick century\", \"Miles_per_Gallon\": 17.0, \"Cylinders\": 6, \"Displacement\": 231.0, \"Horsepower\": 110.0, \"Weight_in_lbs\": 3907, \"Acceleration\": 21.0, \"Year\": \"1975-01-01T00:00:00\", \"Origin\": \"USA\"}, {\"Name\": \"chevroelt chevelle malibu\", \"Miles_per_Gallon\": 16.0, \"Cylinders\": 6, \"Displacement\": 250.0, \"Horsepower\": 105.0, \"Weight_in_lbs\": 3897, \"Acceleration\": 18.5, \"Year\": \"1975-01-01T00:00:00\", \"Origin\": \"USA\"}, {\"Name\": \"amc matador\", \"Miles_per_Gallon\": 15.0, \"Cylinders\": 6, \"Displacement\": 258.0, \"Horsepower\": 110.0, \"Weight_in_lbs\": 3730, \"Acceleration\": 19.0, \"Year\": \"1975-01-01T00:00:00\", \"Origin\": \"USA\"}, {\"Name\": \"plymouth fury\", \"Miles_per_Gallon\": 18.0, \"Cylinders\": 6, \"Displacement\": 225.0, \"Horsepower\": 95.0, \"Weight_in_lbs\": 3785, \"Acceleration\": 19.0, \"Year\": \"1975-01-01T00:00:00\", \"Origin\": \"USA\"}, {\"Name\": \"buick skyhawk\", \"Miles_per_Gallon\": 21.0, \"Cylinders\": 6, \"Displacement\": 231.0, \"Horsepower\": 110.0, \"Weight_in_lbs\": 3039, \"Acceleration\": 15.0, \"Year\": \"1975-01-01T00:00:00\", \"Origin\": \"USA\"}, {\"Name\": \"chevrolet monza 2+2\", \"Miles_per_Gallon\": 20.0, \"Cylinders\": 8, \"Displacement\": 262.0, \"Horsepower\": 110.0, \"Weight_in_lbs\": 3221, \"Acceleration\": 13.5, \"Year\": \"1975-01-01T00:00:00\", \"Origin\": \"USA\"}, {\"Name\": \"ford mustang ii\", \"Miles_per_Gallon\": 13.0, \"Cylinders\": 8, \"Displacement\": 302.0, \"Horsepower\": 129.0, \"Weight_in_lbs\": 3169, \"Acceleration\": 12.0, \"Year\": \"1975-01-01T00:00:00\", \"Origin\": \"USA\"}, {\"Name\": \"toyota corolla\", \"Miles_per_Gallon\": 29.0, \"Cylinders\": 4, \"Displacement\": 97.0, \"Horsepower\": 75.0, \"Weight_in_lbs\": 2171, \"Acceleration\": 16.0, \"Year\": \"1975-01-01T00:00:00\", \"Origin\": \"Japan\"}, {\"Name\": \"ford pinto\", \"Miles_per_Gallon\": 23.0, \"Cylinders\": 4, \"Displacement\": 140.0, \"Horsepower\": 83.0, \"Weight_in_lbs\": 2639, \"Acceleration\": 17.0, \"Year\": \"1975-01-01T00:00:00\", \"Origin\": \"USA\"}, {\"Name\": \"amc gremlin\", \"Miles_per_Gallon\": 20.0, \"Cylinders\": 6, \"Displacement\": 232.0, \"Horsepower\": 100.0, \"Weight_in_lbs\": 2914, \"Acceleration\": 16.0, \"Year\": \"1975-01-01T00:00:00\", \"Origin\": \"USA\"}, {\"Name\": \"pontiac astro\", \"Miles_per_Gallon\": 23.0, \"Cylinders\": 4, \"Displacement\": 140.0, \"Horsepower\": 78.0, \"Weight_in_lbs\": 2592, \"Acceleration\": 18.5, \"Year\": \"1975-01-01T00:00:00\", \"Origin\": \"USA\"}, {\"Name\": \"toyota corona\", \"Miles_per_Gallon\": 24.0, \"Cylinders\": 4, \"Displacement\": 134.0, \"Horsepower\": 96.0, \"Weight_in_lbs\": 2702, \"Acceleration\": 13.5, \"Year\": \"1975-01-01T00:00:00\", \"Origin\": \"Japan\"}, {\"Name\": \"volkswagen dasher\", \"Miles_per_Gallon\": 25.0, \"Cylinders\": 4, \"Displacement\": 90.0, \"Horsepower\": 71.0, \"Weight_in_lbs\": 2223, \"Acceleration\": 16.5, \"Year\": \"1975-01-01T00:00:00\", \"Origin\": \"Europe\"}, {\"Name\": \"datsun 710\", \"Miles_per_Gallon\": 24.0, \"Cylinders\": 4, \"Displacement\": 119.0, \"Horsepower\": 97.0, \"Weight_in_lbs\": 2545, \"Acceleration\": 17.0, \"Year\": \"1975-01-01T00:00:00\", \"Origin\": \"Japan\"}, {\"Name\": \"ford pinto\", \"Miles_per_Gallon\": 18.0, \"Cylinders\": 6, \"Displacement\": 171.0, \"Horsepower\": 97.0, \"Weight_in_lbs\": 2984, \"Acceleration\": 14.5, \"Year\": \"1975-01-01T00:00:00\", \"Origin\": \"USA\"}, {\"Name\": \"volkswagen rabbit\", \"Miles_per_Gallon\": 29.0, \"Cylinders\": 4, \"Displacement\": 90.0, \"Horsepower\": 70.0, \"Weight_in_lbs\": 1937, \"Acceleration\": 14.0, \"Year\": \"1975-01-01T00:00:00\", \"Origin\": \"Europe\"}, {\"Name\": \"amc pacer\", \"Miles_per_Gallon\": 19.0, \"Cylinders\": 6, \"Displacement\": 232.0, \"Horsepower\": 90.0, \"Weight_in_lbs\": 3211, \"Acceleration\": 17.0, \"Year\": \"1975-01-01T00:00:00\", \"Origin\": \"USA\"}, {\"Name\": \"audi 100ls\", \"Miles_per_Gallon\": 23.0, \"Cylinders\": 4, \"Displacement\": 115.0, \"Horsepower\": 95.0, \"Weight_in_lbs\": 2694, \"Acceleration\": 15.0, \"Year\": \"1975-01-01T00:00:00\", \"Origin\": \"Europe\"}, {\"Name\": \"peugeot 504\", \"Miles_per_Gallon\": 23.0, \"Cylinders\": 4, \"Displacement\": 120.0, \"Horsepower\": 88.0, \"Weight_in_lbs\": 2957, \"Acceleration\": 17.0, \"Year\": \"1975-01-01T00:00:00\", \"Origin\": \"Europe\"}, {\"Name\": \"volvo 244dl\", \"Miles_per_Gallon\": 22.0, \"Cylinders\": 4, \"Displacement\": 121.0, \"Horsepower\": 98.0, \"Weight_in_lbs\": 2945, \"Acceleration\": 14.5, \"Year\": \"1975-01-01T00:00:00\", \"Origin\": \"Europe\"}, {\"Name\": \"saab 99le\", \"Miles_per_Gallon\": 25.0, \"Cylinders\": 4, \"Displacement\": 121.0, \"Horsepower\": 115.0, \"Weight_in_lbs\": 2671, \"Acceleration\": 13.5, \"Year\": \"1975-01-01T00:00:00\", \"Origin\": \"Europe\"}, {\"Name\": \"honda civic cvcc\", \"Miles_per_Gallon\": 33.0, \"Cylinders\": 4, \"Displacement\": 91.0, \"Horsepower\": 53.0, \"Weight_in_lbs\": 1795, \"Acceleration\": 17.5, \"Year\": \"1975-01-01T00:00:00\", \"Origin\": \"Japan\"}, {\"Name\": \"fiat 131\", \"Miles_per_Gallon\": 28.0, \"Cylinders\": 4, \"Displacement\": 107.0, \"Horsepower\": 86.0, \"Weight_in_lbs\": 2464, \"Acceleration\": 15.5, \"Year\": \"1976-01-01T00:00:00\", \"Origin\": \"Europe\"}, {\"Name\": \"opel 1900\", \"Miles_per_Gallon\": 25.0, \"Cylinders\": 4, \"Displacement\": 116.0, \"Horsepower\": 81.0, \"Weight_in_lbs\": 2220, \"Acceleration\": 16.9, \"Year\": \"1976-01-01T00:00:00\", \"Origin\": \"Europe\"}, {\"Name\": \"capri ii\", \"Miles_per_Gallon\": 25.0, \"Cylinders\": 4, \"Displacement\": 140.0, \"Horsepower\": 92.0, \"Weight_in_lbs\": 2572, \"Acceleration\": 14.9, \"Year\": \"1976-01-01T00:00:00\", \"Origin\": \"USA\"}, {\"Name\": \"dodge colt\", \"Miles_per_Gallon\": 26.0, \"Cylinders\": 4, \"Displacement\": 98.0, \"Horsepower\": 79.0, \"Weight_in_lbs\": 2255, \"Acceleration\": 17.7, \"Year\": \"1976-01-01T00:00:00\", \"Origin\": \"USA\"}, {\"Name\": \"renault 12tl\", \"Miles_per_Gallon\": 27.0, \"Cylinders\": 4, \"Displacement\": 101.0, \"Horsepower\": 83.0, \"Weight_in_lbs\": 2202, \"Acceleration\": 15.3, \"Year\": \"1976-01-01T00:00:00\", \"Origin\": \"Europe\"}, {\"Name\": \"chevrolet chevelle malibu classic\", \"Miles_per_Gallon\": 17.5, \"Cylinders\": 8, \"Displacement\": 305.0, \"Horsepower\": 140.0, \"Weight_in_lbs\": 4215, \"Acceleration\": 13.0, \"Year\": \"1976-01-01T00:00:00\", \"Origin\": \"USA\"}, {\"Name\": \"dodge coronet brougham\", \"Miles_per_Gallon\": 16.0, \"Cylinders\": 8, \"Displacement\": 318.0, \"Horsepower\": 150.0, \"Weight_in_lbs\": 4190, \"Acceleration\": 13.0, \"Year\": \"1976-01-01T00:00:00\", \"Origin\": \"USA\"}, {\"Name\": \"amc matador\", \"Miles_per_Gallon\": 15.5, \"Cylinders\": 8, \"Displacement\": 304.0, \"Horsepower\": 120.0, \"Weight_in_lbs\": 3962, \"Acceleration\": 13.9, \"Year\": \"1976-01-01T00:00:00\", \"Origin\": \"USA\"}, {\"Name\": \"ford gran torino\", \"Miles_per_Gallon\": 14.5, \"Cylinders\": 8, \"Displacement\": 351.0, \"Horsepower\": 152.0, \"Weight_in_lbs\": 4215, \"Acceleration\": 12.8, \"Year\": \"1976-01-01T00:00:00\", \"Origin\": \"USA\"}, {\"Name\": \"plymouth valiant\", \"Miles_per_Gallon\": 22.0, \"Cylinders\": 6, \"Displacement\": 225.0, \"Horsepower\": 100.0, \"Weight_in_lbs\": 3233, \"Acceleration\": 15.4, \"Year\": \"1976-01-01T00:00:00\", \"Origin\": \"USA\"}, {\"Name\": \"chevrolet nova\", \"Miles_per_Gallon\": 22.0, \"Cylinders\": 6, \"Displacement\": 250.0, \"Horsepower\": 105.0, \"Weight_in_lbs\": 3353, \"Acceleration\": 14.5, \"Year\": \"1976-01-01T00:00:00\", \"Origin\": \"USA\"}, {\"Name\": \"ford maverick\", \"Miles_per_Gallon\": 24.0, \"Cylinders\": 6, \"Displacement\": 200.0, \"Horsepower\": 81.0, \"Weight_in_lbs\": 3012, \"Acceleration\": 17.6, \"Year\": \"1976-01-01T00:00:00\", \"Origin\": \"USA\"}, {\"Name\": \"amc hornet\", \"Miles_per_Gallon\": 22.5, \"Cylinders\": 6, \"Displacement\": 232.0, \"Horsepower\": 90.0, \"Weight_in_lbs\": 3085, \"Acceleration\": 17.6, \"Year\": \"1976-01-01T00:00:00\", \"Origin\": \"USA\"}, {\"Name\": \"chevrolet chevette\", \"Miles_per_Gallon\": 29.0, \"Cylinders\": 4, \"Displacement\": 85.0, \"Horsepower\": 52.0, \"Weight_in_lbs\": 2035, \"Acceleration\": 22.2, \"Year\": \"1976-01-01T00:00:00\", \"Origin\": \"USA\"}, {\"Name\": \"chevrolet woody\", \"Miles_per_Gallon\": 24.5, \"Cylinders\": 4, \"Displacement\": 98.0, \"Horsepower\": 60.0, \"Weight_in_lbs\": 2164, \"Acceleration\": 22.1, \"Year\": \"1976-01-01T00:00:00\", \"Origin\": \"USA\"}, {\"Name\": \"vw rabbit\", \"Miles_per_Gallon\": 29.0, \"Cylinders\": 4, \"Displacement\": 90.0, \"Horsepower\": 70.0, \"Weight_in_lbs\": 1937, \"Acceleration\": 14.2, \"Year\": \"1976-01-01T00:00:00\", \"Origin\": \"Europe\"}, {\"Name\": \"honda civic\", \"Miles_per_Gallon\": 33.0, \"Cylinders\": 4, \"Displacement\": 91.0, \"Horsepower\": 53.0, \"Weight_in_lbs\": 1795, \"Acceleration\": 17.4, \"Year\": \"1976-01-01T00:00:00\", \"Origin\": \"Japan\"}, {\"Name\": \"dodge aspen se\", \"Miles_per_Gallon\": 20.0, \"Cylinders\": 6, \"Displacement\": 225.0, \"Horsepower\": 100.0, \"Weight_in_lbs\": 3651, \"Acceleration\": 17.7, \"Year\": \"1976-01-01T00:00:00\", \"Origin\": \"USA\"}, {\"Name\": \"ford granada ghia\", \"Miles_per_Gallon\": 18.0, \"Cylinders\": 6, \"Displacement\": 250.0, \"Horsepower\": 78.0, \"Weight_in_lbs\": 3574, \"Acceleration\": 21.0, \"Year\": \"1976-01-01T00:00:00\", \"Origin\": \"USA\"}, {\"Name\": \"pontiac ventura sj\", \"Miles_per_Gallon\": 18.5, \"Cylinders\": 6, \"Displacement\": 250.0, \"Horsepower\": 110.0, \"Weight_in_lbs\": 3645, \"Acceleration\": 16.2, \"Year\": \"1976-01-01T00:00:00\", \"Origin\": \"USA\"}, {\"Name\": \"amc pacer d/l\", \"Miles_per_Gallon\": 17.5, \"Cylinders\": 6, \"Displacement\": 258.0, \"Horsepower\": 95.0, \"Weight_in_lbs\": 3193, \"Acceleration\": 17.8, \"Year\": \"1976-01-01T00:00:00\", \"Origin\": \"USA\"}, {\"Name\": \"volkswagen rabbit\", \"Miles_per_Gallon\": 29.5, \"Cylinders\": 4, \"Displacement\": 97.0, \"Horsepower\": 71.0, \"Weight_in_lbs\": 1825, \"Acceleration\": 12.2, \"Year\": \"1976-01-01T00:00:00\", \"Origin\": \"Europe\"}, {\"Name\": \"datsun b-210\", \"Miles_per_Gallon\": 32.0, \"Cylinders\": 4, \"Displacement\": 85.0, \"Horsepower\": 70.0, \"Weight_in_lbs\": 1990, \"Acceleration\": 17.0, \"Year\": \"1976-01-01T00:00:00\", \"Origin\": \"Japan\"}, {\"Name\": \"toyota corolla\", \"Miles_per_Gallon\": 28.0, \"Cylinders\": 4, \"Displacement\": 97.0, \"Horsepower\": 75.0, \"Weight_in_lbs\": 2155, \"Acceleration\": 16.4, \"Year\": \"1976-01-01T00:00:00\", \"Origin\": \"Japan\"}, {\"Name\": \"ford pinto\", \"Miles_per_Gallon\": 26.5, \"Cylinders\": 4, \"Displacement\": 140.0, \"Horsepower\": 72.0, \"Weight_in_lbs\": 2565, \"Acceleration\": 13.6, \"Year\": \"1976-01-01T00:00:00\", \"Origin\": \"USA\"}, {\"Name\": \"volvo 245\", \"Miles_per_Gallon\": 20.0, \"Cylinders\": 4, \"Displacement\": 130.0, \"Horsepower\": 102.0, \"Weight_in_lbs\": 3150, \"Acceleration\": 15.7, \"Year\": \"1976-01-01T00:00:00\", \"Origin\": \"Europe\"}, {\"Name\": \"plymouth volare premier v8\", \"Miles_per_Gallon\": 13.0, \"Cylinders\": 8, \"Displacement\": 318.0, \"Horsepower\": 150.0, \"Weight_in_lbs\": 3940, \"Acceleration\": 13.2, \"Year\": \"1976-01-01T00:00:00\", \"Origin\": \"USA\"}, {\"Name\": \"peugeot 504\", \"Miles_per_Gallon\": 19.0, \"Cylinders\": 4, \"Displacement\": 120.0, \"Horsepower\": 88.0, \"Weight_in_lbs\": 3270, \"Acceleration\": 21.9, \"Year\": \"1976-01-01T00:00:00\", \"Origin\": \"Europe\"}, {\"Name\": \"toyota mark ii\", \"Miles_per_Gallon\": 19.0, \"Cylinders\": 6, \"Displacement\": 156.0, \"Horsepower\": 108.0, \"Weight_in_lbs\": 2930, \"Acceleration\": 15.5, \"Year\": \"1976-01-01T00:00:00\", \"Origin\": \"Japan\"}, {\"Name\": \"mercedes-benz 280s\", \"Miles_per_Gallon\": 16.5, \"Cylinders\": 6, \"Displacement\": 168.0, \"Horsepower\": 120.0, \"Weight_in_lbs\": 3820, \"Acceleration\": 16.7, \"Year\": \"1976-01-01T00:00:00\", \"Origin\": \"Europe\"}, {\"Name\": \"cadillac seville\", \"Miles_per_Gallon\": 16.5, \"Cylinders\": 8, \"Displacement\": 350.0, \"Horsepower\": 180.0, \"Weight_in_lbs\": 4380, \"Acceleration\": 12.1, \"Year\": \"1976-01-01T00:00:00\", \"Origin\": \"USA\"}, {\"Name\": \"chevy c10\", \"Miles_per_Gallon\": 13.0, \"Cylinders\": 8, \"Displacement\": 350.0, \"Horsepower\": 145.0, \"Weight_in_lbs\": 4055, \"Acceleration\": 12.0, \"Year\": \"1976-01-01T00:00:00\", \"Origin\": \"USA\"}, {\"Name\": \"ford f108\", \"Miles_per_Gallon\": 13.0, \"Cylinders\": 8, \"Displacement\": 302.0, \"Horsepower\": 130.0, \"Weight_in_lbs\": 3870, \"Acceleration\": 15.0, \"Year\": \"1976-01-01T00:00:00\", \"Origin\": \"USA\"}, {\"Name\": \"dodge d100\", \"Miles_per_Gallon\": 13.0, \"Cylinders\": 8, \"Displacement\": 318.0, \"Horsepower\": 150.0, \"Weight_in_lbs\": 3755, \"Acceleration\": 14.0, \"Year\": \"1976-01-01T00:00:00\", \"Origin\": \"USA\"}, {\"Name\": \"honda Accelerationord cvcc\", \"Miles_per_Gallon\": 31.5, \"Cylinders\": 4, \"Displacement\": 98.0, \"Horsepower\": 68.0, \"Weight_in_lbs\": 2045, \"Acceleration\": 18.5, \"Year\": \"1977-01-01T00:00:00\", \"Origin\": \"Japan\"}, {\"Name\": \"buick opel isuzu deluxe\", \"Miles_per_Gallon\": 30.0, \"Cylinders\": 4, \"Displacement\": 111.0, \"Horsepower\": 80.0, \"Weight_in_lbs\": 2155, \"Acceleration\": 14.8, \"Year\": \"1977-01-01T00:00:00\", \"Origin\": \"USA\"}, {\"Name\": \"renault 5 gtl\", \"Miles_per_Gallon\": 36.0, \"Cylinders\": 4, \"Displacement\": 79.0, \"Horsepower\": 58.0, \"Weight_in_lbs\": 1825, \"Acceleration\": 18.6, \"Year\": \"1977-01-01T00:00:00\", \"Origin\": \"Europe\"}, {\"Name\": \"plymouth arrow gs\", \"Miles_per_Gallon\": 25.5, \"Cylinders\": 4, \"Displacement\": 122.0, \"Horsepower\": 96.0, \"Weight_in_lbs\": 2300, \"Acceleration\": 15.5, \"Year\": \"1977-01-01T00:00:00\", \"Origin\": \"USA\"}, {\"Name\": \"datsun f-10 hatchback\", \"Miles_per_Gallon\": 33.5, \"Cylinders\": 4, \"Displacement\": 85.0, \"Horsepower\": 70.0, \"Weight_in_lbs\": 1945, \"Acceleration\": 16.8, \"Year\": \"1977-01-01T00:00:00\", \"Origin\": \"Japan\"}, {\"Name\": \"chevrolet caprice classic\", \"Miles_per_Gallon\": 17.5, \"Cylinders\": 8, \"Displacement\": 305.0, \"Horsepower\": 145.0, \"Weight_in_lbs\": 3880, \"Acceleration\": 12.5, \"Year\": \"1977-01-01T00:00:00\", \"Origin\": \"USA\"}, {\"Name\": \"oldsmobile cutlass supreme\", \"Miles_per_Gallon\": 17.0, \"Cylinders\": 8, \"Displacement\": 260.0, \"Horsepower\": 110.0, \"Weight_in_lbs\": 4060, \"Acceleration\": 19.0, \"Year\": \"1977-01-01T00:00:00\", \"Origin\": \"USA\"}, {\"Name\": \"dodge monaco brougham\", \"Miles_per_Gallon\": 15.5, \"Cylinders\": 8, \"Displacement\": 318.0, \"Horsepower\": 145.0, \"Weight_in_lbs\": 4140, \"Acceleration\": 13.7, \"Year\": \"1977-01-01T00:00:00\", \"Origin\": \"USA\"}, {\"Name\": \"mercury cougar brougham\", \"Miles_per_Gallon\": 15.0, \"Cylinders\": 8, \"Displacement\": 302.0, \"Horsepower\": 130.0, \"Weight_in_lbs\": 4295, \"Acceleration\": 14.9, \"Year\": \"1977-01-01T00:00:00\", \"Origin\": \"USA\"}, {\"Name\": \"chevrolet concours\", \"Miles_per_Gallon\": 17.5, \"Cylinders\": 6, \"Displacement\": 250.0, \"Horsepower\": 110.0, \"Weight_in_lbs\": 3520, \"Acceleration\": 16.4, \"Year\": \"1977-01-01T00:00:00\", \"Origin\": \"USA\"}, {\"Name\": \"buick skylark\", \"Miles_per_Gallon\": 20.5, \"Cylinders\": 6, \"Displacement\": 231.0, \"Horsepower\": 105.0, \"Weight_in_lbs\": 3425, \"Acceleration\": 16.9, \"Year\": \"1977-01-01T00:00:00\", \"Origin\": \"USA\"}, {\"Name\": \"plymouth volare custom\", \"Miles_per_Gallon\": 19.0, \"Cylinders\": 6, \"Displacement\": 225.0, \"Horsepower\": 100.0, \"Weight_in_lbs\": 3630, \"Acceleration\": 17.7, \"Year\": \"1977-01-01T00:00:00\", \"Origin\": \"USA\"}, {\"Name\": \"ford granada\", \"Miles_per_Gallon\": 18.5, \"Cylinders\": 6, \"Displacement\": 250.0, \"Horsepower\": 98.0, \"Weight_in_lbs\": 3525, \"Acceleration\": 19.0, \"Year\": \"1977-01-01T00:00:00\", \"Origin\": \"USA\"}, {\"Name\": \"pontiac grand prix lj\", \"Miles_per_Gallon\": 16.0, \"Cylinders\": 8, \"Displacement\": 400.0, \"Horsepower\": 180.0, \"Weight_in_lbs\": 4220, \"Acceleration\": 11.1, \"Year\": \"1977-01-01T00:00:00\", \"Origin\": \"USA\"}, {\"Name\": \"chevrolet monte carlo landau\", \"Miles_per_Gallon\": 15.5, \"Cylinders\": 8, \"Displacement\": 350.0, \"Horsepower\": 170.0, \"Weight_in_lbs\": 4165, \"Acceleration\": 11.4, \"Year\": \"1977-01-01T00:00:00\", \"Origin\": \"USA\"}, {\"Name\": \"chrysler cordoba\", \"Miles_per_Gallon\": 15.5, \"Cylinders\": 8, \"Displacement\": 400.0, \"Horsepower\": 190.0, \"Weight_in_lbs\": 4325, \"Acceleration\": 12.2, \"Year\": \"1977-01-01T00:00:00\", \"Origin\": \"USA\"}, {\"Name\": \"ford thunderbird\", \"Miles_per_Gallon\": 16.0, \"Cylinders\": 8, \"Displacement\": 351.0, \"Horsepower\": 149.0, \"Weight_in_lbs\": 4335, \"Acceleration\": 14.5, \"Year\": \"1977-01-01T00:00:00\", \"Origin\": \"USA\"}, {\"Name\": \"volkswagen rabbit custom\", \"Miles_per_Gallon\": 29.0, \"Cylinders\": 4, \"Displacement\": 97.0, \"Horsepower\": 78.0, \"Weight_in_lbs\": 1940, \"Acceleration\": 14.5, \"Year\": \"1977-01-01T00:00:00\", \"Origin\": \"Europe\"}, {\"Name\": \"pontiac sunbird coupe\", \"Miles_per_Gallon\": 24.5, \"Cylinders\": 4, \"Displacement\": 151.0, \"Horsepower\": 88.0, \"Weight_in_lbs\": 2740, \"Acceleration\": 16.0, \"Year\": \"1977-01-01T00:00:00\", \"Origin\": \"USA\"}, {\"Name\": \"toyota corolla liftback\", \"Miles_per_Gallon\": 26.0, \"Cylinders\": 4, \"Displacement\": 97.0, \"Horsepower\": 75.0, \"Weight_in_lbs\": 2265, \"Acceleration\": 18.2, \"Year\": \"1977-01-01T00:00:00\", \"Origin\": \"Japan\"}, {\"Name\": \"ford mustang ii 2+2\", \"Miles_per_Gallon\": 25.5, \"Cylinders\": 4, \"Displacement\": 140.0, \"Horsepower\": 89.0, \"Weight_in_lbs\": 2755, \"Acceleration\": 15.8, \"Year\": \"1977-01-01T00:00:00\", \"Origin\": \"USA\"}, {\"Name\": \"chevrolet chevette\", \"Miles_per_Gallon\": 30.5, \"Cylinders\": 4, \"Displacement\": 98.0, \"Horsepower\": 63.0, \"Weight_in_lbs\": 2051, \"Acceleration\": 17.0, \"Year\": \"1977-01-01T00:00:00\", \"Origin\": \"USA\"}, {\"Name\": \"dodge colt m/m\", \"Miles_per_Gallon\": 33.5, \"Cylinders\": 4, \"Displacement\": 98.0, \"Horsepower\": 83.0, \"Weight_in_lbs\": 2075, \"Acceleration\": 15.9, \"Year\": \"1977-01-01T00:00:00\", \"Origin\": \"USA\"}, {\"Name\": \"subaru dl\", \"Miles_per_Gallon\": 30.0, \"Cylinders\": 4, \"Displacement\": 97.0, \"Horsepower\": 67.0, \"Weight_in_lbs\": 1985, \"Acceleration\": 16.4, \"Year\": \"1977-01-01T00:00:00\", \"Origin\": \"Japan\"}, {\"Name\": \"volkswagen dasher\", \"Miles_per_Gallon\": 30.5, \"Cylinders\": 4, \"Displacement\": 97.0, \"Horsepower\": 78.0, \"Weight_in_lbs\": 2190, \"Acceleration\": 14.1, \"Year\": \"1977-01-01T00:00:00\", \"Origin\": \"Europe\"}, {\"Name\": \"datsun 810\", \"Miles_per_Gallon\": 22.0, \"Cylinders\": 6, \"Displacement\": 146.0, \"Horsepower\": 97.0, \"Weight_in_lbs\": 2815, \"Acceleration\": 14.5, \"Year\": \"1977-01-01T00:00:00\", \"Origin\": \"Japan\"}, {\"Name\": \"bmw 320i\", \"Miles_per_Gallon\": 21.5, \"Cylinders\": 4, \"Displacement\": 121.0, \"Horsepower\": 110.0, \"Weight_in_lbs\": 2600, \"Acceleration\": 12.8, \"Year\": \"1977-01-01T00:00:00\", \"Origin\": \"Europe\"}, {\"Name\": \"mazda rx-4\", \"Miles_per_Gallon\": 21.5, \"Cylinders\": 3, \"Displacement\": 80.0, \"Horsepower\": 110.0, \"Weight_in_lbs\": 2720, \"Acceleration\": 13.5, \"Year\": \"1977-01-01T00:00:00\", \"Origin\": \"Japan\"}, {\"Name\": \"volkswagen rabbit custom diesel\", \"Miles_per_Gallon\": 43.1, \"Cylinders\": 4, \"Displacement\": 90.0, \"Horsepower\": 48.0, \"Weight_in_lbs\": 1985, \"Acceleration\": 21.5, \"Year\": \"1978-01-01T00:00:00\", \"Origin\": \"Europe\"}, {\"Name\": \"ford fiesta\", \"Miles_per_Gallon\": 36.1, \"Cylinders\": 4, \"Displacement\": 98.0, \"Horsepower\": 66.0, \"Weight_in_lbs\": 1800, \"Acceleration\": 14.4, \"Year\": \"1978-01-01T00:00:00\", \"Origin\": \"USA\"}, {\"Name\": \"mazda glc deluxe\", \"Miles_per_Gallon\": 32.8, \"Cylinders\": 4, \"Displacement\": 78.0, \"Horsepower\": 52.0, \"Weight_in_lbs\": 1985, \"Acceleration\": 19.4, \"Year\": \"1978-01-01T00:00:00\", \"Origin\": \"Japan\"}, {\"Name\": \"datsun b210 gx\", \"Miles_per_Gallon\": 39.4, \"Cylinders\": 4, \"Displacement\": 85.0, \"Horsepower\": 70.0, \"Weight_in_lbs\": 2070, \"Acceleration\": 18.6, \"Year\": \"1978-01-01T00:00:00\", \"Origin\": \"Japan\"}, {\"Name\": \"honda civic cvcc\", \"Miles_per_Gallon\": 36.1, \"Cylinders\": 4, \"Displacement\": 91.0, \"Horsepower\": 60.0, \"Weight_in_lbs\": 1800, \"Acceleration\": 16.4, \"Year\": \"1978-01-01T00:00:00\", \"Origin\": \"Japan\"}, {\"Name\": \"oldsmobile cutlass salon brougham\", \"Miles_per_Gallon\": 19.9, \"Cylinders\": 8, \"Displacement\": 260.0, \"Horsepower\": 110.0, \"Weight_in_lbs\": 3365, \"Acceleration\": 15.5, \"Year\": \"1978-01-01T00:00:00\", \"Origin\": \"USA\"}, {\"Name\": \"dodge diplomat\", \"Miles_per_Gallon\": 19.4, \"Cylinders\": 8, \"Displacement\": 318.0, \"Horsepower\": 140.0, \"Weight_in_lbs\": 3735, \"Acceleration\": 13.2, \"Year\": \"1978-01-01T00:00:00\", \"Origin\": \"USA\"}, {\"Name\": \"mercury monarch ghia\", \"Miles_per_Gallon\": 20.2, \"Cylinders\": 8, \"Displacement\": 302.0, \"Horsepower\": 139.0, \"Weight_in_lbs\": 3570, \"Acceleration\": 12.8, \"Year\": \"1978-01-01T00:00:00\", \"Origin\": \"USA\"}, {\"Name\": \"pontiac phoenix lj\", \"Miles_per_Gallon\": 19.2, \"Cylinders\": 6, \"Displacement\": 231.0, \"Horsepower\": 105.0, \"Weight_in_lbs\": 3535, \"Acceleration\": 19.2, \"Year\": \"1978-01-01T00:00:00\", \"Origin\": \"USA\"}, {\"Name\": \"chevrolet malibu\", \"Miles_per_Gallon\": 20.5, \"Cylinders\": 6, \"Displacement\": 200.0, \"Horsepower\": 95.0, \"Weight_in_lbs\": 3155, \"Acceleration\": 18.2, \"Year\": \"1978-01-01T00:00:00\", \"Origin\": \"USA\"}, {\"Name\": \"ford fairmont (auto)\", \"Miles_per_Gallon\": 20.2, \"Cylinders\": 6, \"Displacement\": 200.0, \"Horsepower\": 85.0, \"Weight_in_lbs\": 2965, \"Acceleration\": 15.8, \"Year\": \"1978-01-01T00:00:00\", \"Origin\": \"USA\"}, {\"Name\": \"ford fairmont (man)\", \"Miles_per_Gallon\": 25.1, \"Cylinders\": 4, \"Displacement\": 140.0, \"Horsepower\": 88.0, \"Weight_in_lbs\": 2720, \"Acceleration\": 15.4, \"Year\": \"1978-01-01T00:00:00\", \"Origin\": \"USA\"}, {\"Name\": \"plymouth volare\", \"Miles_per_Gallon\": 20.5, \"Cylinders\": 6, \"Displacement\": 225.0, \"Horsepower\": 100.0, \"Weight_in_lbs\": 3430, \"Acceleration\": 17.2, \"Year\": \"1978-01-01T00:00:00\", \"Origin\": \"USA\"}, {\"Name\": \"amc concord\", \"Miles_per_Gallon\": 19.4, \"Cylinders\": 6, \"Displacement\": 232.0, \"Horsepower\": 90.0, \"Weight_in_lbs\": 3210, \"Acceleration\": 17.2, \"Year\": \"1978-01-01T00:00:00\", \"Origin\": \"USA\"}, {\"Name\": \"buick century special\", \"Miles_per_Gallon\": 20.6, \"Cylinders\": 6, \"Displacement\": 231.0, \"Horsepower\": 105.0, \"Weight_in_lbs\": 3380, \"Acceleration\": 15.8, \"Year\": \"1978-01-01T00:00:00\", \"Origin\": \"USA\"}, {\"Name\": \"mercury zephyr\", \"Miles_per_Gallon\": 20.8, \"Cylinders\": 6, \"Displacement\": 200.0, \"Horsepower\": 85.0, \"Weight_in_lbs\": 3070, \"Acceleration\": 16.7, \"Year\": \"1978-01-01T00:00:00\", \"Origin\": \"USA\"}, {\"Name\": \"dodge aspen\", \"Miles_per_Gallon\": 18.6, \"Cylinders\": 6, \"Displacement\": 225.0, \"Horsepower\": 110.0, \"Weight_in_lbs\": 3620, \"Acceleration\": 18.7, \"Year\": \"1978-01-01T00:00:00\", \"Origin\": \"USA\"}, {\"Name\": \"amc concord d/l\", \"Miles_per_Gallon\": 18.1, \"Cylinders\": 6, \"Displacement\": 258.0, \"Horsepower\": 120.0, \"Weight_in_lbs\": 3410, \"Acceleration\": 15.1, \"Year\": \"1978-01-01T00:00:00\", \"Origin\": \"USA\"}, {\"Name\": \"chevrolet monte carlo landau\", \"Miles_per_Gallon\": 19.2, \"Cylinders\": 8, \"Displacement\": 305.0, \"Horsepower\": 145.0, \"Weight_in_lbs\": 3425, \"Acceleration\": 13.2, \"Year\": \"1978-01-01T00:00:00\", \"Origin\": \"USA\"}, {\"Name\": \"buick regal sport coupe (turbo)\", \"Miles_per_Gallon\": 17.7, \"Cylinders\": 6, \"Displacement\": 231.0, \"Horsepower\": 165.0, \"Weight_in_lbs\": 3445, \"Acceleration\": 13.4, \"Year\": \"1978-01-01T00:00:00\", \"Origin\": \"USA\"}, {\"Name\": \"ford futura\", \"Miles_per_Gallon\": 18.1, \"Cylinders\": 8, \"Displacement\": 302.0, \"Horsepower\": 139.0, \"Weight_in_lbs\": 3205, \"Acceleration\": 11.2, \"Year\": \"1978-01-01T00:00:00\", \"Origin\": \"USA\"}, {\"Name\": \"dodge magnum xe\", \"Miles_per_Gallon\": 17.5, \"Cylinders\": 8, \"Displacement\": 318.0, \"Horsepower\": 140.0, \"Weight_in_lbs\": 4080, \"Acceleration\": 13.7, \"Year\": \"1978-01-01T00:00:00\", \"Origin\": \"USA\"}, {\"Name\": \"chevrolet chevette\", \"Miles_per_Gallon\": 30.0, \"Cylinders\": 4, \"Displacement\": 98.0, \"Horsepower\": 68.0, \"Weight_in_lbs\": 2155, \"Acceleration\": 16.5, \"Year\": \"1978-01-01T00:00:00\", \"Origin\": \"USA\"}, {\"Name\": \"toyota corona\", \"Miles_per_Gallon\": 27.5, \"Cylinders\": 4, \"Displacement\": 134.0, \"Horsepower\": 95.0, \"Weight_in_lbs\": 2560, \"Acceleration\": 14.2, \"Year\": \"1978-01-01T00:00:00\", \"Origin\": \"Japan\"}, {\"Name\": \"datsun 510\", \"Miles_per_Gallon\": 27.2, \"Cylinders\": 4, \"Displacement\": 119.0, \"Horsepower\": 97.0, \"Weight_in_lbs\": 2300, \"Acceleration\": 14.7, \"Year\": \"1978-01-01T00:00:00\", \"Origin\": \"Japan\"}, {\"Name\": \"dodge omni\", \"Miles_per_Gallon\": 30.9, \"Cylinders\": 4, \"Displacement\": 105.0, \"Horsepower\": 75.0, \"Weight_in_lbs\": 2230, \"Acceleration\": 14.5, \"Year\": \"1978-01-01T00:00:00\", \"Origin\": \"USA\"}, {\"Name\": \"toyota celica gt liftback\", \"Miles_per_Gallon\": 21.1, \"Cylinders\": 4, \"Displacement\": 134.0, \"Horsepower\": 95.0, \"Weight_in_lbs\": 2515, \"Acceleration\": 14.8, \"Year\": \"1978-01-01T00:00:00\", \"Origin\": \"Japan\"}, {\"Name\": \"plymouth sapporo\", \"Miles_per_Gallon\": 23.2, \"Cylinders\": 4, \"Displacement\": 156.0, \"Horsepower\": 105.0, \"Weight_in_lbs\": 2745, \"Acceleration\": 16.7, \"Year\": \"1978-01-01T00:00:00\", \"Origin\": \"USA\"}, {\"Name\": \"oldsmobile starfire sx\", \"Miles_per_Gallon\": 23.8, \"Cylinders\": 4, \"Displacement\": 151.0, \"Horsepower\": 85.0, \"Weight_in_lbs\": 2855, \"Acceleration\": 17.6, \"Year\": \"1978-01-01T00:00:00\", \"Origin\": \"USA\"}, {\"Name\": \"datsun 200-sx\", \"Miles_per_Gallon\": 23.9, \"Cylinders\": 4, \"Displacement\": 119.0, \"Horsepower\": 97.0, \"Weight_in_lbs\": 2405, \"Acceleration\": 14.9, \"Year\": \"1978-01-01T00:00:00\", \"Origin\": \"Japan\"}, {\"Name\": \"audi 5000\", \"Miles_per_Gallon\": 20.3, \"Cylinders\": 5, \"Displacement\": 131.0, \"Horsepower\": 103.0, \"Weight_in_lbs\": 2830, \"Acceleration\": 15.9, \"Year\": \"1978-01-01T00:00:00\", \"Origin\": \"Europe\"}, {\"Name\": \"volvo 264gl\", \"Miles_per_Gallon\": 17.0, \"Cylinders\": 6, \"Displacement\": 163.0, \"Horsepower\": 125.0, \"Weight_in_lbs\": 3140, \"Acceleration\": 13.6, \"Year\": \"1978-01-01T00:00:00\", \"Origin\": \"Europe\"}, {\"Name\": \"saab 99gle\", \"Miles_per_Gallon\": 21.6, \"Cylinders\": 4, \"Displacement\": 121.0, \"Horsepower\": 115.0, \"Weight_in_lbs\": 2795, \"Acceleration\": 15.7, \"Year\": \"1978-01-01T00:00:00\", \"Origin\": \"Europe\"}, {\"Name\": \"peugeot 604sl\", \"Miles_per_Gallon\": 16.2, \"Cylinders\": 6, \"Displacement\": 163.0, \"Horsepower\": 133.0, \"Weight_in_lbs\": 3410, \"Acceleration\": 15.8, \"Year\": \"1978-01-01T00:00:00\", \"Origin\": \"Europe\"}, {\"Name\": \"volkswagen scirocco\", \"Miles_per_Gallon\": 31.5, \"Cylinders\": 4, \"Displacement\": 89.0, \"Horsepower\": 71.0, \"Weight_in_lbs\": 1990, \"Acceleration\": 14.9, \"Year\": \"1978-01-01T00:00:00\", \"Origin\": \"Europe\"}, {\"Name\": \"honda Accelerationord lx\", \"Miles_per_Gallon\": 29.5, \"Cylinders\": 4, \"Displacement\": 98.0, \"Horsepower\": 68.0, \"Weight_in_lbs\": 2135, \"Acceleration\": 16.6, \"Year\": \"1978-01-01T00:00:00\", \"Origin\": \"Japan\"}, {\"Name\": \"pontiac lemans v6\", \"Miles_per_Gallon\": 21.5, \"Cylinders\": 6, \"Displacement\": 231.0, \"Horsepower\": 115.0, \"Weight_in_lbs\": 3245, \"Acceleration\": 15.4, \"Year\": \"1979-01-01T00:00:00\", \"Origin\": \"USA\"}, {\"Name\": \"mercury zephyr 6\", \"Miles_per_Gallon\": 19.8, \"Cylinders\": 6, \"Displacement\": 200.0, \"Horsepower\": 85.0, \"Weight_in_lbs\": 2990, \"Acceleration\": 18.2, \"Year\": \"1979-01-01T00:00:00\", \"Origin\": \"USA\"}, {\"Name\": \"ford fairmont 4\", \"Miles_per_Gallon\": 22.3, \"Cylinders\": 4, \"Displacement\": 140.0, \"Horsepower\": 88.0, \"Weight_in_lbs\": 2890, \"Acceleration\": 17.3, \"Year\": \"1979-01-01T00:00:00\", \"Origin\": \"USA\"}, {\"Name\": \"amc concord dl 6\", \"Miles_per_Gallon\": 20.2, \"Cylinders\": 6, \"Displacement\": 232.0, \"Horsepower\": 90.0, \"Weight_in_lbs\": 3265, \"Acceleration\": 18.2, \"Year\": \"1979-01-01T00:00:00\", \"Origin\": \"USA\"}, {\"Name\": \"dodge aspen 6\", \"Miles_per_Gallon\": 20.6, \"Cylinders\": 6, \"Displacement\": 225.0, \"Horsepower\": 110.0, \"Weight_in_lbs\": 3360, \"Acceleration\": 16.6, \"Year\": \"1979-01-01T00:00:00\", \"Origin\": \"USA\"}, {\"Name\": \"chevrolet caprice classic\", \"Miles_per_Gallon\": 17.0, \"Cylinders\": 8, \"Displacement\": 305.0, \"Horsepower\": 130.0, \"Weight_in_lbs\": 3840, \"Acceleration\": 15.4, \"Year\": \"1979-01-01T00:00:00\", \"Origin\": \"USA\"}, {\"Name\": \"ford ltd landau\", \"Miles_per_Gallon\": 17.6, \"Cylinders\": 8, \"Displacement\": 302.0, \"Horsepower\": 129.0, \"Weight_in_lbs\": 3725, \"Acceleration\": 13.4, \"Year\": \"1979-01-01T00:00:00\", \"Origin\": \"USA\"}, {\"Name\": \"mercury grand marquis\", \"Miles_per_Gallon\": 16.5, \"Cylinders\": 8, \"Displacement\": 351.0, \"Horsepower\": 138.0, \"Weight_in_lbs\": 3955, \"Acceleration\": 13.2, \"Year\": \"1979-01-01T00:00:00\", \"Origin\": \"USA\"}, {\"Name\": \"dodge st. regis\", \"Miles_per_Gallon\": 18.2, \"Cylinders\": 8, \"Displacement\": 318.0, \"Horsepower\": 135.0, \"Weight_in_lbs\": 3830, \"Acceleration\": 15.2, \"Year\": \"1979-01-01T00:00:00\", \"Origin\": \"USA\"}, {\"Name\": \"buick estate wagon (sw)\", \"Miles_per_Gallon\": 16.9, \"Cylinders\": 8, \"Displacement\": 350.0, \"Horsepower\": 155.0, \"Weight_in_lbs\": 4360, \"Acceleration\": 14.9, \"Year\": \"1979-01-01T00:00:00\", \"Origin\": \"USA\"}, {\"Name\": \"ford country squire (sw)\", \"Miles_per_Gallon\": 15.5, \"Cylinders\": 8, \"Displacement\": 351.0, \"Horsepower\": 142.0, \"Weight_in_lbs\": 4054, \"Acceleration\": 14.3, \"Year\": \"1979-01-01T00:00:00\", \"Origin\": \"USA\"}, {\"Name\": \"chevrolet malibu classic (sw)\", \"Miles_per_Gallon\": 19.2, \"Cylinders\": 8, \"Displacement\": 267.0, \"Horsepower\": 125.0, \"Weight_in_lbs\": 3605, \"Acceleration\": 15.0, \"Year\": \"1979-01-01T00:00:00\", \"Origin\": \"USA\"}, {\"Name\": \"chrysler lebaron town @ country (sw)\", \"Miles_per_Gallon\": 18.5, \"Cylinders\": 8, \"Displacement\": 360.0, \"Horsepower\": 150.0, \"Weight_in_lbs\": 3940, \"Acceleration\": 13.0, \"Year\": \"1979-01-01T00:00:00\", \"Origin\": \"USA\"}, {\"Name\": \"vw rabbit custom\", \"Miles_per_Gallon\": 31.9, \"Cylinders\": 4, \"Displacement\": 89.0, \"Horsepower\": 71.0, \"Weight_in_lbs\": 1925, \"Acceleration\": 14.0, \"Year\": \"1979-01-01T00:00:00\", \"Origin\": \"Europe\"}, {\"Name\": \"maxda glc deluxe\", \"Miles_per_Gallon\": 34.1, \"Cylinders\": 4, \"Displacement\": 86.0, \"Horsepower\": 65.0, \"Weight_in_lbs\": 1975, \"Acceleration\": 15.2, \"Year\": \"1979-01-01T00:00:00\", \"Origin\": \"Japan\"}, {\"Name\": \"dodge colt hatchback custom\", \"Miles_per_Gallon\": 35.7, \"Cylinders\": 4, \"Displacement\": 98.0, \"Horsepower\": 80.0, \"Weight_in_lbs\": 1915, \"Acceleration\": 14.4, \"Year\": \"1979-01-01T00:00:00\", \"Origin\": \"USA\"}, {\"Name\": \"amc spirit dl\", \"Miles_per_Gallon\": 27.4, \"Cylinders\": 4, \"Displacement\": 121.0, \"Horsepower\": 80.0, \"Weight_in_lbs\": 2670, \"Acceleration\": 15.0, \"Year\": \"1979-01-01T00:00:00\", \"Origin\": \"USA\"}, {\"Name\": \"mercedes benz 300d\", \"Miles_per_Gallon\": 25.4, \"Cylinders\": 5, \"Displacement\": 183.0, \"Horsepower\": 77.0, \"Weight_in_lbs\": 3530, \"Acceleration\": 20.1, \"Year\": \"1979-01-01T00:00:00\", \"Origin\": \"Europe\"}, {\"Name\": \"cadillac eldorado\", \"Miles_per_Gallon\": 23.0, \"Cylinders\": 8, \"Displacement\": 350.0, \"Horsepower\": 125.0, \"Weight_in_lbs\": 3900, \"Acceleration\": 17.4, \"Year\": \"1979-01-01T00:00:00\", \"Origin\": \"USA\"}, {\"Name\": \"peugeot 504\", \"Miles_per_Gallon\": 27.2, \"Cylinders\": 4, \"Displacement\": 141.0, \"Horsepower\": 71.0, \"Weight_in_lbs\": 3190, \"Acceleration\": 24.8, \"Year\": \"1979-01-01T00:00:00\", \"Origin\": \"Europe\"}, {\"Name\": \"oldsmobile cutlass salon brougham\", \"Miles_per_Gallon\": 23.9, \"Cylinders\": 8, \"Displacement\": 260.0, \"Horsepower\": 90.0, \"Weight_in_lbs\": 3420, \"Acceleration\": 22.2, \"Year\": \"1979-01-01T00:00:00\", \"Origin\": \"USA\"}, {\"Name\": \"plymouth horizon\", \"Miles_per_Gallon\": 34.2, \"Cylinders\": 4, \"Displacement\": 105.0, \"Horsepower\": 70.0, \"Weight_in_lbs\": 2200, \"Acceleration\": 13.2, \"Year\": \"1979-01-01T00:00:00\", \"Origin\": \"USA\"}, {\"Name\": \"plymouth horizon tc3\", \"Miles_per_Gallon\": 34.5, \"Cylinders\": 4, \"Displacement\": 105.0, \"Horsepower\": 70.0, \"Weight_in_lbs\": 2150, \"Acceleration\": 14.9, \"Year\": \"1979-01-01T00:00:00\", \"Origin\": \"USA\"}, {\"Name\": \"datsun 210\", \"Miles_per_Gallon\": 31.8, \"Cylinders\": 4, \"Displacement\": 85.0, \"Horsepower\": 65.0, \"Weight_in_lbs\": 2020, \"Acceleration\": 19.2, \"Year\": \"1979-01-01T00:00:00\", \"Origin\": \"Japan\"}, {\"Name\": \"fiat strada custom\", \"Miles_per_Gallon\": 37.3, \"Cylinders\": 4, \"Displacement\": 91.0, \"Horsepower\": 69.0, \"Weight_in_lbs\": 2130, \"Acceleration\": 14.7, \"Year\": \"1979-01-01T00:00:00\", \"Origin\": \"Europe\"}, {\"Name\": \"buick skylark limited\", \"Miles_per_Gallon\": 28.4, \"Cylinders\": 4, \"Displacement\": 151.0, \"Horsepower\": 90.0, \"Weight_in_lbs\": 2670, \"Acceleration\": 16.0, \"Year\": \"1979-01-01T00:00:00\", \"Origin\": \"USA\"}, {\"Name\": \"chevrolet citation\", \"Miles_per_Gallon\": 28.8, \"Cylinders\": 6, \"Displacement\": 173.0, \"Horsepower\": 115.0, \"Weight_in_lbs\": 2595, \"Acceleration\": 11.3, \"Year\": \"1979-01-01T00:00:00\", \"Origin\": \"USA\"}, {\"Name\": \"oldsmobile omega brougham\", \"Miles_per_Gallon\": 26.8, \"Cylinders\": 6, \"Displacement\": 173.0, \"Horsepower\": 115.0, \"Weight_in_lbs\": 2700, \"Acceleration\": 12.9, \"Year\": \"1979-01-01T00:00:00\", \"Origin\": \"USA\"}, {\"Name\": \"pontiac phoenix\", \"Miles_per_Gallon\": 33.5, \"Cylinders\": 4, \"Displacement\": 151.0, \"Horsepower\": 90.0, \"Weight_in_lbs\": 2556, \"Acceleration\": 13.2, \"Year\": \"1979-01-01T00:00:00\", \"Origin\": \"USA\"}, {\"Name\": \"vw rabbit\", \"Miles_per_Gallon\": 41.5, \"Cylinders\": 4, \"Displacement\": 98.0, \"Horsepower\": 76.0, \"Weight_in_lbs\": 2144, \"Acceleration\": 14.7, \"Year\": \"1980-01-01T00:00:00\", \"Origin\": \"Europe\"}, {\"Name\": \"toyota corolla tercel\", \"Miles_per_Gallon\": 38.1, \"Cylinders\": 4, \"Displacement\": 89.0, \"Horsepower\": 60.0, \"Weight_in_lbs\": 1968, \"Acceleration\": 18.8, \"Year\": \"1980-01-01T00:00:00\", \"Origin\": \"Japan\"}, {\"Name\": \"chevrolet chevette\", \"Miles_per_Gallon\": 32.1, \"Cylinders\": 4, \"Displacement\": 98.0, \"Horsepower\": 70.0, \"Weight_in_lbs\": 2120, \"Acceleration\": 15.5, \"Year\": \"1980-01-01T00:00:00\", \"Origin\": \"USA\"}, {\"Name\": \"datsun 310\", \"Miles_per_Gallon\": 37.2, \"Cylinders\": 4, \"Displacement\": 86.0, \"Horsepower\": 65.0, \"Weight_in_lbs\": 2019, \"Acceleration\": 16.4, \"Year\": \"1980-01-01T00:00:00\", \"Origin\": \"Japan\"}, {\"Name\": \"chevrolet citation\", \"Miles_per_Gallon\": 28.0, \"Cylinders\": 4, \"Displacement\": 151.0, \"Horsepower\": 90.0, \"Weight_in_lbs\": 2678, \"Acceleration\": 16.5, \"Year\": \"1980-01-01T00:00:00\", \"Origin\": \"USA\"}, {\"Name\": \"ford fairmont\", \"Miles_per_Gallon\": 26.4, \"Cylinders\": 4, \"Displacement\": 140.0, \"Horsepower\": 88.0, \"Weight_in_lbs\": 2870, \"Acceleration\": 18.1, \"Year\": \"1980-01-01T00:00:00\", \"Origin\": \"USA\"}, {\"Name\": \"amc concord\", \"Miles_per_Gallon\": 24.3, \"Cylinders\": 4, \"Displacement\": 151.0, \"Horsepower\": 90.0, \"Weight_in_lbs\": 3003, \"Acceleration\": 20.1, \"Year\": \"1980-01-01T00:00:00\", \"Origin\": \"USA\"}, {\"Name\": \"dodge aspen\", \"Miles_per_Gallon\": 19.1, \"Cylinders\": 6, \"Displacement\": 225.0, \"Horsepower\": 90.0, \"Weight_in_lbs\": 3381, \"Acceleration\": 18.7, \"Year\": \"1980-01-01T00:00:00\", \"Origin\": \"USA\"}, {\"Name\": \"audi 4000\", \"Miles_per_Gallon\": 34.3, \"Cylinders\": 4, \"Displacement\": 97.0, \"Horsepower\": 78.0, \"Weight_in_lbs\": 2188, \"Acceleration\": 15.8, \"Year\": \"1980-01-01T00:00:00\", \"Origin\": \"Europe\"}, {\"Name\": \"toyota corona liftback\", \"Miles_per_Gallon\": 29.8, \"Cylinders\": 4, \"Displacement\": 134.0, \"Horsepower\": 90.0, \"Weight_in_lbs\": 2711, \"Acceleration\": 15.5, \"Year\": \"1980-01-01T00:00:00\", \"Origin\": \"Japan\"}, {\"Name\": \"mazda 626\", \"Miles_per_Gallon\": 31.3, \"Cylinders\": 4, \"Displacement\": 120.0, \"Horsepower\": 75.0, \"Weight_in_lbs\": 2542, \"Acceleration\": 17.5, \"Year\": \"1980-01-01T00:00:00\", \"Origin\": \"Japan\"}, {\"Name\": \"datsun 510 hatchback\", \"Miles_per_Gallon\": 37.0, \"Cylinders\": 4, \"Displacement\": 119.0, \"Horsepower\": 92.0, \"Weight_in_lbs\": 2434, \"Acceleration\": 15.0, \"Year\": \"1980-01-01T00:00:00\", \"Origin\": \"Japan\"}, {\"Name\": \"toyota corolla\", \"Miles_per_Gallon\": 32.2, \"Cylinders\": 4, \"Displacement\": 108.0, \"Horsepower\": 75.0, \"Weight_in_lbs\": 2265, \"Acceleration\": 15.2, \"Year\": \"1980-01-01T00:00:00\", \"Origin\": \"Japan\"}, {\"Name\": \"mazda glc\", \"Miles_per_Gallon\": 46.6, \"Cylinders\": 4, \"Displacement\": 86.0, \"Horsepower\": 65.0, \"Weight_in_lbs\": 2110, \"Acceleration\": 17.9, \"Year\": \"1980-01-01T00:00:00\", \"Origin\": \"Japan\"}, {\"Name\": \"dodge colt\", \"Miles_per_Gallon\": 27.9, \"Cylinders\": 4, \"Displacement\": 156.0, \"Horsepower\": 105.0, \"Weight_in_lbs\": 2800, \"Acceleration\": 14.4, \"Year\": \"1980-01-01T00:00:00\", \"Origin\": \"USA\"}, {\"Name\": \"datsun 210\", \"Miles_per_Gallon\": 40.8, \"Cylinders\": 4, \"Displacement\": 85.0, \"Horsepower\": 65.0, \"Weight_in_lbs\": 2110, \"Acceleration\": 19.2, \"Year\": \"1980-01-01T00:00:00\", \"Origin\": \"Japan\"}, {\"Name\": \"vw rabbit c (diesel)\", \"Miles_per_Gallon\": 44.3, \"Cylinders\": 4, \"Displacement\": 90.0, \"Horsepower\": 48.0, \"Weight_in_lbs\": 2085, \"Acceleration\": 21.7, \"Year\": \"1980-01-01T00:00:00\", \"Origin\": \"Europe\"}, {\"Name\": \"vw dasher (diesel)\", \"Miles_per_Gallon\": 43.4, \"Cylinders\": 4, \"Displacement\": 90.0, \"Horsepower\": 48.0, \"Weight_in_lbs\": 2335, \"Acceleration\": 23.7, \"Year\": \"1980-01-01T00:00:00\", \"Origin\": \"Europe\"}, {\"Name\": \"audi 5000s (diesel)\", \"Miles_per_Gallon\": 36.4, \"Cylinders\": 5, \"Displacement\": 121.0, \"Horsepower\": 67.0, \"Weight_in_lbs\": 2950, \"Acceleration\": 19.9, \"Year\": \"1980-01-01T00:00:00\", \"Origin\": \"Europe\"}, {\"Name\": \"mercedes-benz 240d\", \"Miles_per_Gallon\": 30.0, \"Cylinders\": 4, \"Displacement\": 146.0, \"Horsepower\": 67.0, \"Weight_in_lbs\": 3250, \"Acceleration\": 21.8, \"Year\": \"1980-01-01T00:00:00\", \"Origin\": \"Europe\"}, {\"Name\": \"honda civic 1500 gl\", \"Miles_per_Gallon\": 44.6, \"Cylinders\": 4, \"Displacement\": 91.0, \"Horsepower\": 67.0, \"Weight_in_lbs\": 1850, \"Acceleration\": 13.8, \"Year\": \"1980-01-01T00:00:00\", \"Origin\": \"Japan\"}, {\"Name\": \"renault lecar deluxe\", \"Miles_per_Gallon\": 40.9, \"Cylinders\": 4, \"Displacement\": 85.0, \"Horsepower\": null, \"Weight_in_lbs\": 1835, \"Acceleration\": 17.3, \"Year\": \"1980-01-01T00:00:00\", \"Origin\": \"Europe\"}, {\"Name\": \"subaru dl\", \"Miles_per_Gallon\": 33.8, \"Cylinders\": 4, \"Displacement\": 97.0, \"Horsepower\": 67.0, \"Weight_in_lbs\": 2145, \"Acceleration\": 18.0, \"Year\": \"1980-01-01T00:00:00\", \"Origin\": \"Japan\"}, {\"Name\": \"vokswagen rabbit\", \"Miles_per_Gallon\": 29.8, \"Cylinders\": 4, \"Displacement\": 89.0, \"Horsepower\": 62.0, \"Weight_in_lbs\": 1845, \"Acceleration\": 15.3, \"Year\": \"1980-01-01T00:00:00\", \"Origin\": \"Europe\"}, {\"Name\": \"datsun 280-zx\", \"Miles_per_Gallon\": 32.7, \"Cylinders\": 6, \"Displacement\": 168.0, \"Horsepower\": 132.0, \"Weight_in_lbs\": 2910, \"Acceleration\": 11.4, \"Year\": \"1980-01-01T00:00:00\", \"Origin\": \"Japan\"}, {\"Name\": \"mazda rx-7 gs\", \"Miles_per_Gallon\": 23.7, \"Cylinders\": 3, \"Displacement\": 70.0, \"Horsepower\": 100.0, \"Weight_in_lbs\": 2420, \"Acceleration\": 12.5, \"Year\": \"1980-01-01T00:00:00\", \"Origin\": \"Japan\"}, {\"Name\": \"triumph tr7 coupe\", \"Miles_per_Gallon\": 35.0, \"Cylinders\": 4, \"Displacement\": 122.0, \"Horsepower\": 88.0, \"Weight_in_lbs\": 2500, \"Acceleration\": 15.1, \"Year\": \"1980-01-01T00:00:00\", \"Origin\": \"Europe\"}, {\"Name\": \"ford mustang cobra\", \"Miles_per_Gallon\": 23.6, \"Cylinders\": 4, \"Displacement\": 140.0, \"Horsepower\": null, \"Weight_in_lbs\": 2905, \"Acceleration\": 14.3, \"Year\": \"1980-01-01T00:00:00\", \"Origin\": \"USA\"}, {\"Name\": \"honda Accelerationord\", \"Miles_per_Gallon\": 32.4, \"Cylinders\": 4, \"Displacement\": 107.0, \"Horsepower\": 72.0, \"Weight_in_lbs\": 2290, \"Acceleration\": 17.0, \"Year\": \"1980-01-01T00:00:00\", \"Origin\": \"Japan\"}, {\"Name\": \"plymouth reliant\", \"Miles_per_Gallon\": 27.2, \"Cylinders\": 4, \"Displacement\": 135.0, \"Horsepower\": 84.0, \"Weight_in_lbs\": 2490, \"Acceleration\": 15.7, \"Year\": \"1982-01-01T00:00:00\", \"Origin\": \"USA\"}, {\"Name\": \"buick skylark\", \"Miles_per_Gallon\": 26.6, \"Cylinders\": 4, \"Displacement\": 151.0, \"Horsepower\": 84.0, \"Weight_in_lbs\": 2635, \"Acceleration\": 16.4, \"Year\": \"1982-01-01T00:00:00\", \"Origin\": \"USA\"}, {\"Name\": \"dodge aries wagon (sw)\", \"Miles_per_Gallon\": 25.8, \"Cylinders\": 4, \"Displacement\": 156.0, \"Horsepower\": 92.0, \"Weight_in_lbs\": 2620, \"Acceleration\": 14.4, \"Year\": \"1982-01-01T00:00:00\", \"Origin\": \"USA\"}, {\"Name\": \"chevrolet citation\", \"Miles_per_Gallon\": 23.5, \"Cylinders\": 6, \"Displacement\": 173.0, \"Horsepower\": 110.0, \"Weight_in_lbs\": 2725, \"Acceleration\": 12.6, \"Year\": \"1982-01-01T00:00:00\", \"Origin\": \"USA\"}, {\"Name\": \"plymouth reliant\", \"Miles_per_Gallon\": 30.0, \"Cylinders\": 4, \"Displacement\": 135.0, \"Horsepower\": 84.0, \"Weight_in_lbs\": 2385, \"Acceleration\": 12.9, \"Year\": \"1982-01-01T00:00:00\", \"Origin\": \"USA\"}, {\"Name\": \"toyota starlet\", \"Miles_per_Gallon\": 39.1, \"Cylinders\": 4, \"Displacement\": 79.0, \"Horsepower\": 58.0, \"Weight_in_lbs\": 1755, \"Acceleration\": 16.9, \"Year\": \"1982-01-01T00:00:00\", \"Origin\": \"Japan\"}, {\"Name\": \"plymouth champ\", \"Miles_per_Gallon\": 39.0, \"Cylinders\": 4, \"Displacement\": 86.0, \"Horsepower\": 64.0, \"Weight_in_lbs\": 1875, \"Acceleration\": 16.4, \"Year\": \"1982-01-01T00:00:00\", \"Origin\": \"USA\"}, {\"Name\": \"honda civic 1300\", \"Miles_per_Gallon\": 35.1, \"Cylinders\": 4, \"Displacement\": 81.0, \"Horsepower\": 60.0, \"Weight_in_lbs\": 1760, \"Acceleration\": 16.1, \"Year\": \"1982-01-01T00:00:00\", \"Origin\": \"Japan\"}, {\"Name\": \"subaru\", \"Miles_per_Gallon\": 32.3, \"Cylinders\": 4, \"Displacement\": 97.0, \"Horsepower\": 67.0, \"Weight_in_lbs\": 2065, \"Acceleration\": 17.8, \"Year\": \"1982-01-01T00:00:00\", \"Origin\": \"Japan\"}, {\"Name\": \"datsun 210\", \"Miles_per_Gallon\": 37.0, \"Cylinders\": 4, \"Displacement\": 85.0, \"Horsepower\": 65.0, \"Weight_in_lbs\": 1975, \"Acceleration\": 19.4, \"Year\": \"1982-01-01T00:00:00\", \"Origin\": \"Japan\"}, {\"Name\": \"toyota tercel\", \"Miles_per_Gallon\": 37.7, \"Cylinders\": 4, \"Displacement\": 89.0, \"Horsepower\": 62.0, \"Weight_in_lbs\": 2050, \"Acceleration\": 17.3, \"Year\": \"1982-01-01T00:00:00\", \"Origin\": \"Japan\"}, {\"Name\": \"mazda glc 4\", \"Miles_per_Gallon\": 34.1, \"Cylinders\": 4, \"Displacement\": 91.0, \"Horsepower\": 68.0, \"Weight_in_lbs\": 1985, \"Acceleration\": 16.0, \"Year\": \"1982-01-01T00:00:00\", \"Origin\": \"Japan\"}, {\"Name\": \"plymouth horizon 4\", \"Miles_per_Gallon\": 34.7, \"Cylinders\": 4, \"Displacement\": 105.0, \"Horsepower\": 63.0, \"Weight_in_lbs\": 2215, \"Acceleration\": 14.9, \"Year\": \"1982-01-01T00:00:00\", \"Origin\": \"USA\"}, {\"Name\": \"ford escort 4w\", \"Miles_per_Gallon\": 34.4, \"Cylinders\": 4, \"Displacement\": 98.0, \"Horsepower\": 65.0, \"Weight_in_lbs\": 2045, \"Acceleration\": 16.2, \"Year\": \"1982-01-01T00:00:00\", \"Origin\": \"USA\"}, {\"Name\": \"ford escort 2h\", \"Miles_per_Gallon\": 29.9, \"Cylinders\": 4, \"Displacement\": 98.0, \"Horsepower\": 65.0, \"Weight_in_lbs\": 2380, \"Acceleration\": 20.7, \"Year\": \"1982-01-01T00:00:00\", \"Origin\": \"USA\"}, {\"Name\": \"volkswagen jetta\", \"Miles_per_Gallon\": 33.0, \"Cylinders\": 4, \"Displacement\": 105.0, \"Horsepower\": 74.0, \"Weight_in_lbs\": 2190, \"Acceleration\": 14.2, \"Year\": \"1982-01-01T00:00:00\", \"Origin\": \"Europe\"}, {\"Name\": \"renault 18i\", \"Miles_per_Gallon\": 34.5, \"Cylinders\": 4, \"Displacement\": 100.0, \"Horsepower\": null, \"Weight_in_lbs\": 2320, \"Acceleration\": 15.8, \"Year\": \"1982-01-01T00:00:00\", \"Origin\": \"Europe\"}, {\"Name\": \"honda prelude\", \"Miles_per_Gallon\": 33.7, \"Cylinders\": 4, \"Displacement\": 107.0, \"Horsepower\": 75.0, \"Weight_in_lbs\": 2210, \"Acceleration\": 14.4, \"Year\": \"1982-01-01T00:00:00\", \"Origin\": \"Japan\"}, {\"Name\": \"toyota corolla\", \"Miles_per_Gallon\": 32.4, \"Cylinders\": 4, \"Displacement\": 108.0, \"Horsepower\": 75.0, \"Weight_in_lbs\": 2350, \"Acceleration\": 16.8, \"Year\": \"1982-01-01T00:00:00\", \"Origin\": \"Japan\"}, {\"Name\": \"datsun 200sx\", \"Miles_per_Gallon\": 32.9, \"Cylinders\": 4, \"Displacement\": 119.0, \"Horsepower\": 100.0, \"Weight_in_lbs\": 2615, \"Acceleration\": 14.8, \"Year\": \"1982-01-01T00:00:00\", \"Origin\": \"Japan\"}, {\"Name\": \"mazda 626\", \"Miles_per_Gallon\": 31.6, \"Cylinders\": 4, \"Displacement\": 120.0, \"Horsepower\": 74.0, \"Weight_in_lbs\": 2635, \"Acceleration\": 18.3, \"Year\": \"1982-01-01T00:00:00\", \"Origin\": \"Japan\"}, {\"Name\": \"peugeot 505s turbo diesel\", \"Miles_per_Gallon\": 28.1, \"Cylinders\": 4, \"Displacement\": 141.0, \"Horsepower\": 80.0, \"Weight_in_lbs\": 3230, \"Acceleration\": 20.4, \"Year\": \"1982-01-01T00:00:00\", \"Origin\": \"Europe\"}, {\"Name\": \"saab 900s\", \"Miles_per_Gallon\": null, \"Cylinders\": 4, \"Displacement\": 121.0, \"Horsepower\": 110.0, \"Weight_in_lbs\": 2800, \"Acceleration\": 15.4, \"Year\": \"1982-01-01T00:00:00\", \"Origin\": \"Europe\"}, {\"Name\": \"volvo diesel\", \"Miles_per_Gallon\": 30.7, \"Cylinders\": 6, \"Displacement\": 145.0, \"Horsepower\": 76.0, \"Weight_in_lbs\": 3160, \"Acceleration\": 19.6, \"Year\": \"1982-01-01T00:00:00\", \"Origin\": \"Europe\"}, {\"Name\": \"toyota cressida\", \"Miles_per_Gallon\": 25.4, \"Cylinders\": 6, \"Displacement\": 168.0, \"Horsepower\": 116.0, \"Weight_in_lbs\": 2900, \"Acceleration\": 12.6, \"Year\": \"1982-01-01T00:00:00\", \"Origin\": \"Japan\"}, {\"Name\": \"datsun 810 maxima\", \"Miles_per_Gallon\": 24.2, \"Cylinders\": 6, \"Displacement\": 146.0, \"Horsepower\": 120.0, \"Weight_in_lbs\": 2930, \"Acceleration\": 13.8, \"Year\": \"1982-01-01T00:00:00\", \"Origin\": \"Japan\"}, {\"Name\": \"buick century\", \"Miles_per_Gallon\": 22.4, \"Cylinders\": 6, \"Displacement\": 231.0, \"Horsepower\": 110.0, \"Weight_in_lbs\": 3415, \"Acceleration\": 15.8, \"Year\": \"1982-01-01T00:00:00\", \"Origin\": \"USA\"}, {\"Name\": \"oldsmobile cutlass ls\", \"Miles_per_Gallon\": 26.6, \"Cylinders\": 8, \"Displacement\": 350.0, \"Horsepower\": 105.0, \"Weight_in_lbs\": 3725, \"Acceleration\": 19.0, \"Year\": \"1982-01-01T00:00:00\", \"Origin\": \"USA\"}, {\"Name\": \"ford granada gl\", \"Miles_per_Gallon\": 20.2, \"Cylinders\": 6, \"Displacement\": 200.0, \"Horsepower\": 88.0, \"Weight_in_lbs\": 3060, \"Acceleration\": 17.1, \"Year\": \"1982-01-01T00:00:00\", \"Origin\": \"USA\"}, {\"Name\": \"chrysler lebaron salon\", \"Miles_per_Gallon\": 17.6, \"Cylinders\": 6, \"Displacement\": 225.0, \"Horsepower\": 85.0, \"Weight_in_lbs\": 3465, \"Acceleration\": 16.6, \"Year\": \"1982-01-01T00:00:00\", \"Origin\": \"USA\"}, {\"Name\": \"chevrolet cavalier\", \"Miles_per_Gallon\": 28.0, \"Cylinders\": 4, \"Displacement\": 112.0, \"Horsepower\": 88.0, \"Weight_in_lbs\": 2605, \"Acceleration\": 19.6, \"Year\": \"1982-01-01T00:00:00\", \"Origin\": \"USA\"}, {\"Name\": \"chevrolet cavalier wagon\", \"Miles_per_Gallon\": 27.0, \"Cylinders\": 4, \"Displacement\": 112.0, \"Horsepower\": 88.0, \"Weight_in_lbs\": 2640, \"Acceleration\": 18.6, \"Year\": \"1982-01-01T00:00:00\", \"Origin\": \"USA\"}, {\"Name\": \"chevrolet cavalier 2-door\", \"Miles_per_Gallon\": 34.0, \"Cylinders\": 4, \"Displacement\": 112.0, \"Horsepower\": 88.0, \"Weight_in_lbs\": 2395, \"Acceleration\": 18.0, \"Year\": \"1982-01-01T00:00:00\", \"Origin\": \"USA\"}, {\"Name\": \"pontiac j2000 se hatchback\", \"Miles_per_Gallon\": 31.0, \"Cylinders\": 4, \"Displacement\": 112.0, \"Horsepower\": 85.0, \"Weight_in_lbs\": 2575, \"Acceleration\": 16.2, \"Year\": \"1982-01-01T00:00:00\", \"Origin\": \"USA\"}, {\"Name\": \"dodge aries se\", \"Miles_per_Gallon\": 29.0, \"Cylinders\": 4, \"Displacement\": 135.0, \"Horsepower\": 84.0, \"Weight_in_lbs\": 2525, \"Acceleration\": 16.0, \"Year\": \"1982-01-01T00:00:00\", \"Origin\": \"USA\"}, {\"Name\": \"pontiac phoenix\", \"Miles_per_Gallon\": 27.0, \"Cylinders\": 4, \"Displacement\": 151.0, \"Horsepower\": 90.0, \"Weight_in_lbs\": 2735, \"Acceleration\": 18.0, \"Year\": \"1982-01-01T00:00:00\", \"Origin\": \"USA\"}, {\"Name\": \"ford fairmont futura\", \"Miles_per_Gallon\": 24.0, \"Cylinders\": 4, \"Displacement\": 140.0, \"Horsepower\": 92.0, \"Weight_in_lbs\": 2865, \"Acceleration\": 16.4, \"Year\": \"1982-01-01T00:00:00\", \"Origin\": \"USA\"}, {\"Name\": \"amc concord dl\", \"Miles_per_Gallon\": 23.0, \"Cylinders\": 4, \"Displacement\": 151.0, \"Horsepower\": null, \"Weight_in_lbs\": 3035, \"Acceleration\": 20.5, \"Year\": \"1982-01-01T00:00:00\", \"Origin\": \"USA\"}, {\"Name\": \"volkswagen rabbit l\", \"Miles_per_Gallon\": 36.0, \"Cylinders\": 4, \"Displacement\": 105.0, \"Horsepower\": 74.0, \"Weight_in_lbs\": 1980, \"Acceleration\": 15.3, \"Year\": \"1982-01-01T00:00:00\", \"Origin\": \"Europe\"}, {\"Name\": \"mazda glc custom l\", \"Miles_per_Gallon\": 37.0, \"Cylinders\": 4, \"Displacement\": 91.0, \"Horsepower\": 68.0, \"Weight_in_lbs\": 2025, \"Acceleration\": 18.2, \"Year\": \"1982-01-01T00:00:00\", \"Origin\": \"Japan\"}, {\"Name\": \"mazda glc custom\", \"Miles_per_Gallon\": 31.0, \"Cylinders\": 4, \"Displacement\": 91.0, \"Horsepower\": 68.0, \"Weight_in_lbs\": 1970, \"Acceleration\": 17.6, \"Year\": \"1982-01-01T00:00:00\", \"Origin\": \"Japan\"}, {\"Name\": \"plymouth horizon miser\", \"Miles_per_Gallon\": 38.0, \"Cylinders\": 4, \"Displacement\": 105.0, \"Horsepower\": 63.0, \"Weight_in_lbs\": 2125, \"Acceleration\": 14.7, \"Year\": \"1982-01-01T00:00:00\", \"Origin\": \"USA\"}, {\"Name\": \"mercury lynx l\", \"Miles_per_Gallon\": 36.0, \"Cylinders\": 4, \"Displacement\": 98.0, \"Horsepower\": 70.0, \"Weight_in_lbs\": 2125, \"Acceleration\": 17.3, \"Year\": \"1982-01-01T00:00:00\", \"Origin\": \"USA\"}, {\"Name\": \"nissan stanza xe\", \"Miles_per_Gallon\": 36.0, \"Cylinders\": 4, \"Displacement\": 120.0, \"Horsepower\": 88.0, \"Weight_in_lbs\": 2160, \"Acceleration\": 14.5, \"Year\": \"1982-01-01T00:00:00\", \"Origin\": \"Japan\"}, {\"Name\": \"honda Accelerationord\", \"Miles_per_Gallon\": 36.0, \"Cylinders\": 4, \"Displacement\": 107.0, \"Horsepower\": 75.0, \"Weight_in_lbs\": 2205, \"Acceleration\": 14.5, \"Year\": \"1982-01-01T00:00:00\", \"Origin\": \"Japan\"}, {\"Name\": \"toyota corolla\", \"Miles_per_Gallon\": 34.0, \"Cylinders\": 4, \"Displacement\": 108.0, \"Horsepower\": 70.0, \"Weight_in_lbs\": 2245, \"Acceleration\": 16.9, \"Year\": \"1982-01-01T00:00:00\", \"Origin\": \"Japan\"}, {\"Name\": \"honda civic\", \"Miles_per_Gallon\": 38.0, \"Cylinders\": 4, \"Displacement\": 91.0, \"Horsepower\": 67.0, \"Weight_in_lbs\": 1965, \"Acceleration\": 15.0, \"Year\": \"1982-01-01T00:00:00\", \"Origin\": \"Japan\"}, {\"Name\": \"honda civic (auto)\", \"Miles_per_Gallon\": 32.0, \"Cylinders\": 4, \"Displacement\": 91.0, \"Horsepower\": 67.0, \"Weight_in_lbs\": 1965, \"Acceleration\": 15.7, \"Year\": \"1982-01-01T00:00:00\", \"Origin\": \"Japan\"}, {\"Name\": \"datsun 310 gx\", \"Miles_per_Gallon\": 38.0, \"Cylinders\": 4, \"Displacement\": 91.0, \"Horsepower\": 67.0, \"Weight_in_lbs\": 1995, \"Acceleration\": 16.2, \"Year\": \"1982-01-01T00:00:00\", \"Origin\": \"Japan\"}, {\"Name\": \"buick century limited\", \"Miles_per_Gallon\": 25.0, \"Cylinders\": 6, \"Displacement\": 181.0, \"Horsepower\": 110.0, \"Weight_in_lbs\": 2945, \"Acceleration\": 16.4, \"Year\": \"1982-01-01T00:00:00\", \"Origin\": \"USA\"}, {\"Name\": \"oldsmobile cutlass ciera (diesel)\", \"Miles_per_Gallon\": 38.0, \"Cylinders\": 6, \"Displacement\": 262.0, \"Horsepower\": 85.0, \"Weight_in_lbs\": 3015, \"Acceleration\": 17.0, \"Year\": \"1982-01-01T00:00:00\", \"Origin\": \"USA\"}, {\"Name\": \"chrysler lebaron medallion\", \"Miles_per_Gallon\": 26.0, \"Cylinders\": 4, \"Displacement\": 156.0, \"Horsepower\": 92.0, \"Weight_in_lbs\": 2585, \"Acceleration\": 14.5, \"Year\": \"1982-01-01T00:00:00\", \"Origin\": \"USA\"}, {\"Name\": \"ford granada l\", \"Miles_per_Gallon\": 22.0, \"Cylinders\": 6, \"Displacement\": 232.0, \"Horsepower\": 112.0, \"Weight_in_lbs\": 2835, \"Acceleration\": 14.7, \"Year\": \"1982-01-01T00:00:00\", \"Origin\": \"USA\"}, {\"Name\": \"toyota celica gt\", \"Miles_per_Gallon\": 32.0, \"Cylinders\": 4, \"Displacement\": 144.0, \"Horsepower\": 96.0, \"Weight_in_lbs\": 2665, \"Acceleration\": 13.9, \"Year\": \"1982-01-01T00:00:00\", \"Origin\": \"Japan\"}, {\"Name\": \"dodge charger 2.2\", \"Miles_per_Gallon\": 36.0, \"Cylinders\": 4, \"Displacement\": 135.0, \"Horsepower\": 84.0, \"Weight_in_lbs\": 2370, \"Acceleration\": 13.0, \"Year\": \"1982-01-01T00:00:00\", \"Origin\": \"USA\"}, {\"Name\": \"chevrolet camaro\", \"Miles_per_Gallon\": 27.0, \"Cylinders\": 4, \"Displacement\": 151.0, \"Horsepower\": 90.0, \"Weight_in_lbs\": 2950, \"Acceleration\": 17.3, \"Year\": \"1982-01-01T00:00:00\", \"Origin\": \"USA\"}, {\"Name\": \"ford mustang gl\", \"Miles_per_Gallon\": 27.0, \"Cylinders\": 4, \"Displacement\": 140.0, \"Horsepower\": 86.0, \"Weight_in_lbs\": 2790, \"Acceleration\": 15.6, \"Year\": \"1982-01-01T00:00:00\", \"Origin\": \"USA\"}, {\"Name\": \"vw pickup\", \"Miles_per_Gallon\": 44.0, \"Cylinders\": 4, \"Displacement\": 97.0, \"Horsepower\": 52.0, \"Weight_in_lbs\": 2130, \"Acceleration\": 24.6, \"Year\": \"1982-01-01T00:00:00\", \"Origin\": \"Europe\"}, {\"Name\": \"dodge rampage\", \"Miles_per_Gallon\": 32.0, \"Cylinders\": 4, \"Displacement\": 135.0, \"Horsepower\": 84.0, \"Weight_in_lbs\": 2295, \"Acceleration\": 11.6, \"Year\": \"1982-01-01T00:00:00\", \"Origin\": \"USA\"}, {\"Name\": \"ford ranger\", \"Miles_per_Gallon\": 28.0, \"Cylinders\": 4, \"Displacement\": 120.0, \"Horsepower\": 79.0, \"Weight_in_lbs\": 2625, \"Acceleration\": 18.6, \"Year\": \"1982-01-01T00:00:00\", \"Origin\": \"USA\"}, {\"Name\": \"chevy s-10\", \"Miles_per_Gallon\": 31.0, \"Cylinders\": 4, \"Displacement\": 119.0, \"Horsepower\": 82.0, \"Weight_in_lbs\": 2720, \"Acceleration\": 19.4, \"Year\": \"1982-01-01T00:00:00\", \"Origin\": \"USA\"}]}}, {\"actions\": false, \"mode\": \"vega-lite\"});\n",
       "</script>"
      ],
      "text/plain": [
       "alt.Chart(...)"
      ]
     },
     "execution_count": 22,
     "metadata": {},
     "output_type": "execute_result"
    }
   ],
   "source": [
    "_deepnote_run_altair(cars, \"\"\"{\"$schema\":\"https://vega.github.io/schema/vega-lite/v4.json\",\"mark\":{\"type\":\"line\",\"tooltip\":{\"content\":\"data\"}},\"height\":220,\"autosize\":{\"type\":\"fit\"},\"data\":{\"name\":\"placeholder\"},\"encoding\":{\"x\":{\"field\":\"Year\",\"type\":\"temporal\",\"sort\":\"ascending\",\"scale\":{\"type\":\"linear\",\"zero\":false}},\"y\":{\"field\":\"COUNT(*)\",\"type\":\"quantitative\",\"sort\":\"ascending\",\"aggregate\":\"count\",\"scale\":{\"type\":\"linear\",\"zero\":false}},\"color\":{\"field\":\"Origin\",\"type\":\"nominal\",\"sort\":\"ascending\",\"scale\":{\"type\":\"linear\",\"zero\":false}}}}\"\"\")"
   ]
  },
  {
   "cell_type": "markdown",
   "metadata": {
    "cell_id": "00019-6fd5f968-7cea-4422-b790-6d1372f449c9",
    "deepnote_cell_type": "markdown",
    "tags": []
   },
   "source": [
    "![](https://deepnote.com/collab/5/project/fce58f64-c6fc-452a-be94-0bbfecfa1089/download-file?path=%2Fno-code_chart.gif&mtime=2021-07-16T01%3A24%3A37.000Z)"
   ]
  },
  {
   "cell_type": "markdown",
   "metadata": {
    "cell_id": "00012-4acaf4ad-a4ee-4c2b-8e31-9f33fce7936a",
    "deepnote_cell_type": "markdown",
    "tags": []
   },
   "source": [
    "Además, **Deepnote** provee de una visualización previa para los [DataFrames](https://pandas.pydata.org/) (_i.e._, datos en formato tabular) que te ayudará a entender mejor la distribución de tus datos en una primera vista:\n",
    "\n",
    "> Para ver una visualización mucho más completa de esta tabla, asegúrate de dar clic en el botón `Launch in Deepnote`. 😋"
   ]
  },
  {
   "cell_type": "code",
   "execution_count": null,
   "metadata": {
    "cell_id": "00013-46d17c48-c299-421f-a2fb-56b68c77a9ff",
    "deepnote_cell_type": "code",
    "deepnote_to_be_reexecuted": false,
    "execution_millis": 154,
    "execution_start": 1626393799115,
    "source_hash": "6c3047c7",
    "tags": []
   },
   "outputs": [
    {
     "data": {
      "application/vnd.deepnote.dataframe.v2+json": {
       "column_count": 9,
       "columns": [
        {
         "dtype": "object",
         "name": "Name",
         "stats": {
          "categories": [
           {
            "count": 6,
            "name": "ford pinto"
           },
           {
            "count": 5,
            "name": "ford maverick"
           },
           {
            "count": 395,
            "name": "309 others"
           }
          ],
          "nan_count": 0,
          "unique_count": 311
         }
        },
        {
         "dtype": "float64",
         "name": "Miles_per_Gallon",
         "stats": {
          "histogram": [
           {
            "bin_end": 12.76,
            "bin_start": 9,
            "count": 13
           },
           {
            "bin_end": 16.52,
            "bin_start": 12.76,
            "count": 78
           },
           {
            "bin_end": 20.28,
            "bin_start": 16.52,
            "count": 73
           },
           {
            "bin_end": 24.04,
            "bin_start": 20.28,
            "count": 61
           },
           {
            "bin_end": 27.8,
            "bin_start": 24.04,
            "count": 54
           },
           {
            "bin_end": 31.560000000000002,
            "bin_start": 27.8,
            "count": 48
           },
           {
            "bin_end": 35.32,
            "bin_start": 31.560000000000002,
            "count": 38
           },
           {
            "bin_end": 39.08,
            "bin_start": 35.32,
            "count": 22
           },
           {
            "bin_end": 42.84,
            "bin_start": 39.08,
            "count": 5
           },
           {
            "bin_end": 46.6,
            "bin_start": 42.84,
            "count": 6
           }
          ],
          "max": "46.6",
          "min": "9.0",
          "nan_count": 8,
          "unique_count": 129
         }
        },
        {
         "dtype": "int64",
         "name": "Cylinders",
         "stats": {
          "histogram": [
           {
            "bin_end": 3.5,
            "bin_start": 3,
            "count": 4
           },
           {
            "bin_end": 4,
            "bin_start": 3.5,
            "count": 0
           },
           {
            "bin_end": 4.5,
            "bin_start": 4,
            "count": 207
           },
           {
            "bin_end": 5,
            "bin_start": 4.5,
            "count": 0
           },
           {
            "bin_end": 5.5,
            "bin_start": 5,
            "count": 3
           },
           {
            "bin_end": 6,
            "bin_start": 5.5,
            "count": 0
           },
           {
            "bin_end": 6.5,
            "bin_start": 6,
            "count": 84
           },
           {
            "bin_end": 7,
            "bin_start": 6.5,
            "count": 0
           },
           {
            "bin_end": 7.5,
            "bin_start": 7,
            "count": 0
           },
           {
            "bin_end": 8,
            "bin_start": 7.5,
            "count": 108
           }
          ],
          "max": "8",
          "min": "3",
          "nan_count": 0,
          "unique_count": 5
         }
        },
        {
         "dtype": "float64",
         "name": "Displacement",
         "stats": {
          "histogram": [
           {
            "bin_end": 106.7,
            "bin_start": 68,
            "count": 108
           },
           {
            "bin_end": 145.4,
            "bin_start": 106.7,
            "count": 91
           },
           {
            "bin_end": 184.10000000000002,
            "bin_start": 145.4,
            "count": 31
           },
           {
            "bin_end": 222.8,
            "bin_start": 184.10000000000002,
            "count": 13
           },
           {
            "bin_end": 261.5,
            "bin_start": 222.8,
            "count": 57
           },
           {
            "bin_end": 300.20000000000005,
            "bin_start": 261.5,
            "count": 3
           },
           {
            "bin_end": 338.90000000000003,
            "bin_start": 300.20000000000005,
            "count": 43
           },
           {
            "bin_end": 377.6,
            "bin_start": 338.90000000000003,
            "count": 34
           },
           {
            "bin_end": 416.3,
            "bin_start": 377.6,
            "count": 17
           },
           {
            "bin_end": 455,
            "bin_start": 416.3,
            "count": 9
           }
          ],
          "max": "455.0",
          "min": "68.0",
          "nan_count": 0,
          "unique_count": 83
         }
        },
        {
         "dtype": "float64",
         "name": "Horsepower",
         "stats": {
          "histogram": [
           {
            "bin_end": 64.4,
            "bin_start": 46,
            "count": 28
           },
           {
            "bin_end": 82.8,
            "bin_start": 64.4,
            "count": 95
           },
           {
            "bin_end": 101.19999999999999,
            "bin_start": 82.8,
            "count": 120
           },
           {
            "bin_end": 119.6,
            "bin_start": 101.19999999999999,
            "count": 46
           },
           {
            "bin_end": 138,
            "bin_start": 119.6,
            "count": 19
           },
           {
            "bin_end": 156.39999999999998,
            "bin_start": 138,
            "count": 49
           },
           {
            "bin_end": 174.79999999999998,
            "bin_start": 156.39999999999998,
            "count": 14
           },
           {
            "bin_end": 193.2,
            "bin_start": 174.79999999999998,
            "count": 16
           },
           {
            "bin_end": 211.6,
            "bin_start": 193.2,
            "count": 5
           },
           {
            "bin_end": 230,
            "bin_start": 211.6,
            "count": 8
           }
          ],
          "max": "230.0",
          "min": "46.0",
          "nan_count": 6,
          "unique_count": 93
         }
        },
        {
         "dtype": "int64",
         "name": "Weight_in_lbs",
         "stats": {
          "histogram": [
           {
            "bin_end": 1965.7,
            "bin_start": 1613,
            "count": 31
           },
           {
            "bin_end": 2318.4,
            "bin_start": 1965.7,
            "count": 91
           },
           {
            "bin_end": 2671.1,
            "bin_start": 2318.4,
            "count": 59
           },
           {
            "bin_end": 3023.8,
            "bin_start": 2671.1,
            "count": 55
           },
           {
            "bin_end": 3376.5,
            "bin_start": 3023.8,
            "count": 39
           },
           {
            "bin_end": 3729.2,
            "bin_start": 3376.5,
            "count": 40
           },
           {
            "bin_end": 4081.9,
            "bin_start": 3729.2,
            "count": 31
           },
           {
            "bin_end": 4434.6,
            "bin_start": 4081.9,
            "count": 36
           },
           {
            "bin_end": 4787.299999999999,
            "bin_start": 4434.6,
            "count": 18
           },
           {
            "bin_end": 5140,
            "bin_start": 4787.299999999999,
            "count": 6
           }
          ],
          "max": "5140",
          "min": "1613",
          "nan_count": 0,
          "unique_count": 356
         }
        },
        {
         "dtype": "float64",
         "name": "Acceleration",
         "stats": {
          "histogram": [
           {
            "bin_end": 9.68,
            "bin_start": 8,
            "count": 7
           },
           {
            "bin_end": 11.36,
            "bin_start": 9.68,
            "count": 18
           },
           {
            "bin_end": 13.040000000000001,
            "bin_start": 11.36,
            "count": 51
           },
           {
            "bin_end": 14.72,
            "bin_start": 13.040000000000001,
            "count": 86
           },
           {
            "bin_end": 16.4,
            "bin_start": 14.72,
            "count": 93
           },
           {
            "bin_end": 18.080000000000002,
            "bin_start": 16.4,
            "count": 81
           },
           {
            "bin_end": 19.76,
            "bin_start": 18.080000000000002,
            "count": 45
           },
           {
            "bin_end": 21.44,
            "bin_start": 19.76,
            "count": 14
           },
           {
            "bin_end": 23.12,
            "bin_start": 21.44,
            "count": 7
           },
           {
            "bin_end": 24.8,
            "bin_start": 23.12,
            "count": 4
           }
          ],
          "max": "24.8",
          "min": "8.0",
          "nan_count": 0,
          "unique_count": 96
         }
        },
        {
         "dtype": "datetime64[ns]",
         "name": "Year",
         "stats": {
          "histogram": [
           {
            "bin_end": 37869120000000000,
            "bin_start": 0,
            "count": 64
           },
           {
            "bin_end": 75738240000000000,
            "bin_start": 37869120000000000,
            "count": 28
           },
           {
            "bin_end": 113607360000000000,
            "bin_start": 75738240000000000,
            "count": 40
           },
           {
            "bin_end": 151476480000000000,
            "bin_start": 113607360000000000,
            "count": 27
           },
           {
            "bin_end": 189345600000000000,
            "bin_start": 151476480000000000,
            "count": 64
           },
           {
            "bin_end": 227214720000000000,
            "bin_start": 189345600000000000,
            "count": 28
           },
           {
            "bin_end": 265083840000000000,
            "bin_start": 227214720000000000,
            "count": 36
           },
           {
            "bin_end": 302952960000000000,
            "bin_start": 265083840000000000,
            "count": 29
           },
           {
            "bin_end": 340822080000000000,
            "bin_start": 302952960000000000,
            "count": 29
           },
           {
            "bin_end": 378691200000000000,
            "bin_start": 340822080000000000,
            "count": 61
           }
          ],
          "max": "1982-01-01 00:00:00",
          "min": "1970-01-01 00:00:00",
          "nan_count": 0,
          "unique_count": 12
         }
        },
        {
         "dtype": "object",
         "name": "Origin",
         "stats": {
          "categories": [
           {
            "count": 254,
            "name": "USA"
           },
           {
            "count": 79,
            "name": "Japan"
           },
           {
            "count": 73,
            "name": "Europe"
           }
          ],
          "nan_count": 0,
          "unique_count": 3
         }
        },
        {
         "dtype": "int64",
         "name": "_deepnote_index_column"
        }
       ],
       "row_count": 406,
       "rows_bottom": [
        {
         "Acceleration": 16.9,
         "Cylinders": 4,
         "Displacement": 79,
         "Horsepower": 58,
         "Miles_per_Gallon": 39.1,
         "Name": "toyota starlet",
         "Origin": "Japan",
         "Weight_in_lbs": 1755,
         "Year": "1982-01-01T00:00:00.000000",
         "_deepnote_index_column": 350
        },
        {
         "Acceleration": 16.4,
         "Cylinders": 4,
         "Displacement": 86,
         "Horsepower": 64,
         "Miles_per_Gallon": 39,
         "Name": "plymouth champ",
         "Origin": "USA",
         "Weight_in_lbs": 1875,
         "Year": "1982-01-01T00:00:00.000000",
         "_deepnote_index_column": 351
        },
        {
         "Acceleration": 16.1,
         "Cylinders": 4,
         "Displacement": 81,
         "Horsepower": 60,
         "Miles_per_Gallon": 35.1,
         "Name": "honda civic 1300",
         "Origin": "Japan",
         "Weight_in_lbs": 1760,
         "Year": "1982-01-01T00:00:00.000000",
         "_deepnote_index_column": 352
        },
        {
         "Acceleration": 17.8,
         "Cylinders": 4,
         "Displacement": 97,
         "Horsepower": 67,
         "Miles_per_Gallon": 32.3,
         "Name": "subaru",
         "Origin": "Japan",
         "Weight_in_lbs": 2065,
         "Year": "1982-01-01T00:00:00.000000",
         "_deepnote_index_column": 353
        },
        {
         "Acceleration": 19.4,
         "Cylinders": 4,
         "Displacement": 85,
         "Horsepower": 65,
         "Miles_per_Gallon": 37,
         "Name": "datsun 210",
         "Origin": "Japan",
         "Weight_in_lbs": 1975,
         "Year": "1982-01-01T00:00:00.000000",
         "_deepnote_index_column": 354
        },
        {
         "Acceleration": 17.3,
         "Cylinders": 4,
         "Displacement": 89,
         "Horsepower": 62,
         "Miles_per_Gallon": 37.7,
         "Name": "toyota tercel",
         "Origin": "Japan",
         "Weight_in_lbs": 2050,
         "Year": "1982-01-01T00:00:00.000000",
         "_deepnote_index_column": 355
        },
        {
         "Acceleration": 16,
         "Cylinders": 4,
         "Displacement": 91,
         "Horsepower": 68,
         "Miles_per_Gallon": 34.1,
         "Name": "mazda glc 4",
         "Origin": "Japan",
         "Weight_in_lbs": 1985,
         "Year": "1982-01-01T00:00:00.000000",
         "_deepnote_index_column": 356
        },
        {
         "Acceleration": 14.9,
         "Cylinders": 4,
         "Displacement": 105,
         "Horsepower": 63,
         "Miles_per_Gallon": 34.7,
         "Name": "plymouth horizon 4",
         "Origin": "USA",
         "Weight_in_lbs": 2215,
         "Year": "1982-01-01T00:00:00.000000",
         "_deepnote_index_column": 357
        },
        {
         "Acceleration": 16.2,
         "Cylinders": 4,
         "Displacement": 98,
         "Horsepower": 65,
         "Miles_per_Gallon": 34.4,
         "Name": "ford escort 4w",
         "Origin": "USA",
         "Weight_in_lbs": 2045,
         "Year": "1982-01-01T00:00:00.000000",
         "_deepnote_index_column": 358
        },
        {
         "Acceleration": 20.7,
         "Cylinders": 4,
         "Displacement": 98,
         "Horsepower": 65,
         "Miles_per_Gallon": 29.9,
         "Name": "ford escort 2h",
         "Origin": "USA",
         "Weight_in_lbs": 2380,
         "Year": "1982-01-01T00:00:00.000000",
         "_deepnote_index_column": 359
        },
        {
         "Acceleration": 14.2,
         "Cylinders": 4,
         "Displacement": 105,
         "Horsepower": 74,
         "Miles_per_Gallon": 33,
         "Name": "volkswagen jetta",
         "Origin": "Europe",
         "Weight_in_lbs": 2190,
         "Year": "1982-01-01T00:00:00.000000",
         "_deepnote_index_column": 360
        },
        {
         "Acceleration": 15.8,
         "Cylinders": 4,
         "Displacement": 100,
         "Horsepower": "nan",
         "Miles_per_Gallon": 34.5,
         "Name": "renault 18i",
         "Origin": "Europe",
         "Weight_in_lbs": 2320,
         "Year": "1982-01-01T00:00:00.000000",
         "_deepnote_index_column": 361
        },
        {
         "Acceleration": 14.4,
         "Cylinders": 4,
         "Displacement": 107,
         "Horsepower": 75,
         "Miles_per_Gallon": 33.7,
         "Name": "honda prelude",
         "Origin": "Japan",
         "Weight_in_lbs": 2210,
         "Year": "1982-01-01T00:00:00.000000",
         "_deepnote_index_column": 362
        },
        {
         "Acceleration": 16.8,
         "Cylinders": 4,
         "Displacement": 108,
         "Horsepower": 75,
         "Miles_per_Gallon": 32.4,
         "Name": "toyota corolla",
         "Origin": "Japan",
         "Weight_in_lbs": 2350,
         "Year": "1982-01-01T00:00:00.000000",
         "_deepnote_index_column": 363
        },
        {
         "Acceleration": 14.8,
         "Cylinders": 4,
         "Displacement": 119,
         "Horsepower": 100,
         "Miles_per_Gallon": 32.9,
         "Name": "datsun 200sx",
         "Origin": "Japan",
         "Weight_in_lbs": 2615,
         "Year": "1982-01-01T00:00:00.000000",
         "_deepnote_index_column": 364
        },
        {
         "Acceleration": 18.3,
         "Cylinders": 4,
         "Displacement": 120,
         "Horsepower": 74,
         "Miles_per_Gallon": 31.6,
         "Name": "mazda 626",
         "Origin": "Japan",
         "Weight_in_lbs": 2635,
         "Year": "1982-01-01T00:00:00.000000",
         "_deepnote_index_column": 365
        },
        {
         "Acceleration": 20.4,
         "Cylinders": 4,
         "Displacement": 141,
         "Horsepower": 80,
         "Miles_per_Gallon": 28.1,
         "Name": "peugeot 505s turbo diesel",
         "Origin": "Europe",
         "Weight_in_lbs": 3230,
         "Year": "1982-01-01T00:00:00.000000",
         "_deepnote_index_column": 366
        },
        {
         "Acceleration": 15.4,
         "Cylinders": 4,
         "Displacement": 121,
         "Horsepower": 110,
         "Miles_per_Gallon": "nan",
         "Name": "saab 900s",
         "Origin": "Europe",
         "Weight_in_lbs": 2800,
         "Year": "1982-01-01T00:00:00.000000",
         "_deepnote_index_column": 367
        },
        {
         "Acceleration": 19.6,
         "Cylinders": 6,
         "Displacement": 145,
         "Horsepower": 76,
         "Miles_per_Gallon": 30.7,
         "Name": "volvo diesel",
         "Origin": "Europe",
         "Weight_in_lbs": 3160,
         "Year": "1982-01-01T00:00:00.000000",
         "_deepnote_index_column": 368
        },
        {
         "Acceleration": 12.6,
         "Cylinders": 6,
         "Displacement": 168,
         "Horsepower": 116,
         "Miles_per_Gallon": 25.4,
         "Name": "toyota cressida",
         "Origin": "Japan",
         "Weight_in_lbs": 2900,
         "Year": "1982-01-01T00:00:00.000000",
         "_deepnote_index_column": 369
        },
        {
         "Acceleration": 13.8,
         "Cylinders": 6,
         "Displacement": 146,
         "Horsepower": 120,
         "Miles_per_Gallon": 24.2,
         "Name": "datsun 810 maxima",
         "Origin": "Japan",
         "Weight_in_lbs": 2930,
         "Year": "1982-01-01T00:00:00.000000",
         "_deepnote_index_column": 370
        },
        {
         "Acceleration": 15.8,
         "Cylinders": 6,
         "Displacement": 231,
         "Horsepower": 110,
         "Miles_per_Gallon": 22.4,
         "Name": "buick century",
         "Origin": "USA",
         "Weight_in_lbs": 3415,
         "Year": "1982-01-01T00:00:00.000000",
         "_deepnote_index_column": 371
        },
        {
         "Acceleration": 19,
         "Cylinders": 8,
         "Displacement": 350,
         "Horsepower": 105,
         "Miles_per_Gallon": 26.6,
         "Name": "oldsmobile cutlass ls",
         "Origin": "USA",
         "Weight_in_lbs": 3725,
         "Year": "1982-01-01T00:00:00.000000",
         "_deepnote_index_column": 372
        },
        {
         "Acceleration": 17.1,
         "Cylinders": 6,
         "Displacement": 200,
         "Horsepower": 88,
         "Miles_per_Gallon": 20.2,
         "Name": "ford granada gl",
         "Origin": "USA",
         "Weight_in_lbs": 3060,
         "Year": "1982-01-01T00:00:00.000000",
         "_deepnote_index_column": 373
        },
        {
         "Acceleration": 16.6,
         "Cylinders": 6,
         "Displacement": 225,
         "Horsepower": 85,
         "Miles_per_Gallon": 17.6,
         "Name": "chrysler lebaron salon",
         "Origin": "USA",
         "Weight_in_lbs": 3465,
         "Year": "1982-01-01T00:00:00.000000",
         "_deepnote_index_column": 374
        },
        {
         "Acceleration": 19.6,
         "Cylinders": 4,
         "Displacement": 112,
         "Horsepower": 88,
         "Miles_per_Gallon": 28,
         "Name": "chevrolet cavalier",
         "Origin": "USA",
         "Weight_in_lbs": 2605,
         "Year": "1982-01-01T00:00:00.000000",
         "_deepnote_index_column": 375
        },
        {
         "Acceleration": 18.6,
         "Cylinders": 4,
         "Displacement": 112,
         "Horsepower": 88,
         "Miles_per_Gallon": 27,
         "Name": "chevrolet cavalier wagon",
         "Origin": "USA",
         "Weight_in_lbs": 2640,
         "Year": "1982-01-01T00:00:00.000000",
         "_deepnote_index_column": 376
        },
        {
         "Acceleration": 18,
         "Cylinders": 4,
         "Displacement": 112,
         "Horsepower": 88,
         "Miles_per_Gallon": 34,
         "Name": "chevrolet cavalier 2-door",
         "Origin": "USA",
         "Weight_in_lbs": 2395,
         "Year": "1982-01-01T00:00:00.000000",
         "_deepnote_index_column": 377
        },
        {
         "Acceleration": 16.2,
         "Cylinders": 4,
         "Displacement": 112,
         "Horsepower": 85,
         "Miles_per_Gallon": 31,
         "Name": "pontiac j2000 se hatchback",
         "Origin": "USA",
         "Weight_in_lbs": 2575,
         "Year": "1982-01-01T00:00:00.000000",
         "_deepnote_index_column": 378
        },
        {
         "Acceleration": 16,
         "Cylinders": 4,
         "Displacement": 135,
         "Horsepower": 84,
         "Miles_per_Gallon": 29,
         "Name": "dodge aries se",
         "Origin": "USA",
         "Weight_in_lbs": 2525,
         "Year": "1982-01-01T00:00:00.000000",
         "_deepnote_index_column": 379
        },
        {
         "Acceleration": 18,
         "Cylinders": 4,
         "Displacement": 151,
         "Horsepower": 90,
         "Miles_per_Gallon": 27,
         "Name": "pontiac phoenix",
         "Origin": "USA",
         "Weight_in_lbs": 2735,
         "Year": "1982-01-01T00:00:00.000000",
         "_deepnote_index_column": 380
        },
        {
         "Acceleration": 16.4,
         "Cylinders": 4,
         "Displacement": 140,
         "Horsepower": 92,
         "Miles_per_Gallon": 24,
         "Name": "ford fairmont futura",
         "Origin": "USA",
         "Weight_in_lbs": 2865,
         "Year": "1982-01-01T00:00:00.000000",
         "_deepnote_index_column": 381
        },
        {
         "Acceleration": 20.5,
         "Cylinders": 4,
         "Displacement": 151,
         "Horsepower": "nan",
         "Miles_per_Gallon": 23,
         "Name": "amc concord dl",
         "Origin": "USA",
         "Weight_in_lbs": 3035,
         "Year": "1982-01-01T00:00:00.000000",
         "_deepnote_index_column": 382
        },
        {
         "Acceleration": 15.3,
         "Cylinders": 4,
         "Displacement": 105,
         "Horsepower": 74,
         "Miles_per_Gallon": 36,
         "Name": "volkswagen rabbit l",
         "Origin": "Europe",
         "Weight_in_lbs": 1980,
         "Year": "1982-01-01T00:00:00.000000",
         "_deepnote_index_column": 383
        },
        {
         "Acceleration": 18.2,
         "Cylinders": 4,
         "Displacement": 91,
         "Horsepower": 68,
         "Miles_per_Gallon": 37,
         "Name": "mazda glc custom l",
         "Origin": "Japan",
         "Weight_in_lbs": 2025,
         "Year": "1982-01-01T00:00:00.000000",
         "_deepnote_index_column": 384
        },
        {
         "Acceleration": 17.6,
         "Cylinders": 4,
         "Displacement": 91,
         "Horsepower": 68,
         "Miles_per_Gallon": 31,
         "Name": "mazda glc custom",
         "Origin": "Japan",
         "Weight_in_lbs": 1970,
         "Year": "1982-01-01T00:00:00.000000",
         "_deepnote_index_column": 385
        },
        {
         "Acceleration": 14.7,
         "Cylinders": 4,
         "Displacement": 105,
         "Horsepower": 63,
         "Miles_per_Gallon": 38,
         "Name": "plymouth horizon miser",
         "Origin": "USA",
         "Weight_in_lbs": 2125,
         "Year": "1982-01-01T00:00:00.000000",
         "_deepnote_index_column": 386
        },
        {
         "Acceleration": 17.3,
         "Cylinders": 4,
         "Displacement": 98,
         "Horsepower": 70,
         "Miles_per_Gallon": 36,
         "Name": "mercury lynx l",
         "Origin": "USA",
         "Weight_in_lbs": 2125,
         "Year": "1982-01-01T00:00:00.000000",
         "_deepnote_index_column": 387
        },
        {
         "Acceleration": 14.5,
         "Cylinders": 4,
         "Displacement": 120,
         "Horsepower": 88,
         "Miles_per_Gallon": 36,
         "Name": "nissan stanza xe",
         "Origin": "Japan",
         "Weight_in_lbs": 2160,
         "Year": "1982-01-01T00:00:00.000000",
         "_deepnote_index_column": 388
        },
        {
         "Acceleration": 14.5,
         "Cylinders": 4,
         "Displacement": 107,
         "Horsepower": 75,
         "Miles_per_Gallon": 36,
         "Name": "honda Accelerationord",
         "Origin": "Japan",
         "Weight_in_lbs": 2205,
         "Year": "1982-01-01T00:00:00.000000",
         "_deepnote_index_column": 389
        },
        {
         "Acceleration": 16.9,
         "Cylinders": 4,
         "Displacement": 108,
         "Horsepower": 70,
         "Miles_per_Gallon": 34,
         "Name": "toyota corolla",
         "Origin": "Japan",
         "Weight_in_lbs": 2245,
         "Year": "1982-01-01T00:00:00.000000",
         "_deepnote_index_column": 390
        },
        {
         "Acceleration": 15,
         "Cylinders": 4,
         "Displacement": 91,
         "Horsepower": 67,
         "Miles_per_Gallon": 38,
         "Name": "honda civic",
         "Origin": "Japan",
         "Weight_in_lbs": 1965,
         "Year": "1982-01-01T00:00:00.000000",
         "_deepnote_index_column": 391
        },
        {
         "Acceleration": 15.7,
         "Cylinders": 4,
         "Displacement": 91,
         "Horsepower": 67,
         "Miles_per_Gallon": 32,
         "Name": "honda civic (auto)",
         "Origin": "Japan",
         "Weight_in_lbs": 1965,
         "Year": "1982-01-01T00:00:00.000000",
         "_deepnote_index_column": 392
        },
        {
         "Acceleration": 16.2,
         "Cylinders": 4,
         "Displacement": 91,
         "Horsepower": 67,
         "Miles_per_Gallon": 38,
         "Name": "datsun 310 gx",
         "Origin": "Japan",
         "Weight_in_lbs": 1995,
         "Year": "1982-01-01T00:00:00.000000",
         "_deepnote_index_column": 393
        },
        {
         "Acceleration": 16.4,
         "Cylinders": 6,
         "Displacement": 181,
         "Horsepower": 110,
         "Miles_per_Gallon": 25,
         "Name": "buick century limited",
         "Origin": "USA",
         "Weight_in_lbs": 2945,
         "Year": "1982-01-01T00:00:00.000000",
         "_deepnote_index_column": 394
        },
        {
         "Acceleration": 17,
         "Cylinders": 6,
         "Displacement": 262,
         "Horsepower": 85,
         "Miles_per_Gallon": 38,
         "Name": "oldsmobile cutlass ciera (diesel)",
         "Origin": "USA",
         "Weight_in_lbs": 3015,
         "Year": "1982-01-01T00:00:00.000000",
         "_deepnote_index_column": 395
        },
        {
         "Acceleration": 14.5,
         "Cylinders": 4,
         "Displacement": 156,
         "Horsepower": 92,
         "Miles_per_Gallon": 26,
         "Name": "chrysler lebaron medallion",
         "Origin": "USA",
         "Weight_in_lbs": 2585,
         "Year": "1982-01-01T00:00:00.000000",
         "_deepnote_index_column": 396
        },
        {
         "Acceleration": 14.7,
         "Cylinders": 6,
         "Displacement": 232,
         "Horsepower": 112,
         "Miles_per_Gallon": 22,
         "Name": "ford granada l",
         "Origin": "USA",
         "Weight_in_lbs": 2835,
         "Year": "1982-01-01T00:00:00.000000",
         "_deepnote_index_column": 397
        },
        {
         "Acceleration": 13.9,
         "Cylinders": 4,
         "Displacement": 144,
         "Horsepower": 96,
         "Miles_per_Gallon": 32,
         "Name": "toyota celica gt",
         "Origin": "Japan",
         "Weight_in_lbs": 2665,
         "Year": "1982-01-01T00:00:00.000000",
         "_deepnote_index_column": 398
        },
        {
         "Acceleration": 13,
         "Cylinders": 4,
         "Displacement": 135,
         "Horsepower": 84,
         "Miles_per_Gallon": 36,
         "Name": "dodge charger 2.2",
         "Origin": "USA",
         "Weight_in_lbs": 2370,
         "Year": "1982-01-01T00:00:00.000000",
         "_deepnote_index_column": 399
        },
        {
         "Acceleration": 17.3,
         "Cylinders": 4,
         "Displacement": 151,
         "Horsepower": 90,
         "Miles_per_Gallon": 27,
         "Name": "chevrolet camaro",
         "Origin": "USA",
         "Weight_in_lbs": 2950,
         "Year": "1982-01-01T00:00:00.000000",
         "_deepnote_index_column": 400
        },
        {
         "Acceleration": 15.6,
         "Cylinders": 4,
         "Displacement": 140,
         "Horsepower": 86,
         "Miles_per_Gallon": 27,
         "Name": "ford mustang gl",
         "Origin": "USA",
         "Weight_in_lbs": 2790,
         "Year": "1982-01-01T00:00:00.000000",
         "_deepnote_index_column": 401
        },
        {
         "Acceleration": 24.6,
         "Cylinders": 4,
         "Displacement": 97,
         "Horsepower": 52,
         "Miles_per_Gallon": 44,
         "Name": "vw pickup",
         "Origin": "Europe",
         "Weight_in_lbs": 2130,
         "Year": "1982-01-01T00:00:00.000000",
         "_deepnote_index_column": 402
        },
        {
         "Acceleration": 11.6,
         "Cylinders": 4,
         "Displacement": 135,
         "Horsepower": 84,
         "Miles_per_Gallon": 32,
         "Name": "dodge rampage",
         "Origin": "USA",
         "Weight_in_lbs": 2295,
         "Year": "1982-01-01T00:00:00.000000",
         "_deepnote_index_column": 403
        },
        {
         "Acceleration": 18.6,
         "Cylinders": 4,
         "Displacement": 120,
         "Horsepower": 79,
         "Miles_per_Gallon": 28,
         "Name": "ford ranger",
         "Origin": "USA",
         "Weight_in_lbs": 2625,
         "Year": "1982-01-01T00:00:00.000000",
         "_deepnote_index_column": 404
        },
        {
         "Acceleration": 19.4,
         "Cylinders": 4,
         "Displacement": 119,
         "Horsepower": 82,
         "Miles_per_Gallon": 31,
         "Name": "chevy s-10",
         "Origin": "USA",
         "Weight_in_lbs": 2720,
         "Year": "1982-01-01T00:00:00.000000",
         "_deepnote_index_column": 405
        }
       ],
       "rows_top": [
        {
         "Acceleration": 12,
         "Cylinders": 8,
         "Displacement": 307,
         "Horsepower": 130,
         "Miles_per_Gallon": 18,
         "Name": "chevrolet chevelle malibu",
         "Origin": "USA",
         "Weight_in_lbs": 3504,
         "Year": "1970-01-01T00:00:00.000000",
         "_deepnote_index_column": 0
        },
        {
         "Acceleration": 11.5,
         "Cylinders": 8,
         "Displacement": 350,
         "Horsepower": 165,
         "Miles_per_Gallon": 15,
         "Name": "buick skylark 320",
         "Origin": "USA",
         "Weight_in_lbs": 3693,
         "Year": "1970-01-01T00:00:00.000000",
         "_deepnote_index_column": 1
        },
        {
         "Acceleration": 11,
         "Cylinders": 8,
         "Displacement": 318,
         "Horsepower": 150,
         "Miles_per_Gallon": 18,
         "Name": "plymouth satellite",
         "Origin": "USA",
         "Weight_in_lbs": 3436,
         "Year": "1970-01-01T00:00:00.000000",
         "_deepnote_index_column": 2
        },
        {
         "Acceleration": 12,
         "Cylinders": 8,
         "Displacement": 304,
         "Horsepower": 150,
         "Miles_per_Gallon": 16,
         "Name": "amc rebel sst",
         "Origin": "USA",
         "Weight_in_lbs": 3433,
         "Year": "1970-01-01T00:00:00.000000",
         "_deepnote_index_column": 3
        },
        {
         "Acceleration": 10.5,
         "Cylinders": 8,
         "Displacement": 302,
         "Horsepower": 140,
         "Miles_per_Gallon": 17,
         "Name": "ford torino",
         "Origin": "USA",
         "Weight_in_lbs": 3449,
         "Year": "1970-01-01T00:00:00.000000",
         "_deepnote_index_column": 4
        },
        {
         "Acceleration": 10,
         "Cylinders": 8,
         "Displacement": 429,
         "Horsepower": 198,
         "Miles_per_Gallon": 15,
         "Name": "ford galaxie 500",
         "Origin": "USA",
         "Weight_in_lbs": 4341,
         "Year": "1970-01-01T00:00:00.000000",
         "_deepnote_index_column": 5
        },
        {
         "Acceleration": 9,
         "Cylinders": 8,
         "Displacement": 454,
         "Horsepower": 220,
         "Miles_per_Gallon": 14,
         "Name": "chevrolet impala",
         "Origin": "USA",
         "Weight_in_lbs": 4354,
         "Year": "1970-01-01T00:00:00.000000",
         "_deepnote_index_column": 6
        },
        {
         "Acceleration": 8.5,
         "Cylinders": 8,
         "Displacement": 440,
         "Horsepower": 215,
         "Miles_per_Gallon": 14,
         "Name": "plymouth fury iii",
         "Origin": "USA",
         "Weight_in_lbs": 4312,
         "Year": "1970-01-01T00:00:00.000000",
         "_deepnote_index_column": 7
        },
        {
         "Acceleration": 10,
         "Cylinders": 8,
         "Displacement": 455,
         "Horsepower": 225,
         "Miles_per_Gallon": 14,
         "Name": "pontiac catalina",
         "Origin": "USA",
         "Weight_in_lbs": 4425,
         "Year": "1970-01-01T00:00:00.000000",
         "_deepnote_index_column": 8
        },
        {
         "Acceleration": 8.5,
         "Cylinders": 8,
         "Displacement": 390,
         "Horsepower": 190,
         "Miles_per_Gallon": 15,
         "Name": "amc ambassador dpl",
         "Origin": "USA",
         "Weight_in_lbs": 3850,
         "Year": "1970-01-01T00:00:00.000000",
         "_deepnote_index_column": 9
        },
        {
         "Acceleration": 17.5,
         "Cylinders": 4,
         "Displacement": 133,
         "Horsepower": 115,
         "Miles_per_Gallon": "nan",
         "Name": "citroen ds-21 pallas",
         "Origin": "Europe",
         "Weight_in_lbs": 3090,
         "Year": "1970-01-01T00:00:00.000000",
         "_deepnote_index_column": 10
        },
        {
         "Acceleration": 11.5,
         "Cylinders": 8,
         "Displacement": 350,
         "Horsepower": 165,
         "Miles_per_Gallon": "nan",
         "Name": "chevrolet chevelle concours (sw)",
         "Origin": "USA",
         "Weight_in_lbs": 4142,
         "Year": "1970-01-01T00:00:00.000000",
         "_deepnote_index_column": 11
        },
        {
         "Acceleration": 11,
         "Cylinders": 8,
         "Displacement": 351,
         "Horsepower": 153,
         "Miles_per_Gallon": "nan",
         "Name": "ford torino (sw)",
         "Origin": "USA",
         "Weight_in_lbs": 4034,
         "Year": "1970-01-01T00:00:00.000000",
         "_deepnote_index_column": 12
        },
        {
         "Acceleration": 10.5,
         "Cylinders": 8,
         "Displacement": 383,
         "Horsepower": 175,
         "Miles_per_Gallon": "nan",
         "Name": "plymouth satellite (sw)",
         "Origin": "USA",
         "Weight_in_lbs": 4166,
         "Year": "1970-01-01T00:00:00.000000",
         "_deepnote_index_column": 13
        },
        {
         "Acceleration": 11,
         "Cylinders": 8,
         "Displacement": 360,
         "Horsepower": 175,
         "Miles_per_Gallon": "nan",
         "Name": "amc rebel sst (sw)",
         "Origin": "USA",
         "Weight_in_lbs": 3850,
         "Year": "1970-01-01T00:00:00.000000",
         "_deepnote_index_column": 14
        },
        {
         "Acceleration": 10,
         "Cylinders": 8,
         "Displacement": 383,
         "Horsepower": 170,
         "Miles_per_Gallon": 15,
         "Name": "dodge challenger se",
         "Origin": "USA",
         "Weight_in_lbs": 3563,
         "Year": "1970-01-01T00:00:00.000000",
         "_deepnote_index_column": 15
        },
        {
         "Acceleration": 8,
         "Cylinders": 8,
         "Displacement": 340,
         "Horsepower": 160,
         "Miles_per_Gallon": 14,
         "Name": "plymouth 'cuda 340",
         "Origin": "USA",
         "Weight_in_lbs": 3609,
         "Year": "1970-01-01T00:00:00.000000",
         "_deepnote_index_column": 16
        },
        {
         "Acceleration": 8,
         "Cylinders": 8,
         "Displacement": 302,
         "Horsepower": 140,
         "Miles_per_Gallon": "nan",
         "Name": "ford mustang boss 302",
         "Origin": "USA",
         "Weight_in_lbs": 3353,
         "Year": "1970-01-01T00:00:00.000000",
         "_deepnote_index_column": 17
        },
        {
         "Acceleration": 9.5,
         "Cylinders": 8,
         "Displacement": 400,
         "Horsepower": 150,
         "Miles_per_Gallon": 15,
         "Name": "chevrolet monte carlo",
         "Origin": "USA",
         "Weight_in_lbs": 3761,
         "Year": "1970-01-01T00:00:00.000000",
         "_deepnote_index_column": 18
        },
        {
         "Acceleration": 10,
         "Cylinders": 8,
         "Displacement": 455,
         "Horsepower": 225,
         "Miles_per_Gallon": 14,
         "Name": "buick estate wagon (sw)",
         "Origin": "USA",
         "Weight_in_lbs": 3086,
         "Year": "1970-01-01T00:00:00.000000",
         "_deepnote_index_column": 19
        },
        {
         "Acceleration": 15,
         "Cylinders": 4,
         "Displacement": 113,
         "Horsepower": 95,
         "Miles_per_Gallon": 24,
         "Name": "toyota corona mark ii",
         "Origin": "Japan",
         "Weight_in_lbs": 2372,
         "Year": "1970-01-01T00:00:00.000000",
         "_deepnote_index_column": 20
        },
        {
         "Acceleration": 15.5,
         "Cylinders": 6,
         "Displacement": 198,
         "Horsepower": 95,
         "Miles_per_Gallon": 22,
         "Name": "plymouth duster",
         "Origin": "USA",
         "Weight_in_lbs": 2833,
         "Year": "1970-01-01T00:00:00.000000",
         "_deepnote_index_column": 21
        },
        {
         "Acceleration": 15.5,
         "Cylinders": 6,
         "Displacement": 199,
         "Horsepower": 97,
         "Miles_per_Gallon": 18,
         "Name": "amc hornet",
         "Origin": "USA",
         "Weight_in_lbs": 2774,
         "Year": "1970-01-01T00:00:00.000000",
         "_deepnote_index_column": 22
        },
        {
         "Acceleration": 16,
         "Cylinders": 6,
         "Displacement": 200,
         "Horsepower": 85,
         "Miles_per_Gallon": 21,
         "Name": "ford maverick",
         "Origin": "USA",
         "Weight_in_lbs": 2587,
         "Year": "1970-01-01T00:00:00.000000",
         "_deepnote_index_column": 23
        },
        {
         "Acceleration": 14.5,
         "Cylinders": 4,
         "Displacement": 97,
         "Horsepower": 88,
         "Miles_per_Gallon": 27,
         "Name": "datsun pl510",
         "Origin": "Japan",
         "Weight_in_lbs": 2130,
         "Year": "1970-01-01T00:00:00.000000",
         "_deepnote_index_column": 24
        },
        {
         "Acceleration": 20.5,
         "Cylinders": 4,
         "Displacement": 97,
         "Horsepower": 46,
         "Miles_per_Gallon": 26,
         "Name": "volkswagen 1131 deluxe sedan",
         "Origin": "Europe",
         "Weight_in_lbs": 1835,
         "Year": "1970-01-01T00:00:00.000000",
         "_deepnote_index_column": 25
        },
        {
         "Acceleration": 17.5,
         "Cylinders": 4,
         "Displacement": 110,
         "Horsepower": 87,
         "Miles_per_Gallon": 25,
         "Name": "peugeot 504",
         "Origin": "Europe",
         "Weight_in_lbs": 2672,
         "Year": "1970-01-01T00:00:00.000000",
         "_deepnote_index_column": 26
        },
        {
         "Acceleration": 14.5,
         "Cylinders": 4,
         "Displacement": 107,
         "Horsepower": 90,
         "Miles_per_Gallon": 24,
         "Name": "audi 100 ls",
         "Origin": "Europe",
         "Weight_in_lbs": 2430,
         "Year": "1970-01-01T00:00:00.000000",
         "_deepnote_index_column": 27
        },
        {
         "Acceleration": 17.5,
         "Cylinders": 4,
         "Displacement": 104,
         "Horsepower": 95,
         "Miles_per_Gallon": 25,
         "Name": "saab 99e",
         "Origin": "Europe",
         "Weight_in_lbs": 2375,
         "Year": "1970-01-01T00:00:00.000000",
         "_deepnote_index_column": 28
        },
        {
         "Acceleration": 12.5,
         "Cylinders": 4,
         "Displacement": 121,
         "Horsepower": 113,
         "Miles_per_Gallon": 26,
         "Name": "bmw 2002",
         "Origin": "Europe",
         "Weight_in_lbs": 2234,
         "Year": "1970-01-01T00:00:00.000000",
         "_deepnote_index_column": 29
        },
        {
         "Acceleration": 15,
         "Cylinders": 6,
         "Displacement": 199,
         "Horsepower": 90,
         "Miles_per_Gallon": 21,
         "Name": "amc gremlin",
         "Origin": "USA",
         "Weight_in_lbs": 2648,
         "Year": "1970-01-01T00:00:00.000000",
         "_deepnote_index_column": 30
        },
        {
         "Acceleration": 14,
         "Cylinders": 8,
         "Displacement": 360,
         "Horsepower": 215,
         "Miles_per_Gallon": 10,
         "Name": "ford f250",
         "Origin": "USA",
         "Weight_in_lbs": 4615,
         "Year": "1970-01-01T00:00:00.000000",
         "_deepnote_index_column": 31
        },
        {
         "Acceleration": 15,
         "Cylinders": 8,
         "Displacement": 307,
         "Horsepower": 200,
         "Miles_per_Gallon": 10,
         "Name": "chevy c20",
         "Origin": "USA",
         "Weight_in_lbs": 4376,
         "Year": "1970-01-01T00:00:00.000000",
         "_deepnote_index_column": 32
        },
        {
         "Acceleration": 13.5,
         "Cylinders": 8,
         "Displacement": 318,
         "Horsepower": 210,
         "Miles_per_Gallon": 11,
         "Name": "dodge d200",
         "Origin": "USA",
         "Weight_in_lbs": 4382,
         "Year": "1970-01-01T00:00:00.000000",
         "_deepnote_index_column": 33
        },
        {
         "Acceleration": 18.5,
         "Cylinders": 8,
         "Displacement": 304,
         "Horsepower": 193,
         "Miles_per_Gallon": 9,
         "Name": "hi 1200d",
         "Origin": "USA",
         "Weight_in_lbs": 4732,
         "Year": "1970-01-01T00:00:00.000000",
         "_deepnote_index_column": 34
        },
        {
         "Acceleration": 14.5,
         "Cylinders": 4,
         "Displacement": 97,
         "Horsepower": 88,
         "Miles_per_Gallon": 27,
         "Name": "datsun pl510",
         "Origin": "Japan",
         "Weight_in_lbs": 2130,
         "Year": "1971-01-01T00:00:00.000000",
         "_deepnote_index_column": 35
        },
        {
         "Acceleration": 15.5,
         "Cylinders": 4,
         "Displacement": 140,
         "Horsepower": 90,
         "Miles_per_Gallon": 28,
         "Name": "chevrolet vega 2300",
         "Origin": "USA",
         "Weight_in_lbs": 2264,
         "Year": "1971-01-01T00:00:00.000000",
         "_deepnote_index_column": 36
        },
        {
         "Acceleration": 14,
         "Cylinders": 4,
         "Displacement": 113,
         "Horsepower": 95,
         "Miles_per_Gallon": 25,
         "Name": "toyota corona",
         "Origin": "Japan",
         "Weight_in_lbs": 2228,
         "Year": "1971-01-01T00:00:00.000000",
         "_deepnote_index_column": 37
        },
        {
         "Acceleration": 19,
         "Cylinders": 4,
         "Displacement": 98,
         "Horsepower": "nan",
         "Miles_per_Gallon": 25,
         "Name": "ford pinto",
         "Origin": "USA",
         "Weight_in_lbs": 2046,
         "Year": "1971-01-01T00:00:00.000000",
         "_deepnote_index_column": 38
        },
        {
         "Acceleration": 20,
         "Cylinders": 4,
         "Displacement": 97,
         "Horsepower": 48,
         "Miles_per_Gallon": "nan",
         "Name": "volkswagen super beetle 117",
         "Origin": "Europe",
         "Weight_in_lbs": 1978,
         "Year": "1971-01-01T00:00:00.000000",
         "_deepnote_index_column": 39
        },
        {
         "Acceleration": 13,
         "Cylinders": 6,
         "Displacement": 232,
         "Horsepower": 100,
         "Miles_per_Gallon": 19,
         "Name": "amc gremlin",
         "Origin": "USA",
         "Weight_in_lbs": 2634,
         "Year": "1971-01-01T00:00:00.000000",
         "_deepnote_index_column": 40
        },
        {
         "Acceleration": 15.5,
         "Cylinders": 6,
         "Displacement": 225,
         "Horsepower": 105,
         "Miles_per_Gallon": 16,
         "Name": "plymouth satellite custom",
         "Origin": "USA",
         "Weight_in_lbs": 3439,
         "Year": "1971-01-01T00:00:00.000000",
         "_deepnote_index_column": 41
        },
        {
         "Acceleration": 15.5,
         "Cylinders": 6,
         "Displacement": 250,
         "Horsepower": 100,
         "Miles_per_Gallon": 17,
         "Name": "chevrolet chevelle malibu",
         "Origin": "USA",
         "Weight_in_lbs": 3329,
         "Year": "1971-01-01T00:00:00.000000",
         "_deepnote_index_column": 42
        },
        {
         "Acceleration": 15.5,
         "Cylinders": 6,
         "Displacement": 250,
         "Horsepower": 88,
         "Miles_per_Gallon": 19,
         "Name": "ford torino 500",
         "Origin": "USA",
         "Weight_in_lbs": 3302,
         "Year": "1971-01-01T00:00:00.000000",
         "_deepnote_index_column": 43
        },
        {
         "Acceleration": 15.5,
         "Cylinders": 6,
         "Displacement": 232,
         "Horsepower": 100,
         "Miles_per_Gallon": 18,
         "Name": "amc matador",
         "Origin": "USA",
         "Weight_in_lbs": 3288,
         "Year": "1971-01-01T00:00:00.000000",
         "_deepnote_index_column": 44
        },
        {
         "Acceleration": 12,
         "Cylinders": 8,
         "Displacement": 350,
         "Horsepower": 165,
         "Miles_per_Gallon": 14,
         "Name": "chevrolet impala",
         "Origin": "USA",
         "Weight_in_lbs": 4209,
         "Year": "1971-01-01T00:00:00.000000",
         "_deepnote_index_column": 45
        },
        {
         "Acceleration": 11.5,
         "Cylinders": 8,
         "Displacement": 400,
         "Horsepower": 175,
         "Miles_per_Gallon": 14,
         "Name": "pontiac catalina brougham",
         "Origin": "USA",
         "Weight_in_lbs": 4464,
         "Year": "1971-01-01T00:00:00.000000",
         "_deepnote_index_column": 46
        },
        {
         "Acceleration": 13.5,
         "Cylinders": 8,
         "Displacement": 351,
         "Horsepower": 153,
         "Miles_per_Gallon": 14,
         "Name": "ford galaxie 500",
         "Origin": "USA",
         "Weight_in_lbs": 4154,
         "Year": "1971-01-01T00:00:00.000000",
         "_deepnote_index_column": 47
        },
        {
         "Acceleration": 13,
         "Cylinders": 8,
         "Displacement": 318,
         "Horsepower": 150,
         "Miles_per_Gallon": 14,
         "Name": "plymouth fury iii",
         "Origin": "USA",
         "Weight_in_lbs": 4096,
         "Year": "1971-01-01T00:00:00.000000",
         "_deepnote_index_column": 48
        },
        {
         "Acceleration": 11.5,
         "Cylinders": 8,
         "Displacement": 383,
         "Horsepower": 180,
         "Miles_per_Gallon": 12,
         "Name": "dodge monaco (sw)",
         "Origin": "USA",
         "Weight_in_lbs": 4955,
         "Year": "1971-01-01T00:00:00.000000",
         "_deepnote_index_column": 49
        },
        {
         "Acceleration": 12,
         "Cylinders": 8,
         "Displacement": 400,
         "Horsepower": 170,
         "Miles_per_Gallon": 13,
         "Name": "ford country squire (sw)",
         "Origin": "USA",
         "Weight_in_lbs": 4746,
         "Year": "1971-01-01T00:00:00.000000",
         "_deepnote_index_column": 50
        },
        {
         "Acceleration": 12,
         "Cylinders": 8,
         "Displacement": 400,
         "Horsepower": 175,
         "Miles_per_Gallon": 13,
         "Name": "pontiac safari (sw)",
         "Origin": "USA",
         "Weight_in_lbs": 5140,
         "Year": "1971-01-01T00:00:00.000000",
         "_deepnote_index_column": 51
        },
        {
         "Acceleration": 13.5,
         "Cylinders": 6,
         "Displacement": 258,
         "Horsepower": 110,
         "Miles_per_Gallon": 18,
         "Name": "amc hornet sportabout (sw)",
         "Origin": "USA",
         "Weight_in_lbs": 2962,
         "Year": "1971-01-01T00:00:00.000000",
         "_deepnote_index_column": 52
        },
        {
         "Acceleration": 19,
         "Cylinders": 4,
         "Displacement": 140,
         "Horsepower": 72,
         "Miles_per_Gallon": 22,
         "Name": "chevrolet vega (sw)",
         "Origin": "USA",
         "Weight_in_lbs": 2408,
         "Year": "1971-01-01T00:00:00.000000",
         "_deepnote_index_column": 53
        },
        {
         "Acceleration": 15,
         "Cylinders": 6,
         "Displacement": 250,
         "Horsepower": 100,
         "Miles_per_Gallon": 19,
         "Name": "pontiac firebird",
         "Origin": "USA",
         "Weight_in_lbs": 3282,
         "Year": "1971-01-01T00:00:00.000000",
         "_deepnote_index_column": 54
        }
       ]
      },
      "text/html": [
       "<div>\n",
       "<style scoped>\n",
       "    .dataframe tbody tr th:only-of-type {\n",
       "        vertical-align: middle;\n",
       "    }\n",
       "\n",
       "    .dataframe tbody tr th {\n",
       "        vertical-align: top;\n",
       "    }\n",
       "\n",
       "    .dataframe thead th {\n",
       "        text-align: right;\n",
       "    }\n",
       "</style>\n",
       "<table border=\"1\" class=\"dataframe\">\n",
       "  <thead>\n",
       "    <tr style=\"text-align: right;\">\n",
       "      <th></th>\n",
       "      <th>Name</th>\n",
       "      <th>Miles_per_Gallon</th>\n",
       "      <th>Cylinders</th>\n",
       "      <th>Displacement</th>\n",
       "      <th>Horsepower</th>\n",
       "      <th>Weight_in_lbs</th>\n",
       "      <th>Acceleration</th>\n",
       "      <th>Year</th>\n",
       "      <th>Origin</th>\n",
       "    </tr>\n",
       "  </thead>\n",
       "  <tbody>\n",
       "    <tr>\n",
       "      <th>0</th>\n",
       "      <td>chevrolet chevelle malibu</td>\n",
       "      <td>18.0</td>\n",
       "      <td>8</td>\n",
       "      <td>307.0</td>\n",
       "      <td>130.0</td>\n",
       "      <td>3504</td>\n",
       "      <td>12.0</td>\n",
       "      <td>1970-01-01</td>\n",
       "      <td>USA</td>\n",
       "    </tr>\n",
       "    <tr>\n",
       "      <th>1</th>\n",
       "      <td>buick skylark 320</td>\n",
       "      <td>15.0</td>\n",
       "      <td>8</td>\n",
       "      <td>350.0</td>\n",
       "      <td>165.0</td>\n",
       "      <td>3693</td>\n",
       "      <td>11.5</td>\n",
       "      <td>1970-01-01</td>\n",
       "      <td>USA</td>\n",
       "    </tr>\n",
       "    <tr>\n",
       "      <th>2</th>\n",
       "      <td>plymouth satellite</td>\n",
       "      <td>18.0</td>\n",
       "      <td>8</td>\n",
       "      <td>318.0</td>\n",
       "      <td>150.0</td>\n",
       "      <td>3436</td>\n",
       "      <td>11.0</td>\n",
       "      <td>1970-01-01</td>\n",
       "      <td>USA</td>\n",
       "    </tr>\n",
       "    <tr>\n",
       "      <th>3</th>\n",
       "      <td>amc rebel sst</td>\n",
       "      <td>16.0</td>\n",
       "      <td>8</td>\n",
       "      <td>304.0</td>\n",
       "      <td>150.0</td>\n",
       "      <td>3433</td>\n",
       "      <td>12.0</td>\n",
       "      <td>1970-01-01</td>\n",
       "      <td>USA</td>\n",
       "    </tr>\n",
       "    <tr>\n",
       "      <th>4</th>\n",
       "      <td>ford torino</td>\n",
       "      <td>17.0</td>\n",
       "      <td>8</td>\n",
       "      <td>302.0</td>\n",
       "      <td>140.0</td>\n",
       "      <td>3449</td>\n",
       "      <td>10.5</td>\n",
       "      <td>1970-01-01</td>\n",
       "      <td>USA</td>\n",
       "    </tr>\n",
       "    <tr>\n",
       "      <th>...</th>\n",
       "      <td>...</td>\n",
       "      <td>...</td>\n",
       "      <td>...</td>\n",
       "      <td>...</td>\n",
       "      <td>...</td>\n",
       "      <td>...</td>\n",
       "      <td>...</td>\n",
       "      <td>...</td>\n",
       "      <td>...</td>\n",
       "    </tr>\n",
       "    <tr>\n",
       "      <th>401</th>\n",
       "      <td>ford mustang gl</td>\n",
       "      <td>27.0</td>\n",
       "      <td>4</td>\n",
       "      <td>140.0</td>\n",
       "      <td>86.0</td>\n",
       "      <td>2790</td>\n",
       "      <td>15.6</td>\n",
       "      <td>1982-01-01</td>\n",
       "      <td>USA</td>\n",
       "    </tr>\n",
       "    <tr>\n",
       "      <th>402</th>\n",
       "      <td>vw pickup</td>\n",
       "      <td>44.0</td>\n",
       "      <td>4</td>\n",
       "      <td>97.0</td>\n",
       "      <td>52.0</td>\n",
       "      <td>2130</td>\n",
       "      <td>24.6</td>\n",
       "      <td>1982-01-01</td>\n",
       "      <td>Europe</td>\n",
       "    </tr>\n",
       "    <tr>\n",
       "      <th>403</th>\n",
       "      <td>dodge rampage</td>\n",
       "      <td>32.0</td>\n",
       "      <td>4</td>\n",
       "      <td>135.0</td>\n",
       "      <td>84.0</td>\n",
       "      <td>2295</td>\n",
       "      <td>11.6</td>\n",
       "      <td>1982-01-01</td>\n",
       "      <td>USA</td>\n",
       "    </tr>\n",
       "    <tr>\n",
       "      <th>404</th>\n",
       "      <td>ford ranger</td>\n",
       "      <td>28.0</td>\n",
       "      <td>4</td>\n",
       "      <td>120.0</td>\n",
       "      <td>79.0</td>\n",
       "      <td>2625</td>\n",
       "      <td>18.6</td>\n",
       "      <td>1982-01-01</td>\n",
       "      <td>USA</td>\n",
       "    </tr>\n",
       "    <tr>\n",
       "      <th>405</th>\n",
       "      <td>chevy s-10</td>\n",
       "      <td>31.0</td>\n",
       "      <td>4</td>\n",
       "      <td>119.0</td>\n",
       "      <td>82.0</td>\n",
       "      <td>2720</td>\n",
       "      <td>19.4</td>\n",
       "      <td>1982-01-01</td>\n",
       "      <td>USA</td>\n",
       "    </tr>\n",
       "  </tbody>\n",
       "</table>\n",
       "<p>406 rows × 9 columns</p>\n",
       "</div>"
      ],
      "text/plain": [
       "                          Name  Miles_per_Gallon  Cylinders  Displacement  \\\n",
       "0    chevrolet chevelle malibu              18.0          8         307.0   \n",
       "1            buick skylark 320              15.0          8         350.0   \n",
       "2           plymouth satellite              18.0          8         318.0   \n",
       "3                amc rebel sst              16.0          8         304.0   \n",
       "4                  ford torino              17.0          8         302.0   \n",
       "..                         ...               ...        ...           ...   \n",
       "401            ford mustang gl              27.0          4         140.0   \n",
       "402                  vw pickup              44.0          4          97.0   \n",
       "403              dodge rampage              32.0          4         135.0   \n",
       "404                ford ranger              28.0          4         120.0   \n",
       "405                 chevy s-10              31.0          4         119.0   \n",
       "\n",
       "     Horsepower  Weight_in_lbs  Acceleration       Year  Origin  \n",
       "0         130.0           3504          12.0 1970-01-01     USA  \n",
       "1         165.0           3693          11.5 1970-01-01     USA  \n",
       "2         150.0           3436          11.0 1970-01-01     USA  \n",
       "3         150.0           3433          12.0 1970-01-01     USA  \n",
       "4         140.0           3449          10.5 1970-01-01     USA  \n",
       "..          ...            ...           ...        ...     ...  \n",
       "401        86.0           2790          15.6 1982-01-01     USA  \n",
       "402        52.0           2130          24.6 1982-01-01  Europe  \n",
       "403        84.0           2295          11.6 1982-01-01     USA  \n",
       "404        79.0           2625          18.6 1982-01-01     USA  \n",
       "405        82.0           2720          19.4 1982-01-01     USA  \n",
       "\n",
       "[406 rows x 9 columns]"
      ]
     },
     "execution_count": 23,
     "metadata": {},
     "output_type": "execute_result"
    }
   ],
   "source": [
    "cars"
   ]
  },
  {
   "cell_type": "markdown",
   "metadata": {
    "cell_id": "00018-5b4300e4-89be-44e9-892d-2708d97a4921",
    "deepnote_cell_type": "markdown",
    "tags": []
   },
   "source": [
    "### Importar librerías\n",
    "\n",
    "**Deepnote** como una herramienta creada para el desarrollo de proyectos de **ciencia de datos**, incorpora por defecto muchas **librerías** ampliamente utilizadas por los científicos de datos. Por lo tanto, no necesitas instalarlas y podrás simplemente **crear** un nuevo **notebook** y empezar a **trabajar** sin alguna configuración extra.\n",
    "\n",
    "A continuación, te muestro **cómo incluir** algunas de las **librerías** más utilizadas en ciencia de datos en tu proyecto:\n",
    "\n",
    "- 📊 **matplotlib**: Generación de gráficos a partir de listas o arrays.\n",
    "- 🧑‍💻 **numpy**: Cómputo científico para la manipulación de vectores.\n",
    "- 🧑‍💻 **pandas**: Manipulación y análisis de datos de tablas y series temporales.\n",
    "- 🧑‍💻 **scipy**: Herramientas y algoritmos matemáticos.\n",
    "- 📊 **seaborn**: Visualización de datos estadísticos."
   ]
  },
  {
   "cell_type": "code",
   "execution_count": null,
   "metadata": {
    "cell_id": "00015-298c2590-a1cd-4bfd-83ea-cc77ec49ee6d",
    "deepnote_cell_type": "code",
    "deepnote_to_be_reexecuted": false,
    "execution_millis": 9,
    "execution_start": 1626393799278,
    "source_hash": "7748c1b",
    "tags": []
   },
   "outputs": [],
   "source": [
    "import matplotlib.pyplot as plt\n",
    "import numpy as np\n",
    "import pandas as pd\n",
    "import scipy as sc\n",
    "import seaborn as sns"
   ]
  },
  {
   "cell_type": "markdown",
   "metadata": {
    "cell_id": "00008-a948146b-1424-429b-b004-faea8b12e4b3",
    "deepnote_cell_type": "markdown",
    "tags": []
   },
   "source": [
    "## Atajos de teclado\n",
    "\n",
    "**Deepnote** tiene múltiples atajos de teclado para agilizar tu desarrollo de código dentro de él. Aprendértelos todos no es obligatorio, ni mucho menos necesario. Siéntete tranquilo. Siempre podrás consultarlos presionando `Command/Ctrl + P` o `Esc` y escribiendo _shortcuts_. 😋\n",
    "\n",
    "Personalmente, los únicos que te recomendaría memorizar son los comandos para **agregar**, **editar** y **ejecutar** bloques. ✨\n",
    "\n",
    "### Acciones de bloque\n",
    "\n",
    "| Comando                         | Función                                                  |\n",
    "|---------------------------------|----------------------------------------------------------|\n",
    "| `Shift + Enter`                 | Ejecutar bloque y pasar al siguiente                     |\n",
    "| `Option/Alt + Enter`            | Ejecutar bloque y crear un bloque de código nuevo debajo |\n",
    "| `Command/Ctrl + Enter`          | Ejecutar bloque                                          |\n",
    "| `Command/Ctrl + Shift + .`      | Detener ejecución                                        |\n",
    "| `Command/Ctrl + Shift + H`      | Ocultar / mostrar la salida del bloque                   |\n",
    "| `Command/Ctrl + Shift + X`      | Limpiar salida del bloque enfocado                       |\n",
    "| `Command/Ctrl + Option/Alt + H` | Ocultar / mostrar la salida del bloque                   |\n",
    "| `Command/Ctrl + Shift + Del`    | Eliminar bloque                                          |\n",
    "| `Command/Ctrl + Shift + M`      | Convertir bloque a markdown                              |\n",
    "| `Command/Ctrl + Shift + Y`      | Convertir bloque a código                                |\n",
    "| `Option/Alt + Shift + ↑`.       | Mover bloque arriba                                      |\n",
    "| `Option/Alt + Shift + ↓`        | Mover bloque abajo                                       |\n",
    "| `Command/Ctrl + Shift + D`      | Duplicar bloque                                          |\n",
    "| `Command/Ctrl + K`              | Agregar bloque arriba                                    |\n",
    "| `Command/Ctrl + J`              | Agregar bloque abajo                                     |\n",
    "| `Enter`                         | Abrir modo de edición de markdown                        |\n",
    "| `Shift + Enter`                 | Renderizar markdown                                      |\n",
    "| `Command/Ctrl + Option/Alt + C` | Añadir comentario                                        |\n",
    "| `Command/Ctrl + .`              | Abrir acciones de bloque                                 |\n",
    "\n",
    "### Generales\n",
    "\n",
    "| Comando                    | Función                               |\n",
    "|----------------------------|---------------------------------------|\n",
    "| `Command/Ctrl + Z`         | Deshacer la última operación          |\n",
    "| `Command/Ctrl + Shift + Z` | Volver a realizar la última operación |\n",
    "| `↑`                        | Mover arriba en los bloques           |\n",
    "| `↓`                        | Mover abajo en los bloques            |\n",
    "| `Command/Ctrl + P`         | Abrir paleta de comandos              |\n",
    "| `esc`                      | Abrir paleta de comandos              |\n",
    "| `Command/Ctrl + [`         | Regresar en archivos                  |\n",
    "| `Command/Ctrl + ]`         | Avanzar en archivos                   |"
   ]
  },
  {
   "cell_type": "markdown",
   "metadata": {
    "cell_id": "00009-6bca65d3-cb34-470b-9056-012908571d79",
    "deepnote_cell_type": "markdown",
    "tags": []
   },
   "source": [
    "## Información de sesión\n",
    "\n",
    "👌 Es una buena práctica poner la información de sesión al final de cada notebook que realices. De esta forma, otras personas podrán ver qué versiones de librerías utilizaste para tu análisis. Además, si llegas a tener un problema, puedes compartir esta información con la comunidad para que sea más fácil replicar el error y te puedan ayudar.\n",
    " \n",
    "En el caso de **Deepnote**, podrías invitarlos a colaborar para que te ayuden o podrías publicar tu notebook para que otros puedan ejecutar tu código. Tal como este notebook. Para publicar tu notebook sólo tienes que presionar el botón `Share` situado en la parte superior derecha de la barra de navegación y activar el botón `Publishing`. 😋"
   ]
  },
  {
   "cell_type": "code",
   "execution_count": null,
   "metadata": {
    "cell_id": "00012-4ab250fb-ab28-4b2a-a663-6969e3efb243",
    "deepnote_cell_type": "code",
    "deepnote_to_be_reexecuted": false,
    "execution_millis": 198,
    "execution_start": 1626393799338,
    "is_output_hidden": false,
    "source_hash": "e2b5e40c",
    "tags": []
   },
   "outputs": [
    {
     "data": {
      "text/html": [
       "<details>\n",
       "<summary>Click to view session information</summary>\n",
       "<pre>\n",
       "-----\n",
       "altair              4.1.0\n",
       "matplotlib          3.4.2\n",
       "numpy               1.19.5\n",
       "pandas              1.2.5\n",
       "psycopg2            2.9.1 (dt dec pq3 ext lo64)\n",
       "scipy               1.7.0\n",
       "seaborn             0.11.1\n",
       "session_info        1.0.0\n",
       "vega_datasets       0.9.0\n",
       "-----\n",
       "</pre>\n",
       "<details>\n",
       "<summary>Click to view modules imported as dependencies</summary>\n",
       "<pre>\n",
       "PIL                         8.3.1\n",
       "attr                        21.2.0\n",
       "backcall                    0.2.0\n",
       "beta_ufunc                  NA\n",
       "binom_ufunc                 NA\n",
       "certifi                     2021.05.30\n",
       "cffi                        1.14.5\n",
       "chardet                     4.0.0\n",
       "cycler                      0.10.0\n",
       "cython_runtime              NA\n",
       "dateutil                    2.8.1\n",
       "debugpy                     1.3.0\n",
       "decorator                   5.0.9\n",
       "defusedxml                  0.7.1\n",
       "entrypoints                 0.3\n",
       "idna                        2.10\n",
       "importlib_metadata          NA\n",
       "ipykernel                   6.0.1\n",
       "ipython_genutils            0.2.0\n",
       "jedi                        0.17.2\n",
       "jinja2                      3.0.1\n",
       "jsonschema                  3.2.0\n",
       "kiwisolver                  1.3.1\n",
       "markupsafe                  2.0.1\n",
       "matplotlib_inline           NA\n",
       "mpl_toolkits                NA\n",
       "nbinom_ufunc                NA\n",
       "parso                       0.7.1\n",
       "pexpect                     4.8.0\n",
       "pickleshare                 0.7.5\n",
       "prompt_toolkit              3.0.19\n",
       "ptyprocess                  0.7.0\n",
       "pvectorc                    NA\n",
       "pygments                    2.9.0\n",
       "pyparsing                   2.4.7\n",
       "pyrsistent                  NA\n",
       "pytz                        2021.1\n",
       "requests                    2.25.1\n",
       "six                         1.16.0\n",
       "storemagic                  NA\n",
       "toolz                       0.11.1\n",
       "tornado                     6.1\n",
       "traitlets                   5.0.5\n",
       "typing_extensions           NA\n",
       "urllib3                     1.26.6\n",
       "variable_explorer_helpers   NA\n",
       "wcwidth                     0.2.5\n",
       "zipp                        NA\n",
       "zmq                         22.1.0\n",
       "</pre>\n",
       "</details> <!-- seems like this ends pre, so might as well be explicit -->\n",
       "<pre>\n",
       "-----\n",
       "IPython             7.25.0\n",
       "jupyter_client      6.1.12\n",
       "jupyter_core        4.7.1\n",
       "notebook            7.0.0.dev0\n",
       "-----\n",
       "Python 3.7.11 (default, Jun 29 2021, 20:40:03) [GCC 8.3.0]\n",
       "Linux-5.4.95-42.163.amzn2.x86_64-x86_64-with-debian-10.10\n",
       "-----\n",
       "Session information updated at 2021-07-16 00:03\n",
       "</pre>\n",
       "</details>"
      ],
      "text/plain": [
       "<IPython.core.display.HTML object>"
      ]
     },
     "execution_count": 25,
     "metadata": {},
     "output_type": "execute_result"
    }
   ],
   "source": [
    "import session_info\n",
    "\n",
    "session_info.show()"
   ]
  },
  {
   "cell_type": "markdown",
   "metadata": {
    "created_in_deepnote_cell": true,
    "deepnote_cell_type": "markdown",
    "tags": []
   },
   "source": [
    "<a style='text-decoration:none;line-height:16px;display:flex;color:#5B5B62;padding:10px;justify-content:end;' href='https://deepnote.com?utm_source=created-in-deepnote-cell&projectId=0dbeb12b-4fb6-473e-ac92-7a66371f1e3a' target=\"_blank\">\n",
    "<img alt='Created in deepnote.com' style='display:inline;max-height:16px;margin:0px;margin-right:7.5px;' src='data:image/svg+xml;base64,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' > </img>\n",
    "Created in <span style='font-weight:600;margin-left:4px;'>Deepnote</span></a>"
   ]
  }
 ],
 "metadata": {
  "deepnote": {
   "is_reactive": false
  },
  "deepnote_execution_queue": [],
  "deepnote_notebook_id": "42c9fd95-1492-454b-ba72-8fd33468029e",
  "kernelspec": {
   "display_name": "Python 3 (ipykernel)",
   "language": "python",
   "name": "python3"
  },
  "language_info": {
   "codemirror_mode": {
    "name": "ipython",
    "version": 3
   },
   "file_extension": ".py",
   "mimetype": "text/x-python",
   "name": "python",
   "nbconvert_exporter": "python",
   "pygments_lexer": "ipython3",
   "version": "3.10.9"
  }
 },
 "nbformat": 4,
 "nbformat_minor": 2
}
