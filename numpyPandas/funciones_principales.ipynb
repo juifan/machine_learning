{
 "cells": [
  {
   "cell_type": "code",
   "execution_count": 1,
   "id": "6f53b412",
   "metadata": {},
   "outputs": [],
   "source": [
    "import numpy as np"
   ]
  },
  {
   "cell_type": "code",
   "execution_count": 3,
   "id": "ef8e9dfd",
   "metadata": {},
   "outputs": [
    {
     "data": {
      "text/plain": [
       "array([ 9,  8, 12, 19, 19, 18, 17,  1, 13, 18])"
      ]
     },
     "execution_count": 3,
     "metadata": {},
     "output_type": "execute_result"
    }
   ],
   "source": [
    "arr = np.random.randint(1,20,10)\n",
    "arr"
   ]
  },
  {
   "cell_type": "code",
   "execution_count": 4,
   "id": "18af99fd",
   "metadata": {},
   "outputs": [
    {
     "data": {
      "text/plain": [
       "array([[ 9,  8, 12, 19, 19],\n",
       "       [18, 17,  1, 13, 18]])"
      ]
     },
     "execution_count": 4,
     "metadata": {},
     "output_type": "execute_result"
    }
   ],
   "source": [
    "matriz = arr.reshape(2,5)\n",
    "matriz"
   ]
  },
  {
   "cell_type": "markdown",
   "id": "23d4468d",
   "metadata": {},
   "source": [
    "## Max\n",
    "- Obtiene el numero más grande\n",
    "- En caso de una matriz se puede buscar por filas(1) y columnas(0)"
   ]
  },
  {
   "cell_type": "code",
   "execution_count": 9,
   "id": "f60af108",
   "metadata": {},
   "outputs": [
    {
     "data": {
      "text/plain": [
       "array([18, 17, 12, 19, 19])"
      ]
     },
     "execution_count": 9,
     "metadata": {},
     "output_type": "execute_result"
    }
   ],
   "source": [
    "matriz.max(0)"
   ]
  },
  {
   "cell_type": "markdown",
   "id": "cfbc8c8f",
   "metadata": {},
   "source": [
    "## argmax\n",
    "- Muestra el indice del mayor valor\n",
    "- En caso de una matriz se puede buscar por filas(1) y columnas(0)"
   ]
  },
  {
   "cell_type": "code",
   "execution_count": 11,
   "id": "ce2ca161",
   "metadata": {},
   "outputs": [
    {
     "data": {
      "text/plain": [
       "3"
      ]
     },
     "execution_count": 11,
     "metadata": {},
     "output_type": "execute_result"
    }
   ],
   "source": [
    "arr.argmax()"
   ]
  },
  {
   "cell_type": "code",
   "execution_count": 12,
   "id": "0ab3303b",
   "metadata": {},
   "outputs": [
    {
     "data": {
      "text/plain": [
       "array([1, 1, 0, 0, 0])"
      ]
     },
     "execution_count": 12,
     "metadata": {},
     "output_type": "execute_result"
    }
   ],
   "source": [
    "matriz.argmax(0)"
   ]
  },
  {
   "cell_type": "markdown",
   "id": "c862ac0e",
   "metadata": {},
   "source": [
    "## Min\n",
    "- Obtiene el numero de menor valor\n",
    "- En caso de una matriz se puede buscar por filas(1) y columnas(0)"
   ]
  },
  {
   "cell_type": "code",
   "execution_count": 13,
   "id": "7fc9084c",
   "metadata": {},
   "outputs": [
    {
     "data": {
      "text/plain": [
       "1"
      ]
     },
     "execution_count": 13,
     "metadata": {},
     "output_type": "execute_result"
    }
   ],
   "source": [
    "arr.min()"
   ]
  },
  {
   "cell_type": "code",
   "execution_count": 15,
   "id": "90c59cef",
   "metadata": {},
   "outputs": [
    {
     "data": {
      "text/plain": [
       "array([8, 1])"
      ]
     },
     "execution_count": 15,
     "metadata": {},
     "output_type": "execute_result"
    }
   ],
   "source": [
    "matriz.min(1)"
   ]
  },
  {
   "cell_type": "markdown",
   "id": "1dafcc19",
   "metadata": {},
   "source": [
    "## argmin\n",
    "- Muestra el indice del menor valor\n",
    "- En caso de una matriz se puede buscar por filas(1) y columnas(0)"
   ]
  },
  {
   "cell_type": "code",
   "execution_count": 16,
   "id": "6a085e60",
   "metadata": {},
   "outputs": [
    {
     "data": {
      "text/plain": [
       "7"
      ]
     },
     "execution_count": 16,
     "metadata": {},
     "output_type": "execute_result"
    }
   ],
   "source": [
    "arr.argmin()"
   ]
  },
  {
   "cell_type": "code",
   "execution_count": 19,
   "id": "df82bcc0",
   "metadata": {},
   "outputs": [
    {
     "data": {
      "text/plain": [
       "array([1, 2])"
      ]
     },
     "execution_count": 19,
     "metadata": {},
     "output_type": "execute_result"
    }
   ],
   "source": [
    "matriz.argmin(1)"
   ]
  },
  {
   "cell_type": "markdown",
   "id": "16d14761",
   "metadata": {},
   "source": [
    "## pick to pick\n",
    "- Muestra la diferencia del pico menor al pico mayor\n",
    "- En caso de una matriz se puede buscar por filas(1) y columnas(0)"
   ]
  },
  {
   "cell_type": "code",
   "execution_count": 21,
   "id": "67c43937",
   "metadata": {},
   "outputs": [
    {
     "data": {
      "text/plain": [
       "array([ 9,  8, 12, 19, 19, 18, 17,  1, 13, 18])"
      ]
     },
     "execution_count": 21,
     "metadata": {},
     "output_type": "execute_result"
    }
   ],
   "source": [
    "arr"
   ]
  },
  {
   "cell_type": "code",
   "execution_count": 22,
   "id": "97cb25dd",
   "metadata": {},
   "outputs": [
    {
     "data": {
      "text/plain": [
       "18"
      ]
     },
     "execution_count": 22,
     "metadata": {},
     "output_type": "execute_result"
    }
   ],
   "source": [
    "arr.ptp()"
   ]
  },
  {
   "cell_type": "code",
   "execution_count": 23,
   "id": "3649775a",
   "metadata": {},
   "outputs": [
    {
     "data": {
      "text/plain": [
       "array([[ 9,  8, 12, 19, 19],\n",
       "       [18, 17,  1, 13, 18]])"
      ]
     },
     "execution_count": 23,
     "metadata": {},
     "output_type": "execute_result"
    }
   ],
   "source": [
    "matriz"
   ]
  },
  {
   "cell_type": "code",
   "execution_count": 25,
   "id": "c67da5dd",
   "metadata": {},
   "outputs": [
    {
     "data": {
      "text/plain": [
       "array([ 9,  9, 11,  6,  1])"
      ]
     },
     "execution_count": 25,
     "metadata": {},
     "output_type": "execute_result"
    }
   ],
   "source": [
    "matriz.ptp(0)"
   ]
  },
  {
   "cell_type": "markdown",
   "id": "bdbb1c9f",
   "metadata": {},
   "source": [
    "## Percentil\n",
    "### Nota tiene que estar ordenado el array\n",
    "1. i = nk el porcentage del percentil * la cantidad de datos  \n",
    "2. Si el numero no es entero se toma el siguiente número\n",
    "3. .50 x 10 = 5\n",
    "4. si el numero es entero\n",
    "5. pk = i + (i+1)/2\n",
    "6. 5 +(5+1)/2 = 5.5\n",
    "7. Se toma la posicion entre 5.5 de la lista y se promedia\n",
    "8. 19+18/2 = \n"
   ]
  },
  {
   "cell_type": "code",
   "execution_count": 29,
   "id": "fec74be7",
   "metadata": {},
   "outputs": [
    {
     "data": {
      "text/plain": [
       "array([ 9,  8, 12, 19, 19, 18, 17,  1, 13, 18])"
      ]
     },
     "execution_count": 29,
     "metadata": {},
     "output_type": "execute_result"
    }
   ],
   "source": [
    "arr"
   ]
  },
  {
   "cell_type": "code",
   "execution_count": 30,
   "id": "afaefafc",
   "metadata": {},
   "outputs": [
    {
     "data": {
      "text/plain": [
       "15.0"
      ]
     },
     "execution_count": 30,
     "metadata": {},
     "output_type": "execute_result"
    }
   ],
   "source": [
    "np.percentile(arr,50)"
   ]
  },
  {
   "cell_type": "markdown",
   "id": "e20be33e",
   "metadata": {},
   "source": [
    "## Sort\n",
    "- ordena los numero del array"
   ]
  },
  {
   "cell_type": "code",
   "execution_count": 31,
   "id": "98e92cf4",
   "metadata": {},
   "outputs": [
    {
     "data": {
      "text/plain": [
       "array([ 1,  8,  9, 12, 13, 17, 18, 18, 19, 19])"
      ]
     },
     "execution_count": 31,
     "metadata": {},
     "output_type": "execute_result"
    }
   ],
   "source": [
    "arr.sort()\n",
    "arr"
   ]
  },
  {
   "cell_type": "markdown",
   "id": "14e3b33c",
   "metadata": {},
   "source": [
    "## median\n",
    "- obtiene la mediana"
   ]
  },
  {
   "cell_type": "code",
   "execution_count": 32,
   "id": "c4229718",
   "metadata": {},
   "outputs": [
    {
     "data": {
      "text/plain": [
       "15.0"
      ]
     },
     "execution_count": 32,
     "metadata": {},
     "output_type": "execute_result"
    }
   ],
   "source": [
    "np.median(arr)"
   ]
  },
  {
   "cell_type": "code",
   "execution_count": 34,
   "id": "f02cb1f6",
   "metadata": {},
   "outputs": [
    {
     "data": {
      "text/plain": [
       "array([ 9., 18.])"
      ]
     },
     "execution_count": 34,
     "metadata": {},
     "output_type": "execute_result"
    }
   ],
   "source": [
    "np.median(matriz,1)"
   ]
  },
  {
   "cell_type": "markdown",
   "id": "4fd75d10",
   "metadata": {},
   "source": [
    "## std\n",
    "- Obtiene la desviación estandar"
   ]
  },
  {
   "cell_type": "code",
   "execution_count": 35,
   "id": "fe18adee",
   "metadata": {},
   "outputs": [
    {
     "data": {
      "text/plain": [
       "5.678027826631356"
      ]
     },
     "execution_count": 35,
     "metadata": {},
     "output_type": "execute_result"
    }
   ],
   "source": [
    "np.std(arr)"
   ]
  },
  {
   "cell_type": "markdown",
   "id": "e3e9c284",
   "metadata": {},
   "source": [
    "## var\n",
    "- obtiene la variansa\n",
    "- La desviacion estandar elevada al cuadrado obitene la variansa"
   ]
  },
  {
   "cell_type": "code",
   "execution_count": 36,
   "id": "0d998b7a",
   "metadata": {},
   "outputs": [
    {
     "data": {
      "text/plain": [
       "32.24"
      ]
     },
     "execution_count": 36,
     "metadata": {},
     "output_type": "execute_result"
    }
   ],
   "source": [
    "np.var(arr)"
   ]
  },
  {
   "cell_type": "code",
   "execution_count": 37,
   "id": "fa92580c",
   "metadata": {},
   "outputs": [
    {
     "data": {
      "text/plain": [
       "32.24"
      ]
     },
     "execution_count": 37,
     "metadata": {},
     "output_type": "execute_result"
    }
   ],
   "source": [
    "np.std(arr) **2"
   ]
  },
  {
   "cell_type": "markdown",
   "id": "f073df3d",
   "metadata": {},
   "source": [
    "## mean\n",
    "- obtiene la media"
   ]
  },
  {
   "cell_type": "code",
   "execution_count": 38,
   "id": "9a4ef0a3",
   "metadata": {},
   "outputs": [
    {
     "data": {
      "text/plain": [
       "13.4"
      ]
     },
     "execution_count": 38,
     "metadata": {},
     "output_type": "execute_result"
    }
   ],
   "source": [
    "np.mean(arr)"
   ]
  },
  {
   "cell_type": "markdown",
   "id": "ed8365a6",
   "metadata": {},
   "source": [
    "## concatenate\n",
    "- Unir dos lista"
   ]
  },
  {
   "cell_type": "code",
   "execution_count": 46,
   "id": "ddb61238",
   "metadata": {},
   "outputs": [
    {
     "data": {
      "text/plain": [
       "array([[5, 6]])"
      ]
     },
     "execution_count": 46,
     "metadata": {},
     "output_type": "execute_result"
    }
   ],
   "source": [
    "a = np.array([[1,2],[3,4]])\n",
    "b = np.array([5,6])\n",
    "b = np.expand_dims(b,axis=0)\n",
    "b"
   ]
  },
  {
   "cell_type": "code",
   "execution_count": 49,
   "id": "409e471f",
   "metadata": {},
   "outputs": [
    {
     "data": {
      "text/plain": [
       "array([[1, 2, 5],\n",
       "       [3, 4, 6]])"
      ]
     },
     "execution_count": 49,
     "metadata": {},
     "output_type": "execute_result"
    }
   ],
   "source": [
    "np.concatenate((a,b),axis=1)"
   ]
  },
  {
   "cell_type": "code",
   "execution_count": 48,
   "id": "d1186163",
   "metadata": {},
   "outputs": [
    {
     "data": {
      "text/plain": [
       "array([[1, 2, 5],\n",
       "       [3, 4, 6]])"
      ]
     },
     "execution_count": 48,
     "metadata": {},
     "output_type": "execute_result"
    }
   ],
   "source": [
    "np.concatenate((a,b.T),axis=1)"
   ]
  },
  {
   "cell_type": "code",
   "execution_count": null,
   "id": "eea4652f",
   "metadata": {},
   "outputs": [],
   "source": []
  }
 ],
 "metadata": {
  "kernelspec": {
   "display_name": "Python 3 (ipykernel)",
   "language": "python",
   "name": "python3"
  },
  "language_info": {
   "codemirror_mode": {
    "name": "ipython",
    "version": 3
   },
   "file_extension": ".py",
   "mimetype": "text/x-python",
   "name": "python",
   "nbconvert_exporter": "python",
   "pygments_lexer": "ipython3",
   "version": "3.10.6"
  }
 },
 "nbformat": 4,
 "nbformat_minor": 5
}
