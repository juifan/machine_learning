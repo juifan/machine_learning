{
 "cells": [
  {
   "cell_type": "markdown",
   "id": "1ec68e6b",
   "metadata": {},
   "source": [
    "## Pandas\n",
    "Pandas es una librería de Python especializada en el **manejo y análisis de estructuras de datos**. El nombre viene de “Panel data”.\n",
    "- Velocidad\n",
    "- Poco código\n",
    "- Multiples formatos de archivos\n",
    "- Alineacion inteligente"
   ]
  },
  {
   "cell_type": "markdown",
   "id": "b05fab3c",
   "metadata": {},
   "source": [
    "## Pandas DataFrame\n",
    "Muy parecido a las estructuras **matriciales** trabajadas con NumPy.\n",
    "\n",
    "- Estructura principal\n",
    "- Arreglo de dos dimensiones\n",
    "- Búsqueda por índice (columnas o filas)\n",
    "- Slicing\n",
    "- Operaciones aritméticas\n",
    "- Distintos tipos de datos\n",
    "- Tamaño variable"
   ]
  },
  {
   "cell_type": "code",
   "execution_count": 1,
   "id": "a4374df0",
   "metadata": {},
   "outputs": [],
   "source": [
    "import pandas as pd"
   ]
  },
  {
   "cell_type": "code",
   "execution_count": 2,
   "id": "21d64b50",
   "metadata": {},
   "outputs": [
    {
     "data": {
      "text/plain": [
       "1      Navas\n",
       "7     Mbappe\n",
       "10    Neymar\n",
       "30     Messi\n",
       "dtype: object"
      ]
     },
     "execution_count": 2,
     "metadata": {},
     "output_type": "execute_result"
    }
   ],
   "source": [
    "psg_players = pd.Series(['Navas','Mbappe','Neymar','Messi'], index=[1,7,10,30])\n",
    "psg_players"
   ]
  },
  {
   "cell_type": "code",
   "execution_count": 3,
   "id": "0a657474",
   "metadata": {},
   "outputs": [
    {
     "data": {
      "text/plain": [
       "0     Navas\n",
       "1    Mbappe\n",
       "2    Neymar\n",
       "3     Messi\n",
       "dtype: object"
      ]
     },
     "execution_count": 3,
     "metadata": {},
     "output_type": "execute_result"
    }
   ],
   "source": [
    "pd.Series(['Navas','Mbappe','Neymar','Messi'])"
   ]
  },
  {
   "cell_type": "code",
   "execution_count": 5,
   "id": "5307a408",
   "metadata": {},
   "outputs": [
    {
     "data": {
      "text/plain": [
       "1      Navez\n",
       "7     Mbappe\n",
       "10    Neymar\n",
       "30     Messi\n",
       "dtype: object"
      ]
     },
     "execution_count": 5,
     "metadata": {},
     "output_type": "execute_result"
    }
   ],
   "source": [
    "dict_p = {1:'Navez',7:'Mbappe',10:'Neymar',30:'Messi'}\n",
    "pd.Series(dict_p)"
   ]
  },
  {
   "cell_type": "code",
   "execution_count": 6,
   "id": "548fb1cf",
   "metadata": {},
   "outputs": [
    {
     "data": {
      "text/plain": [
       "'Navas'"
      ]
     },
     "execution_count": 6,
     "metadata": {},
     "output_type": "execute_result"
    }
   ],
   "source": [
    "psg_players[1]"
   ]
  },
  {
   "cell_type": "code",
   "execution_count": 8,
   "id": "9d55df86",
   "metadata": {},
   "outputs": [
    {
     "data": {
      "text/plain": [
       "0     Navas\n",
       "1    Mbappe\n",
       "2    Neymar\n",
       "3     Messi\n",
       "dtype: object"
      ]
     },
     "execution_count": 8,
     "metadata": {},
     "output_type": "execute_result"
    }
   ],
   "source": [
    "psg = pd.Series(['Navas','Mbappe','Neymar','Messi'])\n",
    "psg"
   ]
  },
  {
   "cell_type": "code",
   "execution_count": 9,
   "id": "ed41d4e0",
   "metadata": {},
   "outputs": [
    {
     "data": {
      "text/plain": [
       "0     Navas\n",
       "1    Mbappe\n",
       "2    Neymar\n",
       "dtype: object"
      ]
     },
     "execution_count": 9,
     "metadata": {},
     "output_type": "execute_result"
    }
   ],
   "source": [
    "psg[:3]"
   ]
  },
  {
   "cell_type": "markdown",
   "id": "622a3b56",
   "metadata": {},
   "source": [
    "## Pandas series\n",
    "Es muy parecido a un array de una dimensión (**o vector**) de NumPy.\n",
    "\n",
    "- Arreglo unidimensional indexado\n",
    "- Búsqueda por índice\n",
    "- Slicing\n",
    "- Operaciones aritméticas\n",
    "- Distintos tipos de datos"
   ]
  },
  {
   "cell_type": "code",
   "execution_count": 11,
   "id": "ffa5f37e",
   "metadata": {},
   "outputs": [
    {
     "data": {
      "text/html": [
       "<div>\n",
       "<style scoped>\n",
       "    .dataframe tbody tr th:only-of-type {\n",
       "        vertical-align: middle;\n",
       "    }\n",
       "\n",
       "    .dataframe tbody tr th {\n",
       "        vertical-align: top;\n",
       "    }\n",
       "\n",
       "    .dataframe thead th {\n",
       "        text-align: right;\n",
       "    }\n",
       "</style>\n",
       "<table border=\"1\" class=\"dataframe\">\n",
       "  <thead>\n",
       "    <tr style=\"text-align: right;\">\n",
       "      <th></th>\n",
       "      <th>Jugador</th>\n",
       "      <th>Altura</th>\n",
       "      <th>Goles</th>\n",
       "    </tr>\n",
       "  </thead>\n",
       "  <tbody>\n",
       "    <tr>\n",
       "      <th>1</th>\n",
       "      <td>Navas</td>\n",
       "      <td>183.0</td>\n",
       "      <td>2</td>\n",
       "    </tr>\n",
       "    <tr>\n",
       "      <th>7</th>\n",
       "      <td>Mbappe</td>\n",
       "      <td>170.0</td>\n",
       "      <td>200</td>\n",
       "    </tr>\n",
       "    <tr>\n",
       "      <th>10</th>\n",
       "      <td>Neymar</td>\n",
       "      <td>170.0</td>\n",
       "      <td>200</td>\n",
       "    </tr>\n",
       "    <tr>\n",
       "      <th>30</th>\n",
       "      <td>Messi</td>\n",
       "      <td>165.0</td>\n",
       "      <td>200</td>\n",
       "    </tr>\n",
       "  </tbody>\n",
       "</table>\n",
       "</div>"
      ],
      "text/plain": [
       "   Jugador  Altura  Goles\n",
       "1    Navas   183.0      2\n",
       "7   Mbappe   170.0    200\n",
       "10  Neymar   170.0    200\n",
       "30   Messi   165.0    200"
      ]
     },
     "execution_count": 11,
     "metadata": {},
     "output_type": "execute_result"
    }
   ],
   "source": [
    "dict_psg= {'Jugador':['Navas','Mbappe','Neymar','Messi'],\n",
    " 'Altura': [183.0,170.0,170.0,165.0],\n",
    " 'Goles': [2,200,200,200]}\n",
    "df_players = pd.DataFrame(dict_psg, index=[1,7,10,30])\n",
    "df_players"
   ]
  },
  {
   "cell_type": "code",
   "execution_count": 12,
   "id": "864ac0d1",
   "metadata": {},
   "outputs": [
    {
     "data": {
      "text/plain": [
       "Index(['Jugador', 'Altura', 'Goles'], dtype='object')"
      ]
     },
     "execution_count": 12,
     "metadata": {},
     "output_type": "execute_result"
    }
   ],
   "source": [
    "df_players.columns"
   ]
  },
  {
   "cell_type": "code",
   "execution_count": 13,
   "id": "8fe2a9ac",
   "metadata": {},
   "outputs": [
    {
     "data": {
      "text/plain": [
       "Int64Index([1, 7, 10, 30], dtype='int64')"
      ]
     },
     "execution_count": 13,
     "metadata": {},
     "output_type": "execute_result"
    }
   ],
   "source": [
    "df_players.index"
   ]
  }
 ],
 "metadata": {
  "kernelspec": {
   "display_name": "Python 3 (ipykernel)",
   "language": "python",
   "name": "python3"
  },
  "language_info": {
   "codemirror_mode": {
    "name": "ipython",
    "version": 3
   },
   "file_extension": ".py",
   "mimetype": "text/x-python",
   "name": "python",
   "nbconvert_exporter": "python",
   "pygments_lexer": "ipython3",
   "version": "3.10.6"
  }
 },
 "nbformat": 4,
 "nbformat_minor": 5
}
